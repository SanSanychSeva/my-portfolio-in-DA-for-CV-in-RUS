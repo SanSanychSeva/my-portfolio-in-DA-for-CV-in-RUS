{
 "cells": [
  {
   "cell_type": "markdown",
   "id": "d38d2e31",
   "metadata": {},
   "source": [
    "# Проект: автоматизация дашборда с анализом данных о поведении пользователей статей Яндекс-Дзена"
   ]
  },
  {
   "cell_type": "markdown",
   "id": "18719965",
   "metadata": {
    "toc": true
   },
   "source": [
    "<h1>Table of Contents<span class=\"tocSkip\"></span></h1>\n",
    "<div class=\"toc\"><ul class=\"toc-item\"><li><span><a href=\"#Цели-и-задачи-данного-notebook-в-составе-Проекта\" data-toc-modified-id=\"Цели-и-задачи-данного-notebook-в-составе-Проекта-1\"><span class=\"toc-item-num\">1&nbsp;&nbsp;</span>Цели и задачи данного notebook в составе Проекта</a></span><ul class=\"toc-item\"><li><span><a href=\"#Цель:\" data-toc-modified-id=\"Цель:-1.1\"><span class=\"toc-item-num\">1.1&nbsp;&nbsp;</span>Цель:</a></span></li><li><span><a href=\"#Решаемые-задачи:\" data-toc-modified-id=\"Решаемые-задачи:-1.2\"><span class=\"toc-item-num\">1.2&nbsp;&nbsp;</span>Решаемые задачи:</a></span></li></ul></li><li><span><a href=\"#Выгрузка-из-БД-файла-исходных-данных\" data-toc-modified-id=\"Выгрузка-из-БД-файла-исходных-данных-2\"><span class=\"toc-item-num\">2&nbsp;&nbsp;</span>Выгрузка из БД файла исходных данных</a></span></li><li><span><a href=\"#Изучение-полученных-данных\" data-toc-modified-id=\"Изучение-полученных-данных-3\"><span class=\"toc-item-num\">3&nbsp;&nbsp;</span>Изучение полученных данных</a></span><ul class=\"toc-item\"><li><span><a href=\"#Уникальные-значения-/-статистика-диапазона-значений-полей-таблицы\" data-toc-modified-id=\"Уникальные-значения-/-статистика-диапазона-значений-полей-таблицы-3.1\"><span class=\"toc-item-num\">3.1&nbsp;&nbsp;</span>Уникальные значения / статистика диапазона значений полей таблицы</a></span><ul class=\"toc-item\"><li><span><a href=\"#поле-item_topic---тип-object-(строка):\" data-toc-modified-id=\"поле-item_topic---тип-object-(строка):-3.1.1\"><span class=\"toc-item-num\">3.1.1&nbsp;&nbsp;</span>поле <code>item_topic</code> - тип object (строка):</a></span></li><li><span><a href=\"#поле-source_topic---тип-object-(строка):\" data-toc-modified-id=\"поле-source_topic---тип-object-(строка):-3.1.2\"><span class=\"toc-item-num\">3.1.2&nbsp;&nbsp;</span>поле <code>source_topic</code> - тип object (строка):</a></span></li><li><span><a href=\"#Выводы-по-темам:\" data-toc-modified-id=\"Выводы-по-темам:-3.1.3\"><span class=\"toc-item-num\">3.1.3&nbsp;&nbsp;</span>Выводы по темам:</a></span></li><li><span><a href=\"#поле-age_segment---тип-object-(строка):\" data-toc-modified-id=\"поле-age_segment---тип-object-(строка):-3.1.4\"><span class=\"toc-item-num\">3.1.4&nbsp;&nbsp;</span>поле <code>age_segment</code> - тип object (строка):</a></span></li><li><span><a href=\"#поле-dt---тип-datetime-(временная-метка)\" data-toc-modified-id=\"поле-dt---тип-datetime-(временная-метка)-3.1.5\"><span class=\"toc-item-num\">3.1.5&nbsp;&nbsp;</span>поле <code>dt</code> - тип datetime (временная метка)</a></span></li><li><span><a href=\"#Выводы-по-временным-меткам-данных:\" data-toc-modified-id=\"Выводы-по-временным-меткам-данных:-3.1.6\"><span class=\"toc-item-num\">3.1.6&nbsp;&nbsp;</span>Выводы по временным меткам данных:</a></span></li><li><span><a href=\"#поле-visits---тип-int-(кол-во-взаимодействий-с-пользователями)\" data-toc-modified-id=\"поле-visits---тип-int-(кол-во-взаимодействий-с-пользователями)-3.1.7\"><span class=\"toc-item-num\">3.1.7&nbsp;&nbsp;</span>поле <code>visits</code> - тип int (кол-во взаимодействий с пользователями)</a></span></li><li><span><a href=\"#Выводы-и-предположения-по-полю-visits:\" data-toc-modified-id=\"Выводы-и-предположения-по-полю-visits:-3.1.8\"><span class=\"toc-item-num\">3.1.8&nbsp;&nbsp;</span>Выводы и предположения по полю visits:</a></span></li></ul></li><li><span><a href=\"#Проверка-дупликатов:\" data-toc-modified-id=\"Проверка-дупликатов:-3.2\"><span class=\"toc-item-num\">3.2&nbsp;&nbsp;</span>Проверка дупликатов:</a></span></li><li><span><a href=\"#Выводы-по-необходимым-модификациям-данных-для-загрузки-в-Tableau-Public\" data-toc-modified-id=\"Выводы-по-необходимым-модификациям-данных-для-загрузки-в-Tableau-Public-3.3\"><span class=\"toc-item-num\">3.3&nbsp;&nbsp;</span>Выводы по необходимым модификациям данных для загрузки в Tableau Public</a></span></li></ul></li><li><span><a href=\"#Модификация-датасета-под-требования-Tableau-и-сохранение-в-файл-dash_visits.csv-для-загрузки-в-Tableau-Public\" data-toc-modified-id=\"Модификация-датасета-под-требования-Tableau-и-сохранение-в-файл-dash_visits.csv-для-загрузки-в-Tableau-Public-4\"><span class=\"toc-item-num\">4&nbsp;&nbsp;</span>Модификация датасета под требования Tableau и сохранение в файл <code>dash_visits.csv</code> для загрузки в Tableau Public</a></span></li></ul></div>"
   ]
  },
  {
   "cell_type": "markdown",
   "id": "584c07f2",
   "metadata": {},
   "source": [
    "## Цели и задачи данного notebook в составе Проекта\n",
    "\n",
    "### Цель:\n",
    "1. Замкнуть автоматизированный дата-инженерами `data pipeline` сборки необходимых данных на систему подготовки отчетов **dashboard - Tableau Public**.\n",
    "\n",
    "### Решаемые задачи:\n",
    "1. Выгрузка из БД в датасет Pandas исходных данных - дата-инженерами реализована интеграция с пайплайном сбора данных через таблицу БД `dash_visits`.\n",
    "2. Изучение структуры данных средствами Pandas на предмет ее модификации к требованиям **Tableau Public**.\n",
    "3. Обработка и модификация средствами Pandas датасета с данными, полученными из автоматизированного пайплайна.\n",
    "4. Сохранение модифицированных данных в локальном файле `dash_visits.csv`, готовом для загрузки в **Tableau Public**."
   ]
  },
  {
   "cell_type": "code",
   "execution_count": 1,
   "id": "61a84ea0",
   "metadata": {},
   "outputs": [],
   "source": [
    "# импортируем библиотеки\n",
    "\n",
    "import pandas as pd\n",
    "from sqlalchemy import create_engine\n",
    "import datetime as dt\n",
    "\n",
    "start_run = dt.datetime.now() # будем измерять время выполнения команды run-all-cells"
   ]
  },
  {
   "cell_type": "markdown",
   "id": "ac29d8da",
   "metadata": {},
   "source": [
    "## Выгрузка из БД файла исходных данных"
   ]
  },
  {
   "cell_type": "code",
   "execution_count": 2,
   "id": "7a8756c4",
   "metadata": {},
   "outputs": [],
   "source": [
    "# создаем соединение с базой данных \n",
    "\n",
    "db_config = {'user': 'praktikum_student', # имя пользователя\n",
    "            'pwd': 'Sdf4$2;d-d30pp', # пароль\n",
    "            'host': 'rc1b-wcoijxj3yxfsf3fs.mdb.yandexcloud.net',\n",
    "            'port': 6432, # порт подключения\n",
    "            'db': 'data-analyst-zen-project-db'} # название базы данных\n",
    "\n",
    "connection_string = 'postgresql://{}:{}@{}:{}/{}'.format(db_config['user'],\n",
    "                                                db_config['pwd'],\n",
    "                                                db_config['host'],\n",
    "                                                db_config['port'],\n",
    "                                                db_config['db'])\n",
    "\n",
    "engine = create_engine(connection_string)"
   ]
  },
  {
   "cell_type": "code",
   "execution_count": 3,
   "id": "e53eeaf8",
   "metadata": {},
   "outputs": [],
   "source": [
    "# выгружаем исходные данные из таблицы БД `dash_visits` в одноименный датафрейм\n",
    "\n",
    "sql_command = '''\n",
    "SELECT * FROM dash_visits\n",
    "''' \n",
    "\n",
    "dash_visits_df = pd.io.sql.read_sql(sql_command, con = engine)"
   ]
  },
  {
   "cell_type": "markdown",
   "id": "33af9ee2",
   "metadata": {},
   "source": [
    "## Изучение полученных данных"
   ]
  },
  {
   "cell_type": "code",
   "execution_count": 4,
   "id": "b849f883",
   "metadata": {},
   "outputs": [
    {
     "name": "stdout",
     "output_type": "stream",
     "text": [
      "<class 'pandas.core.frame.DataFrame'>\n",
      "RangeIndex: 30745 entries, 0 to 30744\n",
      "Data columns (total 6 columns):\n",
      " #   Column        Non-Null Count  Dtype         \n",
      "---  ------        --------------  -----         \n",
      " 0   record_id     30745 non-null  int64         \n",
      " 1   item_topic    30745 non-null  object        \n",
      " 2   source_topic  30745 non-null  object        \n",
      " 3   age_segment   30745 non-null  object        \n",
      " 4   dt            30745 non-null  datetime64[ns]\n",
      " 5   visits        30745 non-null  int64         \n",
      "dtypes: datetime64[ns](1), int64(2), object(3)\n",
      "memory usage: 1.4+ MB\n"
     ]
    },
    {
     "data": {
      "text/html": [
       "<div>\n",
       "<style scoped>\n",
       "    .dataframe tbody tr th:only-of-type {\n",
       "        vertical-align: middle;\n",
       "    }\n",
       "\n",
       "    .dataframe tbody tr th {\n",
       "        vertical-align: top;\n",
       "    }\n",
       "\n",
       "    .dataframe thead th {\n",
       "        text-align: right;\n",
       "    }\n",
       "</style>\n",
       "<table border=\"1\" class=\"dataframe\">\n",
       "  <thead>\n",
       "    <tr style=\"text-align: right;\">\n",
       "      <th></th>\n",
       "      <th>record_id</th>\n",
       "      <th>item_topic</th>\n",
       "      <th>source_topic</th>\n",
       "      <th>age_segment</th>\n",
       "      <th>dt</th>\n",
       "      <th>visits</th>\n",
       "    </tr>\n",
       "  </thead>\n",
       "  <tbody>\n",
       "    <tr>\n",
       "      <th>0</th>\n",
       "      <td>1040597</td>\n",
       "      <td>Деньги</td>\n",
       "      <td>Авто</td>\n",
       "      <td>18-25</td>\n",
       "      <td>2019-09-24 18:32:00</td>\n",
       "      <td>3</td>\n",
       "    </tr>\n",
       "    <tr>\n",
       "      <th>1</th>\n",
       "      <td>1040598</td>\n",
       "      <td>Деньги</td>\n",
       "      <td>Авто</td>\n",
       "      <td>18-25</td>\n",
       "      <td>2019-09-24 18:35:00</td>\n",
       "      <td>1</td>\n",
       "    </tr>\n",
       "    <tr>\n",
       "      <th>2</th>\n",
       "      <td>1040599</td>\n",
       "      <td>Деньги</td>\n",
       "      <td>Авто</td>\n",
       "      <td>18-25</td>\n",
       "      <td>2019-09-24 18:54:00</td>\n",
       "      <td>4</td>\n",
       "    </tr>\n",
       "    <tr>\n",
       "      <th>3</th>\n",
       "      <td>1040600</td>\n",
       "      <td>Деньги</td>\n",
       "      <td>Авто</td>\n",
       "      <td>18-25</td>\n",
       "      <td>2019-09-24 18:55:00</td>\n",
       "      <td>17</td>\n",
       "    </tr>\n",
       "    <tr>\n",
       "      <th>4</th>\n",
       "      <td>1040601</td>\n",
       "      <td>Деньги</td>\n",
       "      <td>Авто</td>\n",
       "      <td>18-25</td>\n",
       "      <td>2019-09-24 18:56:00</td>\n",
       "      <td>27</td>\n",
       "    </tr>\n",
       "  </tbody>\n",
       "</table>\n",
       "</div>"
      ],
      "text/plain": [
       "   record_id item_topic source_topic age_segment                  dt  visits\n",
       "0    1040597     Деньги         Авто       18-25 2019-09-24 18:32:00       3\n",
       "1    1040598     Деньги         Авто       18-25 2019-09-24 18:35:00       1\n",
       "2    1040599     Деньги         Авто       18-25 2019-09-24 18:54:00       4\n",
       "3    1040600     Деньги         Авто       18-25 2019-09-24 18:55:00      17\n",
       "4    1040601     Деньги         Авто       18-25 2019-09-24 18:56:00      27"
      ]
     },
     "execution_count": 4,
     "metadata": {},
     "output_type": "execute_result"
    }
   ],
   "source": [
    "dash_visits_df.info()\n",
    "dash_visits_df.head()"
   ]
  },
  {
   "cell_type": "markdown",
   "id": "8151d02d",
   "metadata": {},
   "source": [
    "### Уникальные значения / статистика диапазона значений полей таблицы"
   ]
  },
  {
   "cell_type": "markdown",
   "id": "694d9c91",
   "metadata": {},
   "source": [
    "#### поле `item_topic` - тип object (строка):"
   ]
  },
  {
   "cell_type": "code",
   "execution_count": 5,
   "id": "5ef07e82",
   "metadata": {},
   "outputs": [
    {
     "name": "stdout",
     "output_type": "stream",
     "text": [
      "Всего уникальных значений 25\n",
      "____________________________________\n"
     ]
    },
    {
     "data": {
      "text/html": [
       "<div>\n",
       "<style scoped>\n",
       "    .dataframe tbody tr th:only-of-type {\n",
       "        vertical-align: middle;\n",
       "    }\n",
       "\n",
       "    .dataframe tbody tr th {\n",
       "        vertical-align: top;\n",
       "    }\n",
       "\n",
       "    .dataframe thead th {\n",
       "        text-align: right;\n",
       "    }\n",
       "</style>\n",
       "<table border=\"1\" class=\"dataframe\">\n",
       "  <thead>\n",
       "    <tr style=\"text-align: right;\">\n",
       "      <th></th>\n",
       "      <th>item_topic</th>\n",
       "      <th>count</th>\n",
       "    </tr>\n",
       "  </thead>\n",
       "  <tbody>\n",
       "    <tr>\n",
       "      <th>0</th>\n",
       "      <td>Отношения</td>\n",
       "      <td>1536</td>\n",
       "    </tr>\n",
       "    <tr>\n",
       "      <th>1</th>\n",
       "      <td>Интересные факты</td>\n",
       "      <td>1535</td>\n",
       "    </tr>\n",
       "    <tr>\n",
       "      <th>2</th>\n",
       "      <td>Наука</td>\n",
       "      <td>1505</td>\n",
       "    </tr>\n",
       "    <tr>\n",
       "      <th>3</th>\n",
       "      <td>Подборки</td>\n",
       "      <td>1456</td>\n",
       "    </tr>\n",
       "    <tr>\n",
       "      <th>4</th>\n",
       "      <td>Полезные советы</td>\n",
       "      <td>1424</td>\n",
       "    </tr>\n",
       "    <tr>\n",
       "      <th>5</th>\n",
       "      <td>Общество</td>\n",
       "      <td>1422</td>\n",
       "    </tr>\n",
       "    <tr>\n",
       "      <th>6</th>\n",
       "      <td>Россия</td>\n",
       "      <td>1385</td>\n",
       "    </tr>\n",
       "    <tr>\n",
       "      <th>7</th>\n",
       "      <td>История</td>\n",
       "      <td>1363</td>\n",
       "    </tr>\n",
       "    <tr>\n",
       "      <th>8</th>\n",
       "      <td>Семья</td>\n",
       "      <td>1287</td>\n",
       "    </tr>\n",
       "    <tr>\n",
       "      <th>9</th>\n",
       "      <td>Путешествия</td>\n",
       "      <td>1247</td>\n",
       "    </tr>\n",
       "    <tr>\n",
       "      <th>10</th>\n",
       "      <td>Деньги</td>\n",
       "      <td>1234</td>\n",
       "    </tr>\n",
       "    <tr>\n",
       "      <th>11</th>\n",
       "      <td>Женщины</td>\n",
       "      <td>1230</td>\n",
       "    </tr>\n",
       "    <tr>\n",
       "      <th>12</th>\n",
       "      <td>Дети</td>\n",
       "      <td>1229</td>\n",
       "    </tr>\n",
       "    <tr>\n",
       "      <th>13</th>\n",
       "      <td>Туризм</td>\n",
       "      <td>1206</td>\n",
       "    </tr>\n",
       "    <tr>\n",
       "      <th>14</th>\n",
       "      <td>Здоровье</td>\n",
       "      <td>1203</td>\n",
       "    </tr>\n",
       "    <tr>\n",
       "      <th>15</th>\n",
       "      <td>Красота</td>\n",
       "      <td>1193</td>\n",
       "    </tr>\n",
       "    <tr>\n",
       "      <th>16</th>\n",
       "      <td>Культура</td>\n",
       "      <td>1160</td>\n",
       "    </tr>\n",
       "    <tr>\n",
       "      <th>17</th>\n",
       "      <td>Юмор</td>\n",
       "      <td>1129</td>\n",
       "    </tr>\n",
       "    <tr>\n",
       "      <th>18</th>\n",
       "      <td>Искусство</td>\n",
       "      <td>1119</td>\n",
       "    </tr>\n",
       "    <tr>\n",
       "      <th>19</th>\n",
       "      <td>Рассказы</td>\n",
       "      <td>1109</td>\n",
       "    </tr>\n",
       "    <tr>\n",
       "      <th>20</th>\n",
       "      <td>Психология</td>\n",
       "      <td>1056</td>\n",
       "    </tr>\n",
       "    <tr>\n",
       "      <th>21</th>\n",
       "      <td>Скандалы</td>\n",
       "      <td>1023</td>\n",
       "    </tr>\n",
       "    <tr>\n",
       "      <th>22</th>\n",
       "      <td>Знаменитости</td>\n",
       "      <td>976</td>\n",
       "    </tr>\n",
       "    <tr>\n",
       "      <th>23</th>\n",
       "      <td>Женская психология</td>\n",
       "      <td>914</td>\n",
       "    </tr>\n",
       "    <tr>\n",
       "      <th>24</th>\n",
       "      <td>Шоу</td>\n",
       "      <td>804</td>\n",
       "    </tr>\n",
       "  </tbody>\n",
       "</table>\n",
       "</div>"
      ],
      "text/plain": [
       "            item_topic  count\n",
       "0            Отношения   1536\n",
       "1     Интересные факты   1535\n",
       "2                Наука   1505\n",
       "3             Подборки   1456\n",
       "4      Полезные советы   1424\n",
       "5             Общество   1422\n",
       "6               Россия   1385\n",
       "7              История   1363\n",
       "8                Семья   1287\n",
       "9          Путешествия   1247\n",
       "10              Деньги   1234\n",
       "11             Женщины   1230\n",
       "12                Дети   1229\n",
       "13              Туризм   1206\n",
       "14            Здоровье   1203\n",
       "15             Красота   1193\n",
       "16            Культура   1160\n",
       "17                Юмор   1129\n",
       "18           Искусство   1119\n",
       "19            Рассказы   1109\n",
       "20          Психология   1056\n",
       "21            Скандалы   1023\n",
       "22        Знаменитости    976\n",
       "23  Женская психология    914\n",
       "24                 Шоу    804"
      ]
     },
     "execution_count": 5,
     "metadata": {},
     "output_type": "execute_result"
    }
   ],
   "source": [
    "print(f'Всего уникальных значений {dash_visits_df[\"item_topic\"].value_counts().count()}')\n",
    "\n",
    "print('____________________________________')\n",
    "\n",
    "dash_visits_df['item_topic'].value_counts(dropna=False).reset_index(\n",
    "                                          ).rename(columns={'index':'item_topic','item_topic':'count'})"
   ]
  },
  {
   "cell_type": "markdown",
   "id": "d566a229",
   "metadata": {},
   "source": [
    "#### поле `source_topic` - тип object (строка):"
   ]
  },
  {
   "cell_type": "code",
   "execution_count": 6,
   "id": "253b9d3e",
   "metadata": {},
   "outputs": [
    {
     "name": "stdout",
     "output_type": "stream",
     "text": [
      "Всего уникальных значений 26\n",
      "____________________________________\n"
     ]
    },
    {
     "data": {
      "text/html": [
       "<div>\n",
       "<style scoped>\n",
       "    .dataframe tbody tr th:only-of-type {\n",
       "        vertical-align: middle;\n",
       "    }\n",
       "\n",
       "    .dataframe tbody tr th {\n",
       "        vertical-align: top;\n",
       "    }\n",
       "\n",
       "    .dataframe thead th {\n",
       "        text-align: right;\n",
       "    }\n",
       "</style>\n",
       "<table border=\"1\" class=\"dataframe\">\n",
       "  <thead>\n",
       "    <tr style=\"text-align: right;\">\n",
       "      <th></th>\n",
       "      <th>source_topic</th>\n",
       "      <th>count</th>\n",
       "    </tr>\n",
       "  </thead>\n",
       "  <tbody>\n",
       "    <tr>\n",
       "      <th>0</th>\n",
       "      <td>Семейные отношения</td>\n",
       "      <td>1822</td>\n",
       "    </tr>\n",
       "    <tr>\n",
       "      <th>1</th>\n",
       "      <td>Россия</td>\n",
       "      <td>1687</td>\n",
       "    </tr>\n",
       "    <tr>\n",
       "      <th>2</th>\n",
       "      <td>Знаменитости</td>\n",
       "      <td>1650</td>\n",
       "    </tr>\n",
       "    <tr>\n",
       "      <th>3</th>\n",
       "      <td>Полезные советы</td>\n",
       "      <td>1578</td>\n",
       "    </tr>\n",
       "    <tr>\n",
       "      <th>4</th>\n",
       "      <td>Путешествия</td>\n",
       "      <td>1563</td>\n",
       "    </tr>\n",
       "    <tr>\n",
       "      <th>5</th>\n",
       "      <td>Кино</td>\n",
       "      <td>1505</td>\n",
       "    </tr>\n",
       "    <tr>\n",
       "      <th>6</th>\n",
       "      <td>Дети</td>\n",
       "      <td>1459</td>\n",
       "    </tr>\n",
       "    <tr>\n",
       "      <th>7</th>\n",
       "      <td>История</td>\n",
       "      <td>1437</td>\n",
       "    </tr>\n",
       "    <tr>\n",
       "      <th>8</th>\n",
       "      <td>Семья</td>\n",
       "      <td>1405</td>\n",
       "    </tr>\n",
       "    <tr>\n",
       "      <th>9</th>\n",
       "      <td>Одежда</td>\n",
       "      <td>1379</td>\n",
       "    </tr>\n",
       "    <tr>\n",
       "      <th>10</th>\n",
       "      <td>Здоровье</td>\n",
       "      <td>1243</td>\n",
       "    </tr>\n",
       "    <tr>\n",
       "      <th>11</th>\n",
       "      <td>Искусство</td>\n",
       "      <td>1228</td>\n",
       "    </tr>\n",
       "    <tr>\n",
       "      <th>12</th>\n",
       "      <td>Авто</td>\n",
       "      <td>1077</td>\n",
       "    </tr>\n",
       "    <tr>\n",
       "      <th>13</th>\n",
       "      <td>Психология</td>\n",
       "      <td>1055</td>\n",
       "    </tr>\n",
       "    <tr>\n",
       "      <th>14</th>\n",
       "      <td>Сад и дача</td>\n",
       "      <td>1036</td>\n",
       "    </tr>\n",
       "    <tr>\n",
       "      <th>15</th>\n",
       "      <td>Политика</td>\n",
       "      <td>1024</td>\n",
       "    </tr>\n",
       "    <tr>\n",
       "      <th>16</th>\n",
       "      <td>Спорт</td>\n",
       "      <td>1007</td>\n",
       "    </tr>\n",
       "    <tr>\n",
       "      <th>17</th>\n",
       "      <td>Сделай сам</td>\n",
       "      <td>995</td>\n",
       "    </tr>\n",
       "    <tr>\n",
       "      <th>18</th>\n",
       "      <td>Ремонт</td>\n",
       "      <td>985</td>\n",
       "    </tr>\n",
       "    <tr>\n",
       "      <th>19</th>\n",
       "      <td>Деньги</td>\n",
       "      <td>973</td>\n",
       "    </tr>\n",
       "    <tr>\n",
       "      <th>20</th>\n",
       "      <td>Еда</td>\n",
       "      <td>912</td>\n",
       "    </tr>\n",
       "    <tr>\n",
       "      <th>21</th>\n",
       "      <td>Интерьеры</td>\n",
       "      <td>809</td>\n",
       "    </tr>\n",
       "    <tr>\n",
       "      <th>22</th>\n",
       "      <td>Строительство</td>\n",
       "      <td>758</td>\n",
       "    </tr>\n",
       "    <tr>\n",
       "      <th>23</th>\n",
       "      <td>Музыка</td>\n",
       "      <td>750</td>\n",
       "    </tr>\n",
       "    <tr>\n",
       "      <th>24</th>\n",
       "      <td>Технологии</td>\n",
       "      <td>741</td>\n",
       "    </tr>\n",
       "    <tr>\n",
       "      <th>25</th>\n",
       "      <td>Финансы</td>\n",
       "      <td>667</td>\n",
       "    </tr>\n",
       "  </tbody>\n",
       "</table>\n",
       "</div>"
      ],
      "text/plain": [
       "          source_topic  count\n",
       "0   Семейные отношения   1822\n",
       "1               Россия   1687\n",
       "2         Знаменитости   1650\n",
       "3      Полезные советы   1578\n",
       "4          Путешествия   1563\n",
       "5                 Кино   1505\n",
       "6                 Дети   1459\n",
       "7              История   1437\n",
       "8                Семья   1405\n",
       "9               Одежда   1379\n",
       "10            Здоровье   1243\n",
       "11           Искусство   1228\n",
       "12                Авто   1077\n",
       "13          Психология   1055\n",
       "14          Сад и дача   1036\n",
       "15            Политика   1024\n",
       "16               Спорт   1007\n",
       "17          Сделай сам    995\n",
       "18              Ремонт    985\n",
       "19              Деньги    973\n",
       "20                 Еда    912\n",
       "21           Интерьеры    809\n",
       "22       Строительство    758\n",
       "23              Музыка    750\n",
       "24          Технологии    741\n",
       "25             Финансы    667"
      ]
     },
     "execution_count": 6,
     "metadata": {},
     "output_type": "execute_result"
    }
   ],
   "source": [
    "print(f'Всего уникальных значений {dash_visits_df[\"source_topic\"].value_counts().count()}')\n",
    "\n",
    "print('____________________________________')\n",
    "\n",
    "dash_visits_df['source_topic'].value_counts(dropna=False).reset_index(\n",
    "                                          ).rename(columns={'index':'source_topic','source_topic':'count'})"
   ]
  },
  {
   "cell_type": "markdown",
   "id": "075b4d32",
   "metadata": {},
   "source": [
    "#### Выводы по темам:\n",
    "Названия тем для источников и карточек весьма слабо совпадают:"
   ]
  },
  {
   "cell_type": "code",
   "execution_count": 7,
   "id": "1cbd61c2",
   "metadata": {},
   "outputs": [
    {
     "name": "stdout",
     "output_type": "stream",
     "text": [
      "ВЫВОДЫ:\n",
      "_________________\n",
      "Совпадает 11 тем: \n",
      " ['Деньги', 'Дети', 'Здоровье', 'Знаменитости', 'Искусство', 'История', 'Полезные советы', 'Психология', 'Путешествия', 'Россия', 'Семья']\n",
      "__________________________\n",
      "Не совпадает всего 29 тем,\n",
      "\n",
      "из них 14 значений для item_topic: ['Женская психология', 'Женщины', 'Интересные факты', 'Красота', 'Культура', 'Наука', 'Общество', 'Отношения', 'Подборки', 'Рассказы', 'Скандалы', 'Туризм', 'Шоу', 'Юмор']\n",
      "\n",
      "и 15 значений для source_topic: ['Авто', 'Еда', 'Интерьеры', 'Кино', 'Музыка', 'Одежда', 'Политика', 'Ремонт', 'Сад и дача', 'Сделай сам', 'Семейные отношения', 'Спорт', 'Строительство', 'Технологии', 'Финансы']\n"
     ]
    }
   ],
   "source": [
    "inner_df = dash_visits_df.groupby('item_topic',as_index=False).agg({'visits':'sum'}).merge(\n",
    "dash_visits_df.groupby('source_topic',as_index=False).agg({'visits':'sum'}),\n",
    "how='inner', left_on='item_topic', right_on='source_topic')\n",
    "\n",
    "outer_df = dash_visits_df.groupby('item_topic',as_index=False).agg({'visits':'sum'}).merge(\n",
    "dash_visits_df.groupby('source_topic',as_index=False).agg({'visits':'sum'}),\n",
    "how='outer', left_on='item_topic', right_on='source_topic')\n",
    "\n",
    "print('ВЫВОДЫ:')\n",
    "print('_________________')\n",
    "print(f'Совпадает {len(inner_df)} тем: \\n', list(inner_df['item_topic']))\n",
    "print('__________________________')\n",
    "print(f'Не совпадает всего {outer_df[\"source_topic\"].isna().sum()+outer_df[\"item_topic\"].isna().sum()} тем,')\n",
    "print()\n",
    "print(f'из них {outer_df[\"source_topic\"].isna().sum()} значений для item_topic:',\n",
    "     list(outer_df[outer_df[\"source_topic\"].isna()].item_topic))\n",
    "print()\n",
    "print(f'и {outer_df[\"item_topic\"].isna().sum()} значений для source_topic:',\n",
    "     list(outer_df[outer_df[\"item_topic\"].isna()].source_topic))"
   ]
  },
  {
   "cell_type": "markdown",
   "id": "75b55537",
   "metadata": {},
   "source": [
    "#### поле `age_segment` - тип object (строка):"
   ]
  },
  {
   "cell_type": "code",
   "execution_count": 8,
   "id": "27ec733a",
   "metadata": {},
   "outputs": [
    {
     "name": "stdout",
     "output_type": "stream",
     "text": [
      "Всего уникальных значений 6\n",
      "____________________________________\n"
     ]
    },
    {
     "data": {
      "text/html": [
       "<div>\n",
       "<style scoped>\n",
       "    .dataframe tbody tr th:only-of-type {\n",
       "        vertical-align: middle;\n",
       "    }\n",
       "\n",
       "    .dataframe tbody tr th {\n",
       "        vertical-align: top;\n",
       "    }\n",
       "\n",
       "    .dataframe thead th {\n",
       "        text-align: right;\n",
       "    }\n",
       "</style>\n",
       "<table border=\"1\" class=\"dataframe\">\n",
       "  <thead>\n",
       "    <tr style=\"text-align: right;\">\n",
       "      <th></th>\n",
       "      <th>age_segment</th>\n",
       "      <th>count</th>\n",
       "    </tr>\n",
       "  </thead>\n",
       "  <tbody>\n",
       "    <tr>\n",
       "      <th>0</th>\n",
       "      <td>18-25</td>\n",
       "      <td>7056</td>\n",
       "    </tr>\n",
       "    <tr>\n",
       "      <th>1</th>\n",
       "      <td>26-30</td>\n",
       "      <td>5875</td>\n",
       "    </tr>\n",
       "    <tr>\n",
       "      <th>2</th>\n",
       "      <td>31-35</td>\n",
       "      <td>5552</td>\n",
       "    </tr>\n",
       "    <tr>\n",
       "      <th>3</th>\n",
       "      <td>36-40</td>\n",
       "      <td>5105</td>\n",
       "    </tr>\n",
       "    <tr>\n",
       "      <th>4</th>\n",
       "      <td>41-45</td>\n",
       "      <td>3903</td>\n",
       "    </tr>\n",
       "    <tr>\n",
       "      <th>5</th>\n",
       "      <td>45+</td>\n",
       "      <td>3254</td>\n",
       "    </tr>\n",
       "  </tbody>\n",
       "</table>\n",
       "</div>"
      ],
      "text/plain": [
       "  age_segment  count\n",
       "0       18-25   7056\n",
       "1       26-30   5875\n",
       "2       31-35   5552\n",
       "3       36-40   5105\n",
       "4       41-45   3903\n",
       "5         45+   3254"
      ]
     },
     "execution_count": 8,
     "metadata": {},
     "output_type": "execute_result"
    }
   ],
   "source": [
    "print(f'Всего уникальных значений {dash_visits_df[\"age_segment\"].value_counts().count()}')\n",
    "\n",
    "print('____________________________________')\n",
    "\n",
    "dash_visits_df['age_segment'].value_counts(dropna=False).reset_index(\n",
    "                                          ).rename(columns={'index':'age_segment','age_segment':'count'})"
   ]
  },
  {
   "cell_type": "markdown",
   "id": "6dc57297",
   "metadata": {},
   "source": [
    "#### поле `dt` - тип datetime (временная метка)"
   ]
  },
  {
   "cell_type": "code",
   "execution_count": 9,
   "id": "0a5fee65",
   "metadata": {},
   "outputs": [
    {
     "data": {
      "text/plain": [
       "count                            30745\n",
       "mean     2019-09-24 18:50:42.982598656\n",
       "min                2019-09-24 18:28:00\n",
       "25%                2019-09-24 18:52:00\n",
       "50%                2019-09-24 18:56:00\n",
       "75%                2019-09-24 18:58:00\n",
       "max                2019-09-24 19:00:00\n",
       "Name: dt, dtype: object"
      ]
     },
     "execution_count": 9,
     "metadata": {},
     "output_type": "execute_result"
    }
   ],
   "source": [
    "dash_visits_df['dt'].describe(datetime_is_numeric=True)"
   ]
  },
  {
   "cell_type": "code",
   "execution_count": 10,
   "id": "7b4c43c1",
   "metadata": {},
   "outputs": [
    {
     "name": "stdout",
     "output_type": "stream",
     "text": [
      "Количество данных с соответствующими временными метками:\n"
     ]
    },
    {
     "data": {
      "image/png": "[encoded data removed]",
      "text/plain": [
       "<Figure size 1200x500 with 1 Axes>"
      ]
     },
     "metadata": {},
     "output_type": "display_data"
    }
   ],
   "source": [
    "dash_visits_df['dt'].hist(bins=320, figsize=(12,5))\n",
    "print('Количество данных с соответствующими временными метками:')"
   ]
  },
  {
   "cell_type": "code",
   "execution_count": 11,
   "id": "93a7b9b3",
   "metadata": {},
   "outputs": [
    {
     "name": "stdout",
     "output_type": "stream",
     "text": [
      "Всего уникальных значений 17\n",
      "____________________________________\n"
     ]
    },
    {
     "data": {
      "text/html": [
       "<div>\n",
       "<style scoped>\n",
       "    .dataframe tbody tr th:only-of-type {\n",
       "        vertical-align: middle;\n",
       "    }\n",
       "\n",
       "    .dataframe tbody tr th {\n",
       "        vertical-align: top;\n",
       "    }\n",
       "\n",
       "    .dataframe thead th {\n",
       "        text-align: right;\n",
       "    }\n",
       "</style>\n",
       "<table border=\"1\" class=\"dataframe\">\n",
       "  <thead>\n",
       "    <tr style=\"text-align: right;\">\n",
       "      <th></th>\n",
       "      <th>dt</th>\n",
       "      <th>count</th>\n",
       "    </tr>\n",
       "  </thead>\n",
       "  <tbody>\n",
       "    <tr>\n",
       "      <th>0</th>\n",
       "      <td>2019-09-24 18:28:00</td>\n",
       "      <td>615</td>\n",
       "    </tr>\n",
       "    <tr>\n",
       "      <th>1</th>\n",
       "      <td>2019-09-24 18:29:00</td>\n",
       "      <td>1031</td>\n",
       "    </tr>\n",
       "    <tr>\n",
       "      <th>2</th>\n",
       "      <td>2019-09-24 18:30:00</td>\n",
       "      <td>1261</td>\n",
       "    </tr>\n",
       "    <tr>\n",
       "      <th>3</th>\n",
       "      <td>2019-09-24 18:31:00</td>\n",
       "      <td>1253</td>\n",
       "    </tr>\n",
       "    <tr>\n",
       "      <th>4</th>\n",
       "      <td>2019-09-24 18:32:00</td>\n",
       "      <td>1257</td>\n",
       "    </tr>\n",
       "    <tr>\n",
       "      <th>5</th>\n",
       "      <td>2019-09-24 18:33:00</td>\n",
       "      <td>1007</td>\n",
       "    </tr>\n",
       "    <tr>\n",
       "      <th>6</th>\n",
       "      <td>2019-09-24 18:34:00</td>\n",
       "      <td>576</td>\n",
       "    </tr>\n",
       "    <tr>\n",
       "      <th>7</th>\n",
       "      <td>2019-09-24 18:35:00</td>\n",
       "      <td>184</td>\n",
       "    </tr>\n",
       "    <tr>\n",
       "      <th>8</th>\n",
       "      <td>2019-09-24 18:52:00</td>\n",
       "      <td>719</td>\n",
       "    </tr>\n",
       "    <tr>\n",
       "      <th>9</th>\n",
       "      <td>2019-09-24 18:53:00</td>\n",
       "      <td>1107</td>\n",
       "    </tr>\n",
       "    <tr>\n",
       "      <th>10</th>\n",
       "      <td>2019-09-24 18:54:00</td>\n",
       "      <td>2551</td>\n",
       "    </tr>\n",
       "    <tr>\n",
       "      <th>11</th>\n",
       "      <td>2019-09-24 18:55:00</td>\n",
       "      <td>3088</td>\n",
       "    </tr>\n",
       "    <tr>\n",
       "      <th>12</th>\n",
       "      <td>2019-09-24 18:56:00</td>\n",
       "      <td>3325</td>\n",
       "    </tr>\n",
       "    <tr>\n",
       "      <th>13</th>\n",
       "      <td>2019-09-24 18:57:00</td>\n",
       "      <td>3342</td>\n",
       "    </tr>\n",
       "    <tr>\n",
       "      <th>14</th>\n",
       "      <td>2019-09-24 18:58:00</td>\n",
       "      <td>3383</td>\n",
       "    </tr>\n",
       "    <tr>\n",
       "      <th>15</th>\n",
       "      <td>2019-09-24 18:59:00</td>\n",
       "      <td>3317</td>\n",
       "    </tr>\n",
       "    <tr>\n",
       "      <th>16</th>\n",
       "      <td>2019-09-24 19:00:00</td>\n",
       "      <td>2729</td>\n",
       "    </tr>\n",
       "  </tbody>\n",
       "</table>\n",
       "</div>"
      ],
      "text/plain": [
       "                    dt  count\n",
       "0  2019-09-24 18:28:00    615\n",
       "1  2019-09-24 18:29:00   1031\n",
       "2  2019-09-24 18:30:00   1261\n",
       "3  2019-09-24 18:31:00   1253\n",
       "4  2019-09-24 18:32:00   1257\n",
       "5  2019-09-24 18:33:00   1007\n",
       "6  2019-09-24 18:34:00    576\n",
       "7  2019-09-24 18:35:00    184\n",
       "8  2019-09-24 18:52:00    719\n",
       "9  2019-09-24 18:53:00   1107\n",
       "10 2019-09-24 18:54:00   2551\n",
       "11 2019-09-24 18:55:00   3088\n",
       "12 2019-09-24 18:56:00   3325\n",
       "13 2019-09-24 18:57:00   3342\n",
       "14 2019-09-24 18:58:00   3383\n",
       "15 2019-09-24 18:59:00   3317\n",
       "16 2019-09-24 19:00:00   2729"
      ]
     },
     "execution_count": 11,
     "metadata": {},
     "output_type": "execute_result"
    }
   ],
   "source": [
    "print(f'Всего уникальных значений {dash_visits_df[\"dt\"].value_counts().count()}')\n",
    "\n",
    "print('____________________________________')\n",
    "\n",
    "dash_visits_df['dt'].value_counts(dropna=False).reset_index(\n",
    "                                  ).rename(columns={'index':'dt','dt':'count'}).sort_values('dt').reset_index(drop=True)"
   ]
  },
  {
   "cell_type": "markdown",
   "id": "5fed5bdb",
   "metadata": {},
   "source": [
    "#### Выводы по временным меткам данных:\n",
    "1. Данные собирались всего полчаса, причем в два еще более коротких импульса (birst):\n",
    " * первый импульс с 18:28 до 18:35 (всего 7 минут),\n",
    " * второй импульс с 18:52 до 19:00 (всего 8 минут).\n",
    "2. Временная метка округлена до минут - таким образом, кол-во уникальных значений временной метки сильно ограничено - 33 значения в периоде, за который присутствуют данные.  Причем сами данные есть только для 8+9=17 значений временной метки.\n",
    "3. Скорее всего, округление до минуты означает период агрегации сырых данных по времени."
   ]
  },
  {
   "cell_type": "markdown",
   "id": "59c0d2e2",
   "metadata": {},
   "source": [
    "#### поле `visits` - тип int (кол-во взаимодействий с пользователями)"
   ]
  },
  {
   "cell_type": "code",
   "execution_count": 12,
   "id": "aa848d9e",
   "metadata": {},
   "outputs": [
    {
     "data": {
      "text/plain": [
       "count    30745.000000\n",
       "mean        10.089673\n",
       "std         19.727601\n",
       "min          1.000000\n",
       "25%          1.000000\n",
       "50%          3.000000\n",
       "75%         10.000000\n",
       "max        371.000000\n",
       "Name: visits, dtype: float64"
      ]
     },
     "execution_count": 12,
     "metadata": {},
     "output_type": "execute_result"
    }
   ],
   "source": [
    "dash_visits_df['visits'].describe()"
   ]
  },
  {
   "cell_type": "code",
   "execution_count": 13,
   "id": "e611c614",
   "metadata": {},
   "outputs": [
    {
     "name": "stdout",
     "output_type": "stream",
     "text": [
      "Распределение данных по значениям поля visits:\n"
     ]
    },
    {
     "data": {
      "image/png": "[encoded data removed]",
      "text/plain": [
       "<Figure size 1200x500 with 1 Axes>"
      ]
     },
     "metadata": {},
     "output_type": "display_data"
    }
   ],
   "source": [
    "dash_visits_df['visits'].hist(bins=371, figsize=(12,5))\n",
    "print('Распределение данных по значениям поля visits:')"
   ]
  },
  {
   "cell_type": "code",
   "execution_count": 14,
   "id": "9059b0f1",
   "metadata": {},
   "outputs": [
    {
     "name": "stdout",
     "output_type": "stream",
     "text": [
      "Zoom распределение данных по значениям поля visits:\n"
     ]
    },
    {
     "data": {
      "image/png": "[encoded data removed]",
      "text/plain": [
       "<Figure size 1200x500 with 1 Axes>"
      ]
     },
     "metadata": {},
     "output_type": "display_data"
    }
   ],
   "source": [
    "dash_visits_df.query('visits <=50')['visits'].hist(bins=50\n",
    "                                                   , figsize=(12,5))\n",
    "print('Zoom распределение данных по значениям поля visits:')"
   ]
  },
  {
   "cell_type": "markdown",
   "id": "4d1008e6",
   "metadata": {},
   "source": [
    "#### Выводы и предположения по полю visits:\n",
    "1. Соответствие некоторого кол-ва визитов набору параметров (item_topic, source_topic, age_segment, timestamp) означает агрегацию:\n",
    " * где-то в начале пайплайна автоматизированного сбора данных был \"сырой\" лог с записями событий и точными временными метками (а также user_id, по которым осуществлялась сегментация по возрасту),\n",
    " * затем данные группировались по возрастным сегментам и поминутным периодам - кол-во визитов суммировалось и записывались в базу данных.\n",
    "2. Проверим гипотезу выше - у нас есть (по результатам проведенного до сих пор изучения данных):\n",
    " * 11+11\\*(14+15)+14\\*15 = 540 уникальных комбинаций тем карточек (items) и источников (sources),\n",
    " * 6 возрастных диапазонов,\n",
    " * 17 уникальных значений временных меток,\n",
    " * ИТОГО получаем уникальных наборов параметров (item_topic, source_topic, age_segment, timestamp): 540\\*6\\*17 = 55080\n",
    " * а датасет имеет 30745 записей - то есть не для каждого уникального набора (item_topic, source_topic, age_segment, timestamp) есть значение visits. Нас это устраивает, хуже было бы, если бы записей было бы больше, чем уникальных комбинаций параметров - это бы означало, что агрегация не завершена по каким-то причинам (проблемы пайплайна)!"
   ]
  },
  {
   "cell_type": "markdown",
   "id": "6dc8dc21",
   "metadata": {},
   "source": [
    "### Проверка дупликатов:\n",
    "Поле `record_id` не участвует в проверке, так как его присваивает БД при добавлении записи из пайплайна сбора данных.  \n",
    "\n",
    "В свете рассуждений выше, нам также следует проверять уникальность набора параметров (item_topic, source_topic, age_segment, dt):"
   ]
  },
  {
   "cell_type": "code",
   "execution_count": 15,
   "id": "61e82c01",
   "metadata": {},
   "outputs": [
    {
     "data": {
      "text/plain": [
       "0"
      ]
     },
     "execution_count": 15,
     "metadata": {},
     "output_type": "execute_result"
    }
   ],
   "source": [
    "dash_visits_df.drop(columns=['record_id','visits']).duplicated().sum()"
   ]
  },
  {
   "cell_type": "markdown",
   "id": "03d78351",
   "metadata": {},
   "source": [
    "### Выводы по необходимым модификациям данных для загрузки в Tableau Public\n",
    "1. Поле `record_id` удаляем.\n",
    "2. Список остальных полей соответствует ожиданиям Tableau:\n",
    " * поля Tableau.Dimentions - `item_topic`, `source_topic`, `age_segment`, `dt` (timestamp),\n",
    " * поле (должно быть одно) Tableau.Measures - `visits`.\n",
    "3. Поле `visits` уже полностью проагрегировано - существует одна запись для уникального набора полей Tableau.Dimentions\n",
    "4. Поскольку все временные метки за одно число, нет смысла его оставлять во всех графиках - лучше создать поле только со временем.  Однако, после проверки оказалось, что Tableau считывая только время, приписывает к нему год, поэтому в данных не будем этого делать."
   ]
  },
  {
   "cell_type": "markdown",
   "id": "09e975c9",
   "metadata": {},
   "source": [
    "## Модификация датасета под требования Tableau и сохранение в файл `dash_visits.csv` для загрузки в Tableau Public"
   ]
  },
  {
   "cell_type": "code",
   "execution_count": 16,
   "id": "e220ee12",
   "metadata": {},
   "outputs": [
    {
     "data": {
      "text/html": [
       "<div>\n",
       "<style scoped>\n",
       "    .dataframe tbody tr th:only-of-type {\n",
       "        vertical-align: middle;\n",
       "    }\n",
       "\n",
       "    .dataframe tbody tr th {\n",
       "        vertical-align: top;\n",
       "    }\n",
       "\n",
       "    .dataframe thead th {\n",
       "        text-align: right;\n",
       "    }\n",
       "</style>\n",
       "<table border=\"1\" class=\"dataframe\">\n",
       "  <thead>\n",
       "    <tr style=\"text-align: right;\">\n",
       "      <th></th>\n",
       "      <th>item_topic</th>\n",
       "      <th>source_topic</th>\n",
       "      <th>age_segment</th>\n",
       "      <th>dt</th>\n",
       "      <th>visits</th>\n",
       "    </tr>\n",
       "  </thead>\n",
       "  <tbody>\n",
       "    <tr>\n",
       "      <th>0</th>\n",
       "      <td>Деньги</td>\n",
       "      <td>Авто</td>\n",
       "      <td>18-25</td>\n",
       "      <td>2019-09-24 18:32:00</td>\n",
       "      <td>3</td>\n",
       "    </tr>\n",
       "    <tr>\n",
       "      <th>1</th>\n",
       "      <td>Деньги</td>\n",
       "      <td>Авто</td>\n",
       "      <td>18-25</td>\n",
       "      <td>2019-09-24 18:35:00</td>\n",
       "      <td>1</td>\n",
       "    </tr>\n",
       "    <tr>\n",
       "      <th>2</th>\n",
       "      <td>Деньги</td>\n",
       "      <td>Авто</td>\n",
       "      <td>18-25</td>\n",
       "      <td>2019-09-24 18:54:00</td>\n",
       "      <td>4</td>\n",
       "    </tr>\n",
       "    <tr>\n",
       "      <th>3</th>\n",
       "      <td>Деньги</td>\n",
       "      <td>Авто</td>\n",
       "      <td>18-25</td>\n",
       "      <td>2019-09-24 18:55:00</td>\n",
       "      <td>17</td>\n",
       "    </tr>\n",
       "    <tr>\n",
       "      <th>4</th>\n",
       "      <td>Деньги</td>\n",
       "      <td>Авто</td>\n",
       "      <td>18-25</td>\n",
       "      <td>2019-09-24 18:56:00</td>\n",
       "      <td>27</td>\n",
       "    </tr>\n",
       "    <tr>\n",
       "      <th>...</th>\n",
       "      <td>...</td>\n",
       "      <td>...</td>\n",
       "      <td>...</td>\n",
       "      <td>...</td>\n",
       "      <td>...</td>\n",
       "    </tr>\n",
       "    <tr>\n",
       "      <th>30740</th>\n",
       "      <td>Юмор</td>\n",
       "      <td>Финансы</td>\n",
       "      <td>36-40</td>\n",
       "      <td>2019-09-24 18:57:00</td>\n",
       "      <td>2</td>\n",
       "    </tr>\n",
       "    <tr>\n",
       "      <th>30741</th>\n",
       "      <td>Юмор</td>\n",
       "      <td>Финансы</td>\n",
       "      <td>36-40</td>\n",
       "      <td>2019-09-24 19:00:00</td>\n",
       "      <td>1</td>\n",
       "    </tr>\n",
       "    <tr>\n",
       "      <th>30742</th>\n",
       "      <td>Юмор</td>\n",
       "      <td>Финансы</td>\n",
       "      <td>41-45</td>\n",
       "      <td>2019-09-24 18:54:00</td>\n",
       "      <td>1</td>\n",
       "    </tr>\n",
       "    <tr>\n",
       "      <th>30743</th>\n",
       "      <td>Юмор</td>\n",
       "      <td>Финансы</td>\n",
       "      <td>41-45</td>\n",
       "      <td>2019-09-24 18:56:00</td>\n",
       "      <td>1</td>\n",
       "    </tr>\n",
       "    <tr>\n",
       "      <th>30744</th>\n",
       "      <td>Юмор</td>\n",
       "      <td>Финансы</td>\n",
       "      <td>41-45</td>\n",
       "      <td>2019-09-24 19:00:00</td>\n",
       "      <td>1</td>\n",
       "    </tr>\n",
       "  </tbody>\n",
       "</table>\n",
       "<p>30745 rows × 5 columns</p>\n",
       "</div>"
      ],
      "text/plain": [
       "      item_topic source_topic age_segment                  dt  visits\n",
       "0         Деньги         Авто       18-25 2019-09-24 18:32:00       3\n",
       "1         Деньги         Авто       18-25 2019-09-24 18:35:00       1\n",
       "2         Деньги         Авто       18-25 2019-09-24 18:54:00       4\n",
       "3         Деньги         Авто       18-25 2019-09-24 18:55:00      17\n",
       "4         Деньги         Авто       18-25 2019-09-24 18:56:00      27\n",
       "...          ...          ...         ...                 ...     ...\n",
       "30740       Юмор      Финансы       36-40 2019-09-24 18:57:00       2\n",
       "30741       Юмор      Финансы       36-40 2019-09-24 19:00:00       1\n",
       "30742       Юмор      Финансы       41-45 2019-09-24 18:54:00       1\n",
       "30743       Юмор      Финансы       41-45 2019-09-24 18:56:00       1\n",
       "30744       Юмор      Финансы       41-45 2019-09-24 19:00:00       1\n",
       "\n",
       "[30745 rows x 5 columns]"
      ]
     },
     "execution_count": 16,
     "metadata": {},
     "output_type": "execute_result"
    }
   ],
   "source": [
    "dash_visits_df = dash_visits_df.drop(columns='record_id')\n",
    "\n",
    "dash_visits_df"
   ]
  },
  {
   "cell_type": "code",
   "execution_count": 17,
   "id": "4b474bd2",
   "metadata": {},
   "outputs": [],
   "source": [
    "dash_visits_df.to_csv('dash_visits.csv', index=False)"
   ]
  },
  {
   "cell_type": "markdown",
   "id": "00be3267",
   "metadata": {},
   "source": [
    "# <<<<< END OF DOCUMENT >>>>>"
   ]
  },
  {
   "cell_type": "code",
   "execution_count": 18,
   "id": "f6baaadd",
   "metadata": {},
   "outputs": [
    {
     "name": "stdout",
     "output_type": "stream",
     "text": [
      "If you see this line, then run-all-cells command has been executed successfully!\n",
      "Full execution time was 6.48 seconds.  The last run-through of this Notebook was on 2022-09-26 at 21:03:32\n"
     ]
    }
   ],
   "source": [
    "stop_run = dt.datetime.now() # измеряем время выполнения команды run-all-cells\n",
    "print('If you see this line, then run-all-cells command has been executed successfully!')\n",
    "print('Full execution time was', round((stop_run-start_run).total_seconds(),2),'seconds. ',\n",
    "     'The last run-through of this Notebook was on', stop_run.date(), 'at', str(stop_run.time()).split('.')[0] )"
   ]
  }
 ],
 "metadata": {
  "kernelspec": {
   "display_name": "Python 3 (ipykernel)",
   "language": "python",
   "name": "python3"
  },
  "language_info": {
   "codemirror_mode": {
    "name": "ipython",
    "version": 3
   },
   "file_extension": ".py",
   "mimetype": "text/x-python",
   "name": "python",
   "nbconvert_exporter": "python",
   "pygments_lexer": "ipython3",
   "version": "3.9.13"
  },
  "toc": {
   "base_numbering": 1,
   "nav_menu": {},
   "number_sections": true,
   "sideBar": true,
   "skip_h1_title": true,
   "title_cell": "Table of Contents",
   "title_sidebar": "Contents",
   "toc_cell": true,
   "toc_position": {
    "height": "calc(100% - 180px)",
    "left": "10px",
    "top": "150px",
    "width": "365.284px"
   },
   "toc_section_display": true,
   "toc_window_display": true
  }
 },
 "nbformat": 4,
 "nbformat_minor": 5
}
