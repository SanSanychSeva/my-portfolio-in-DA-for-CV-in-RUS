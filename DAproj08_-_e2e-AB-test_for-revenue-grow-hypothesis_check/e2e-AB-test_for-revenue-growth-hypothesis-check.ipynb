{
 "cells": [
  {
   "cell_type": "markdown",
   "id": "a6df2a7b",
   "metadata": {},
   "source": [
    "# Отчет по проекту: *подготовка и анализ промежуточных результатов АВ-тестирования для обоснования способа увеличения выручки интернет магазина*\n",
    "\n",
    "## Даты выполнения проекта: 16.08.2022 - 19.08.2022 \n",
    "Указанные даты не включают период организационно-технических мероприятий Заказчика по проведению АВ-тестирования, а также период мозгового штурма совместно с маркетингом Заказчика по выдвижению предложений (гипотез) по методам повышения выручки.\n",
    "\n",
    "## Цели и задачи проекта\n",
    "\n",
    "### Цели проекта:\n",
    "1. Дать обоснованные АВ-тестированием предложения по увеличению выручки\n",
    "2. Оптимизировать сроки и затраты АВ-тестирования при сохранении бизнес-значимости результатов.\n",
    "3. Провести корректный анализ промежуточных результатов АВ-тестирования в точке контроля их проведения, дать рекомендации по дальнейшему тестированию.\n",
    "\n",
    "### Задачи проекта:\n",
    "1. Изучить предоставленный отделом маркетинга список гипотез по увеличению выручки.\n",
    "2. На базе полученного предварительным исследованием скоринга различных параметров гипотез осуществить приоритезацию гипотез для АВ-тестирования различными методиками.\n",
    "3. **Вне данного проекта** находится принятие решения на базе приоретизации о том, какая гипотеза будет тестироваться, а также организационно-техническое обеспечение и проведение самих тестов.\n",
    "4. **Вне данного проекта** находится процедура определения А и В групп пользователей, включая:\n",
    " * проверку факта их репрезентативности для популяции всех пользователей интернет-магазина;\n",
    " * проверку факта, что **все** они были активны в период проведения АВ-тестирования (то есть совершили как минимум один аутентифицированный визит на сайт магазина);\n",
    " * а также проверку АА-тестированием их статистической равнозначности по всем параметрам, потенциально влияющим на выручку и на принятие пользователями изменений для группы В, предлагаемых в тестируемой гипотезе.\n",
    "5. Провести проверку статистической значимости промежуточных результатов АВ тестирования в точке контроля.\n",
    "6. Принять решение по требуемому уровню статистической значимости для принятия нулевой гипотезы.\n",
    "7. Определить мощность проведенного АВ-тестирования.\n",
    "8. Сделать выводы в отношении нулевой гипотезы - есть ли основания ее отвергнуть.\n",
    "9. Дать рекомендации по целесообразности продолжения дальнейшего тестирования.\n",
    "\n",
    "## Исходные данные\n",
    "\n",
    "### Часть 1 - проводится до начала АВ-тестирования\n",
    "Получен файл /datasets/**hypothesis.csv** , содержащий информацию о гипотезах по увеличению выручки со следующими полями записей в нем:\n",
    "* `Hypothesis    —` краткое описание гипотезы;\n",
    "* `Reach         —` охват пользователей по 10-балльной шкале;\n",
    "* `Impact        —` влияние на пользователей по 10-балльной шкале;\n",
    "* `Confidence    —` уверенность в гипотезе по 10-балльной шкале;\n",
    "* `Efforts       —` затраты ресурсов на проверку гипотезы по 10-балльной шкале. Чем больше значение Efforts, тем дороже проверка гипотезы.\n",
    "\n",
    "\n",
    "### Часть 2 - проводится в точке контроля промежуточных результатов АВ-тестирования\n",
    "Получен файл  /datasets/**orders.csv** ,  содержащий информацию о заказах, совершенных пользователями групп А и В за период тестирования (**NB!**: пользователи групп А и В, не совершившие ни одного заказа, не присутствуют в данном файле) со следующими полями записей в нем:\n",
    "* `transactionId —` идентификатор заказа;\n",
    "* `visitorId     —` идентификатор пользователя, совершившего заказ;\n",
    "* `date          —` дата, когда был совершён заказ;\n",
    "* `revenue       —` выручка заказа;\n",
    "* `group         —` группа A/B-теста, в которую попал заказ.\n",
    "\n",
    "Получен файл /datasets/**visitors.csv** , содержащий агрегированную по дням АВ-тестирования информацию о \"посещениях\" магазина (заход на сайт с успешной аутентификацией), совершенных пользователями групп А и В за период тестирования (**NB!**: мы предполагаем, что все пользователи групп А и В зашли на сайт магазина как мининун один раз за время проведения АВ-тестирования - в противном случае надо опять проводить АА-тест), со следующими полями записей в нем:\n",
    "* `date          —` дата;\n",
    "* `group         —` группа A/B-теста;\n",
    "* `visitors      —` количество пользователей в указанную дату в указанной группе A/B-теста \\*)\n",
    "\n",
    "\\* *) уникальных пользователей для данного дня*\n"
   ]
  },
  {
   "cell_type": "code",
   "execution_count": 1,
   "id": "baaa21b2",
   "metadata": {},
   "outputs": [],
   "source": [
    "# приготовимся к использованию нужных библиотек:\n",
    "\n",
    "import pandas as pd\n",
    "import scipy.stats as stats\n",
    "import datetime as dt\n",
    "import numpy as np\n",
    "from matplotlib import pyplot as plt"
   ]
  },
  {
   "cell_type": "markdown",
   "id": "8f51041b",
   "metadata": {},
   "source": [
    "# Часть 1.  Приоритезация гипотез\n",
    "До начала АВ-тестирования Заказчику следует определиться, какую гипотезу он будет проверять в первую очередь.  Судя по предоставленному описанию полей, файл с гипотезами содержит также результаты экспертного опроса для сравнения гипотез методами (R)ICE.  Мы планируем расчитать ICE-score и RICE-score и приоритезировать список гипотез соответственно:\n",
    "\n",
    "$$ ICE = {Impact * Confidence\\over Efforts} \\space\\space\\space\\space\\space\\space\\space\\space\\space\\space\\space\\space\\space\\space\\space\\space\\space\\space\\space\\space\\space RICE = {Reach * Impact * Confidence \\over Efforts}$$\n",
    "\n",
    "Сразу заметим, что поскольку бизнес целью является повышение revenue, а не улучшение удельных метрик одного пользователя (LTV, CAC, ROI, CR, RR), то финальная приоритезация будет сделана по RICE-score"
   ]
  },
  {
   "cell_type": "code",
   "execution_count": 2,
   "id": "6096146d",
   "metadata": {},
   "outputs": [
    {
     "name": "stdout",
     "output_type": "stream",
     "text": [
      "<class 'pandas.core.frame.DataFrame'>\n",
      "RangeIndex: 9 entries, 0 to 8\n",
      "Data columns (total 5 columns):\n",
      " #   Column      Non-Null Count  Dtype \n",
      "---  ------      --------------  ----- \n",
      " 0   Hypothesis  9 non-null      object\n",
      " 1   Reach       9 non-null      int64 \n",
      " 2   Impact      9 non-null      int64 \n",
      " 3   Confidence  9 non-null      int64 \n",
      " 4   Efforts     9 non-null      int64 \n",
      "dtypes: int64(4), object(1)\n",
      "memory usage: 488.0+ bytes\n"
     ]
    }
   ],
   "source": [
    "# считываем датасет в одноименную переменную:\n",
    "# (применяем try-except, чтобы работало и локально, и на тренажере)\n",
    "\n",
    "try:\n",
    "    hypothesis_df = pd.read_csv('datasets/hypothesis.csv')\n",
    "except:\n",
    "    hypothesis_df = pd.read_csv('/datasets/hypothesis.csv')\n",
    "\n",
    "hypothesis_df.info()"
   ]
  },
  {
   "cell_type": "markdown",
   "id": "6fafe45d",
   "metadata": {},
   "source": [
    "## Полный список гипотез"
   ]
  },
  {
   "cell_type": "code",
   "execution_count": 3,
   "id": "5aed2032",
   "metadata": {},
   "outputs": [
    {
     "name": "stdout",
     "output_type": "stream",
     "text": [
      "\n",
      "ПОЛНЫЙ СПИСОК ПРЕДЛОЖЕННЫХ МЕТОДОВ (ГИПОТЕЗ) ПОВЫШЕНИЯ ВЫРУЧКИ ИНТЕРНЕТ МАГАЗИНА:\n",
      "\n",
      "Гипотеза № 0 :  Добавить два новых канала привлечения трафика, что позволит привлекать на 30% больше пользователей\n",
      "Гипотеза № 1 :  Запустить собственную службу доставки, что сократит срок доставки заказов\n",
      "Гипотеза № 2 :  Добавить блоки рекомендаций товаров на сайт интернет магазина, чтобы повысить конверсию и средний чек заказа\n",
      "Гипотеза № 3 :  Изменить структура категорий, что увеличит конверсию, т.к. пользователи быстрее найдут нужный товар\n",
      "Гипотеза № 4 :  Изменить цвет фона главной страницы, чтобы увеличить вовлеченность пользователей\n",
      "Гипотеза № 5 :  Добавить страницу отзывов клиентов о магазине, что позволит увеличить количество заказов\n",
      "Гипотеза № 6 :  Показать на главной странице баннеры с актуальными акциями и распродажами, чтобы увеличить конверсию\n",
      "Гипотеза № 7 :  Добавить форму подписки на все основные страницы, чтобы собрать базу клиентов для email-рассылок\n",
      "Гипотеза № 8 :  Запустить акцию, дающую скидку на товар в день рождения\n"
     ]
    }
   ],
   "source": [
    "# поскольку опрос оценок для расчета скоринга уже проведен, технически нам не нужны сами описания гипотез, \n",
    "# но для полноты проекта выведем их полностью в данный отчет: \n",
    "# (не смотря на краткость описания, простой вывод датасета не позволяет прочитаь текст с описанием гипотез полностью, поэтому:)\n",
    "\n",
    "print()\n",
    "print('ПОЛНЫЙ СПИСОК ПРЕДЛОЖЕННЫХ МЕТОДОВ (ГИПОТЕЗ) ПОВЫШЕНИЯ ВЫРУЧКИ ИНТЕРНЕТ МАГАЗИНА:')\n",
    "print()\n",
    "for i in list(hypothesis_df.index):\n",
    "    print('Гипотеза №', i,': ', hypothesis_df.loc[i,'Hypothesis'])"
   ]
  },
  {
   "cell_type": "markdown",
   "id": "9f9470fe",
   "metadata": {},
   "source": [
    "Да уж: формулировки действительно очень краткие, доверимся маркетингу, что они знают детали для организации соответствующего тестирования!"
   ]
  },
  {
   "cell_type": "markdown",
   "id": "0b84d21b",
   "metadata": {},
   "source": [
    "## Приоритезация гипотез по интенсивному критерию ICE"
   ]
  },
  {
   "cell_type": "code",
   "execution_count": 4,
   "id": "d2c99a58",
   "metadata": {},
   "outputs": [],
   "source": [
    "hypothesis_df['ICE_score'] = round( ( hypothesis_df['Impact'] * hypothesis_df['Confidence'] ) / hypothesis_df['Efforts'] , 2)\n",
    "\n",
    "ICE_priority_npa = np.array( hypothesis_df.sort_values('ICE_score', ascending=False).index )\n",
    "\n",
    "hypothesis_df = hypothesis_df.join(pd.DataFrame(\n",
    "    np.array(range(len(ICE_priority_npa))), index=ICE_priority_npa, columns=['ICE_priority']\n",
    ") )\n",
    "hypothesis_df['ICE_priority'] = hypothesis_df['ICE_priority'] + 1 # иначе нумерация с нуля"
   ]
  },
  {
   "cell_type": "code",
   "execution_count": 5,
   "id": "44ed33aa",
   "metadata": {},
   "outputs": [
    {
     "name": "stdout",
     "output_type": "stream",
     "text": [
      "\n",
      "ТАБЛИЦА: СПИСОК ГИПОТЕЗ В ПОРЯДКЕ УБЫВАНИЯ ПРИОРИТЕТА СОГЛАСНО ICE-SCORE\n"
     ]
    },
    {
     "data": {
      "text/html": [
       "<div>\n",
       "<style scoped>\n",
       "    .dataframe tbody tr th:only-of-type {\n",
       "        vertical-align: middle;\n",
       "    }\n",
       "\n",
       "    .dataframe tbody tr th {\n",
       "        vertical-align: top;\n",
       "    }\n",
       "\n",
       "    .dataframe thead th {\n",
       "        text-align: right;\n",
       "    }\n",
       "</style>\n",
       "<table border=\"1\" class=\"dataframe\">\n",
       "  <thead>\n",
       "    <tr style=\"text-align: right;\">\n",
       "      <th></th>\n",
       "      <th>Hypothesis</th>\n",
       "      <th>ICE_score</th>\n",
       "      <th>ICE_priority</th>\n",
       "    </tr>\n",
       "  </thead>\n",
       "  <tbody>\n",
       "    <tr>\n",
       "      <th>8</th>\n",
       "      <td>Запустить акцию, дающую скидку на товар в день...</td>\n",
       "      <td>16.20</td>\n",
       "      <td>1</td>\n",
       "    </tr>\n",
       "    <tr>\n",
       "      <th>0</th>\n",
       "      <td>Добавить два новых канала привлечения трафика,...</td>\n",
       "      <td>13.33</td>\n",
       "      <td>2</td>\n",
       "    </tr>\n",
       "    <tr>\n",
       "      <th>7</th>\n",
       "      <td>Добавить форму подписки на все основные страни...</td>\n",
       "      <td>11.20</td>\n",
       "      <td>3</td>\n",
       "    </tr>\n",
       "    <tr>\n",
       "      <th>6</th>\n",
       "      <td>Показать на главной странице баннеры с актуаль...</td>\n",
       "      <td>8.00</td>\n",
       "      <td>4</td>\n",
       "    </tr>\n",
       "    <tr>\n",
       "      <th>2</th>\n",
       "      <td>Добавить блоки рекомендаций товаров на сайт ин...</td>\n",
       "      <td>7.00</td>\n",
       "      <td>5</td>\n",
       "    </tr>\n",
       "    <tr>\n",
       "      <th>1</th>\n",
       "      <td>Запустить собственную службу доставки, что сок...</td>\n",
       "      <td>2.00</td>\n",
       "      <td>6</td>\n",
       "    </tr>\n",
       "    <tr>\n",
       "      <th>5</th>\n",
       "      <td>Добавить страницу отзывов клиентов о магазине,...</td>\n",
       "      <td>1.33</td>\n",
       "      <td>7</td>\n",
       "    </tr>\n",
       "    <tr>\n",
       "      <th>3</th>\n",
       "      <td>Изменить структура категорий, что увеличит кон...</td>\n",
       "      <td>1.12</td>\n",
       "      <td>8</td>\n",
       "    </tr>\n",
       "    <tr>\n",
       "      <th>4</th>\n",
       "      <td>Изменить цвет фона главной страницы, чтобы уве...</td>\n",
       "      <td>1.00</td>\n",
       "      <td>9</td>\n",
       "    </tr>\n",
       "  </tbody>\n",
       "</table>\n",
       "</div>"
      ],
      "text/plain": [
       "                                          Hypothesis  ICE_score  ICE_priority\n",
       "8  Запустить акцию, дающую скидку на товар в день...      16.20             1\n",
       "0  Добавить два новых канала привлечения трафика,...      13.33             2\n",
       "7  Добавить форму подписки на все основные страни...      11.20             3\n",
       "6  Показать на главной странице баннеры с актуаль...       8.00             4\n",
       "2  Добавить блоки рекомендаций товаров на сайт ин...       7.00             5\n",
       "1  Запустить собственную службу доставки, что сок...       2.00             6\n",
       "5  Добавить страницу отзывов клиентов о магазине,...       1.33             7\n",
       "3  Изменить структура категорий, что увеличит кон...       1.12             8\n",
       "4  Изменить цвет фона главной страницы, чтобы уве...       1.00             9"
      ]
     },
     "execution_count": 5,
     "metadata": {},
     "output_type": "execute_result"
    }
   ],
   "source": [
    "print()\n",
    "print('ТАБЛИЦА: СПИСОК ГИПОТЕЗ В ПОРЯДКЕ УБЫВАНИЯ ПРИОРИТЕТА СОГЛАСНО ICE-SCORE')\n",
    "hypothesis_df.sort_values('ICE_score', ascending=False)[['Hypothesis','ICE_score','ICE_priority']]"
   ]
  },
  {
   "cell_type": "markdown",
   "id": "207e1bc6",
   "metadata": {},
   "source": [
    "## Приоритезация гипотез по экстенсивному критерию RICE"
   ]
  },
  {
   "cell_type": "code",
   "execution_count": 6,
   "id": "6d6bc796",
   "metadata": {},
   "outputs": [],
   "source": [
    "hypothesis_df['RICE_score'] = round( \n",
    "    ( hypothesis_df['Reach'] * hypothesis_df['Impact'] * hypothesis_df['Confidence'] ) / hypothesis_df['Efforts'] , 2)\n",
    "\n",
    "RICE_priority_npa = np.array( hypothesis_df.sort_values('RICE_score', ascending=False).index )\n",
    "\n",
    "hypothesis_df = hypothesis_df.join(pd.DataFrame(\n",
    "    np.array(range(len(ICE_priority_npa))), index=RICE_priority_npa, columns=['RICE_priority']\n",
    ") )\n",
    "hypothesis_df['RICE_priority'] = hypothesis_df['RICE_priority'] + 1 # иначе нумерация с нуля"
   ]
  },
  {
   "cell_type": "code",
   "execution_count": 7,
   "id": "2558db6c",
   "metadata": {},
   "outputs": [
    {
     "name": "stdout",
     "output_type": "stream",
     "text": [
      "\n",
      "ТАБЛИЦА: СПИСОК ГИПОТЕЗ В ПОРЯДКЕ УБЫВАНИЯ ПРИОРИТЕТА СОГЛАСНО RICE-SCORE\n"
     ]
    },
    {
     "data": {
      "text/html": [
       "<div>\n",
       "<style scoped>\n",
       "    .dataframe tbody tr th:only-of-type {\n",
       "        vertical-align: middle;\n",
       "    }\n",
       "\n",
       "    .dataframe tbody tr th {\n",
       "        vertical-align: top;\n",
       "    }\n",
       "\n",
       "    .dataframe thead th {\n",
       "        text-align: right;\n",
       "    }\n",
       "</style>\n",
       "<table border=\"1\" class=\"dataframe\">\n",
       "  <thead>\n",
       "    <tr style=\"text-align: right;\">\n",
       "      <th></th>\n",
       "      <th>Hypothesis</th>\n",
       "      <th>ICE_score</th>\n",
       "      <th>RICE_score</th>\n",
       "      <th>ICE_priority</th>\n",
       "      <th>RICE_priority</th>\n",
       "    </tr>\n",
       "  </thead>\n",
       "  <tbody>\n",
       "    <tr>\n",
       "      <th>7</th>\n",
       "      <td>Добавить форму подписки на все основные страни...</td>\n",
       "      <td>11.20</td>\n",
       "      <td>112.0</td>\n",
       "      <td>3</td>\n",
       "      <td>1</td>\n",
       "    </tr>\n",
       "    <tr>\n",
       "      <th>2</th>\n",
       "      <td>Добавить блоки рекомендаций товаров на сайт ин...</td>\n",
       "      <td>7.00</td>\n",
       "      <td>56.0</td>\n",
       "      <td>5</td>\n",
       "      <td>2</td>\n",
       "    </tr>\n",
       "    <tr>\n",
       "      <th>0</th>\n",
       "      <td>Добавить два новых канала привлечения трафика,...</td>\n",
       "      <td>13.33</td>\n",
       "      <td>40.0</td>\n",
       "      <td>2</td>\n",
       "      <td>3</td>\n",
       "    </tr>\n",
       "    <tr>\n",
       "      <th>6</th>\n",
       "      <td>Показать на главной странице баннеры с актуаль...</td>\n",
       "      <td>8.00</td>\n",
       "      <td>40.0</td>\n",
       "      <td>4</td>\n",
       "      <td>4</td>\n",
       "    </tr>\n",
       "    <tr>\n",
       "      <th>8</th>\n",
       "      <td>Запустить акцию, дающую скидку на товар в день...</td>\n",
       "      <td>16.20</td>\n",
       "      <td>16.2</td>\n",
       "      <td>1</td>\n",
       "      <td>5</td>\n",
       "    </tr>\n",
       "    <tr>\n",
       "      <th>3</th>\n",
       "      <td>Изменить структура категорий, что увеличит кон...</td>\n",
       "      <td>1.12</td>\n",
       "      <td>9.0</td>\n",
       "      <td>8</td>\n",
       "      <td>6</td>\n",
       "    </tr>\n",
       "    <tr>\n",
       "      <th>1</th>\n",
       "      <td>Запустить собственную службу доставки, что сок...</td>\n",
       "      <td>2.00</td>\n",
       "      <td>4.0</td>\n",
       "      <td>6</td>\n",
       "      <td>7</td>\n",
       "    </tr>\n",
       "    <tr>\n",
       "      <th>5</th>\n",
       "      <td>Добавить страницу отзывов клиентов о магазине,...</td>\n",
       "      <td>1.33</td>\n",
       "      <td>4.0</td>\n",
       "      <td>7</td>\n",
       "      <td>8</td>\n",
       "    </tr>\n",
       "    <tr>\n",
       "      <th>4</th>\n",
       "      <td>Изменить цвет фона главной страницы, чтобы уве...</td>\n",
       "      <td>1.00</td>\n",
       "      <td>3.0</td>\n",
       "      <td>9</td>\n",
       "      <td>9</td>\n",
       "    </tr>\n",
       "  </tbody>\n",
       "</table>\n",
       "</div>"
      ],
      "text/plain": [
       "                                          Hypothesis  ICE_score  RICE_score  \\\n",
       "7  Добавить форму подписки на все основные страни...      11.20       112.0   \n",
       "2  Добавить блоки рекомендаций товаров на сайт ин...       7.00        56.0   \n",
       "0  Добавить два новых канала привлечения трафика,...      13.33        40.0   \n",
       "6  Показать на главной странице баннеры с актуаль...       8.00        40.0   \n",
       "8  Запустить акцию, дающую скидку на товар в день...      16.20        16.2   \n",
       "3  Изменить структура категорий, что увеличит кон...       1.12         9.0   \n",
       "1  Запустить собственную службу доставки, что сок...       2.00         4.0   \n",
       "5  Добавить страницу отзывов клиентов о магазине,...       1.33         4.0   \n",
       "4  Изменить цвет фона главной страницы, чтобы уве...       1.00         3.0   \n",
       "\n",
       "   ICE_priority  RICE_priority  \n",
       "7             3              1  \n",
       "2             5              2  \n",
       "0             2              3  \n",
       "6             4              4  \n",
       "8             1              5  \n",
       "3             8              6  \n",
       "1             6              7  \n",
       "5             7              8  \n",
       "4             9              9  "
      ]
     },
     "execution_count": 7,
     "metadata": {},
     "output_type": "execute_result"
    }
   ],
   "source": [
    "print()\n",
    "print('ТАБЛИЦА: СПИСОК ГИПОТЕЗ В ПОРЯДКЕ УБЫВАНИЯ ПРИОРИТЕТА СОГЛАСНО RICE-SCORE')\n",
    "hypothesis_df.sort_values('RICE_score', ascending=False)[['Hypothesis','ICE_score','RICE_score','ICE_priority','RICE_priority']]"
   ]
  },
  {
   "cell_type": "markdown",
   "id": "519f1225",
   "metadata": {},
   "source": [
    "**Анализ таблицы**: мы видим, что при переходе от интенсивного критерия ICE к экстенсивному критерию RICE приоритеты сильно поменялись:\n",
    "* Номер 1 по ICE - стал номером 5 по RICE;\n",
    "* Номер 2 по ICE - стал номером 3 по RICE;\n",
    "* И победитель: **номер 3 по ICE - стал номером 1 по RICE - это гипотеза номер 8** (номер гипотезы = индекс + 1).\n",
    "\n",
    "Не изменили позиций только:\n",
    "* Номер 4 по ICE - остался номером 4 по RICE;\n",
    "* Номер 9 по ICE - остался номером 9 по RICE.\n",
    "\n",
    "## Выводы по Части 1 проекта:\n",
    "1. Поскольку бизнес задачей проекта является увеличение ревеню, то фактор максимизации охвата гипотезой пользовательской базы является важным.  В связи с этим мы рекомендуем рейтинг RICE для предложенных гипотез.\n",
    "2. Согласно рейтингу RICE самой приоритетной является 8-ая гипотеза (из 9-и расмотренных), она также показала неплохой рейтинг ICE по улучшению удельных метрик пользователя (по ICE 8-ая гипотеза была на 3-ем месте из 9-и).\n",
    "3. Предполагаемая **причина** определившегося лидера - гипотеза адресует всех пользователей интернета, которые еще не знают о магазине, то есть охват самый большой из возможных.\n",
    "4. Остальные детали приоритезации гипотез приведены в Таблице \"Список гипотез в порядка убывания согласно RICE-score\" выше. (**NB!**: номера гипотез на единицу больше нумерации индексов в таблице, из-за начала последних с нуля)."
   ]
  },
  {
   "cell_type": "code",
   "execution_count": 8,
   "id": "c672fdea",
   "metadata": {},
   "outputs": [
    {
     "name": "stdout",
     "output_type": "stream",
     "text": [
      "\n",
      "ПЕРВОЕ МЕСТО ПО РЕЙТИНГУ RICE СРЕДИ СПИСКА ПРЕДЛОЖЕННЫХ МЕТОДОВ (ГИПОТЕЗ) ПОВЫШЕНИЯ ВЫРУЧКИ ИНТЕРНЕТ МАГАЗИНА:\n"
     ]
    },
    {
     "data": {
      "text/plain": [
       "'Добавить форму подписки на все основные страницы, чтобы собрать базу клиентов для email-рассылок'"
      ]
     },
     "execution_count": 8,
     "metadata": {},
     "output_type": "execute_result"
    }
   ],
   "source": [
    "print()\n",
    "print('ПЕРВОЕ МЕСТО ПО РЕЙТИНГУ RICE СРЕДИ СПИСКА ПРЕДЛОЖЕННЫХ МЕТОДОВ (ГИПОТЕЗ) ПОВЫШЕНИЯ ВЫРУЧКИ ИНТЕРНЕТ МАГАЗИНА:')\n",
    "hypothesis_df.loc[7,'Hypothesis']"
   ]
  },
  {
   "cell_type": "markdown",
   "id": "c8820de4",
   "metadata": {},
   "source": [
    "# Часть 2. Анализ А/В теста\n",
    "\n",
    "## Предобработка данных"
   ]
  },
  {
   "cell_type": "markdown",
   "id": "d04b8a90",
   "metadata": {},
   "source": [
    "### Считывание датасетов в переменные.  Исправление нотаций и приведение типов данных"
   ]
  },
  {
   "cell_type": "code",
   "execution_count": 9,
   "id": "3fec4ad0",
   "metadata": {},
   "outputs": [
    {
     "name": "stdout",
     "output_type": "stream",
     "text": [
      "<class 'pandas.core.frame.DataFrame'>\n",
      "RangeIndex: 1197 entries, 0 to 1196\n",
      "Data columns (total 5 columns):\n",
      " #   Column         Non-Null Count  Dtype \n",
      "---  ------         --------------  ----- \n",
      " 0   transactionId  1197 non-null   int64 \n",
      " 1   visitorId      1197 non-null   int64 \n",
      " 2   date           1197 non-null   object\n",
      " 3   revenue        1197 non-null   int64 \n",
      " 4   group          1197 non-null   object\n",
      "dtypes: int64(3), object(2)\n",
      "memory usage: 46.9+ KB\n"
     ]
    }
   ],
   "source": [
    "try:\n",
    "    orders_df = pd.read_csv('datasets/orders.csv')\n",
    "except:\n",
    "    orders_df = pd.read_csv('/datasets/orders.csv')\n",
    "\n",
    "orders_df.info()"
   ]
  },
  {
   "cell_type": "code",
   "execution_count": 10,
   "id": "2d1aca53",
   "metadata": {},
   "outputs": [],
   "source": [
    "# приводим типы и нотацию\n",
    "orders_df['date'] = pd.to_datetime(orders_df['date'])\n",
    "orders_df.rename(columns = {'transactionId':'transaction_id','visitorId':'visitor_id'}, inplace=True)"
   ]
  },
  {
   "cell_type": "code",
   "execution_count": 11,
   "id": "ef07ce07",
   "metadata": {},
   "outputs": [
    {
     "name": "stdout",
     "output_type": "stream",
     "text": [
      "<class 'pandas.core.frame.DataFrame'>\n",
      "RangeIndex: 62 entries, 0 to 61\n",
      "Data columns (total 3 columns):\n",
      " #   Column    Non-Null Count  Dtype \n",
      "---  ------    --------------  ----- \n",
      " 0   date      62 non-null     object\n",
      " 1   group     62 non-null     object\n",
      " 2   visitors  62 non-null     int64 \n",
      "dtypes: int64(1), object(2)\n",
      "memory usage: 1.6+ KB\n"
     ]
    }
   ],
   "source": [
    "try:\n",
    "    visitors_df = pd.read_csv('datasets/visitors.csv')\n",
    "except:\n",
    "    visitors_df = pd.read_csv('/datasets/visitors.csv')\n",
    "\n",
    "visitors_df.info()"
   ]
  },
  {
   "cell_type": "code",
   "execution_count": 12,
   "id": "79db47e7",
   "metadata": {},
   "outputs": [],
   "source": [
    "# приводим типы\n",
    "visitors_df['date'] = pd.to_datetime(visitors_df['date'])"
   ]
  },
  {
   "cell_type": "markdown",
   "id": "19e4ee4f",
   "metadata": {},
   "source": [
    "### Предварительное ознакомление с данными"
   ]
  },
  {
   "cell_type": "code",
   "execution_count": 13,
   "id": "18211682",
   "metadata": {},
   "outputs": [
    {
     "data": {
      "text/html": [
       "<div>\n",
       "<style scoped>\n",
       "    .dataframe tbody tr th:only-of-type {\n",
       "        vertical-align: middle;\n",
       "    }\n",
       "\n",
       "    .dataframe tbody tr th {\n",
       "        vertical-align: top;\n",
       "    }\n",
       "\n",
       "    .dataframe thead th {\n",
       "        text-align: right;\n",
       "    }\n",
       "</style>\n",
       "<table border=\"1\" class=\"dataframe\">\n",
       "  <thead>\n",
       "    <tr style=\"text-align: right;\">\n",
       "      <th></th>\n",
       "      <th>transaction_id</th>\n",
       "      <th>visitor_id</th>\n",
       "      <th>date</th>\n",
       "      <th>revenue</th>\n",
       "      <th>group</th>\n",
       "    </tr>\n",
       "  </thead>\n",
       "  <tbody>\n",
       "    <tr>\n",
       "      <th>0</th>\n",
       "      <td>3667963787</td>\n",
       "      <td>3312258926</td>\n",
       "      <td>2019-08-15</td>\n",
       "      <td>1650</td>\n",
       "      <td>B</td>\n",
       "    </tr>\n",
       "    <tr>\n",
       "      <th>1</th>\n",
       "      <td>2804400009</td>\n",
       "      <td>3642806036</td>\n",
       "      <td>2019-08-15</td>\n",
       "      <td>730</td>\n",
       "      <td>B</td>\n",
       "    </tr>\n",
       "    <tr>\n",
       "      <th>2</th>\n",
       "      <td>2961555356</td>\n",
       "      <td>4069496402</td>\n",
       "      <td>2019-08-15</td>\n",
       "      <td>400</td>\n",
       "      <td>A</td>\n",
       "    </tr>\n",
       "    <tr>\n",
       "      <th>3</th>\n",
       "      <td>3797467345</td>\n",
       "      <td>1196621759</td>\n",
       "      <td>2019-08-15</td>\n",
       "      <td>9759</td>\n",
       "      <td>B</td>\n",
       "    </tr>\n",
       "    <tr>\n",
       "      <th>4</th>\n",
       "      <td>2282983706</td>\n",
       "      <td>2322279887</td>\n",
       "      <td>2019-08-15</td>\n",
       "      <td>2308</td>\n",
       "      <td>B</td>\n",
       "    </tr>\n",
       "  </tbody>\n",
       "</table>\n",
       "</div>"
      ],
      "text/plain": [
       "   transaction_id  visitor_id       date  revenue group\n",
       "0      3667963787  3312258926 2019-08-15     1650     B\n",
       "1      2804400009  3642806036 2019-08-15      730     B\n",
       "2      2961555356  4069496402 2019-08-15      400     A\n",
       "3      3797467345  1196621759 2019-08-15     9759     B\n",
       "4      2282983706  2322279887 2019-08-15     2308     B"
      ]
     },
     "execution_count": 13,
     "metadata": {},
     "output_type": "execute_result"
    }
   ],
   "source": [
    "orders_df.head() # убедимся, что в датасете присутствует только дата заказа - без момента времени заказа (для сшивок)"
   ]
  },
  {
   "cell_type": "markdown",
   "id": "29b10f1b",
   "metadata": {},
   "source": [
    "**Вывод**: датасеты можно объединять по полю `date`"
   ]
  },
  {
   "cell_type": "code",
   "execution_count": 14,
   "id": "a8826505",
   "metadata": {},
   "outputs": [
    {
     "data": {
      "text/html": [
       "<div>\n",
       "<style scoped>\n",
       "    .dataframe tbody tr th:only-of-type {\n",
       "        vertical-align: middle;\n",
       "    }\n",
       "\n",
       "    .dataframe tbody tr th {\n",
       "        vertical-align: top;\n",
       "    }\n",
       "\n",
       "    .dataframe thead th {\n",
       "        text-align: right;\n",
       "    }\n",
       "</style>\n",
       "<table border=\"1\" class=\"dataframe\">\n",
       "  <thead>\n",
       "    <tr style=\"text-align: right;\">\n",
       "      <th></th>\n",
       "      <th>date</th>\n",
       "      <th>revenue</th>\n",
       "    </tr>\n",
       "  </thead>\n",
       "  <tbody>\n",
       "    <tr>\n",
       "      <th>count</th>\n",
       "      <td>1197</td>\n",
       "      <td>1197</td>\n",
       "    </tr>\n",
       "    <tr>\n",
       "      <th>mean</th>\n",
       "      <td>2019-08-15 13:06:46.015037696</td>\n",
       "      <td>8348</td>\n",
       "    </tr>\n",
       "    <tr>\n",
       "      <th>min</th>\n",
       "      <td>2019-08-01 00:00:00</td>\n",
       "      <td>50</td>\n",
       "    </tr>\n",
       "    <tr>\n",
       "      <th>25%</th>\n",
       "      <td>2019-08-08 00:00:00</td>\n",
       "      <td>1220</td>\n",
       "    </tr>\n",
       "    <tr>\n",
       "      <th>50%</th>\n",
       "      <td>2019-08-15 00:00:00</td>\n",
       "      <td>2978</td>\n",
       "    </tr>\n",
       "    <tr>\n",
       "      <th>75%</th>\n",
       "      <td>2019-08-23 00:00:00</td>\n",
       "      <td>8290</td>\n",
       "    </tr>\n",
       "    <tr>\n",
       "      <th>max</th>\n",
       "      <td>2019-08-31 00:00:00</td>\n",
       "      <td>1294500</td>\n",
       "    </tr>\n",
       "    <tr>\n",
       "      <th>std</th>\n",
       "      <td>NaN</td>\n",
       "      <td>39191</td>\n",
       "    </tr>\n",
       "  </tbody>\n",
       "</table>\n",
       "</div>"
      ],
      "text/plain": [
       "                                date  revenue\n",
       "count                           1197     1197\n",
       "mean   2019-08-15 13:06:46.015037696     8348\n",
       "min              2019-08-01 00:00:00       50\n",
       "25%              2019-08-08 00:00:00     1220\n",
       "50%              2019-08-15 00:00:00     2978\n",
       "75%              2019-08-23 00:00:00     8290\n",
       "max              2019-08-31 00:00:00  1294500\n",
       "std                              NaN    39191"
      ]
     },
     "execution_count": 14,
     "metadata": {},
     "output_type": "execute_result"
    }
   ],
   "source": [
    "# посмотрим период тестирования и основную статистику цены заказа \n",
    "presentation_df = orders_df.describe(datetime_is_numeric=True)[['date','revenue']]\n",
    "presentation_df['revenue'] = presentation_df['revenue'].astype('int')\n",
    "presentation_df"
   ]
  },
  {
   "cell_type": "markdown",
   "id": "510ce64e",
   "metadata": {},
   "source": [
    "#### Выводы по orders_df:\n",
    "* Период тестирования по датасету `orders_df` - **с 2019-08-01 по 2019-08-31**.\n",
    "* Распределение цены заказа сильно перекошено выбросами:\n",
    " * Медианное значение 2978;\n",
    " * Среднее значение 8348 (в 2.8 раза превышает медианное значение);\n",
    " * Стандартное отклонение 39191 (в 4.7 раз превышает среднее значение - при неотрицательности самой случайной величины);\n",
    " * Максимальное значение 1294500 (в 435 раз больше медианного значения)."
   ]
  },
  {
   "cell_type": "code",
   "execution_count": 15,
   "id": "56aac5b7",
   "metadata": {},
   "outputs": [
    {
     "data": {
      "text/html": [
       "<div>\n",
       "<style scoped>\n",
       "    .dataframe tbody tr th:only-of-type {\n",
       "        vertical-align: middle;\n",
       "    }\n",
       "\n",
       "    .dataframe tbody tr th {\n",
       "        vertical-align: top;\n",
       "    }\n",
       "\n",
       "    .dataframe thead th {\n",
       "        text-align: right;\n",
       "    }\n",
       "</style>\n",
       "<table border=\"1\" class=\"dataframe\">\n",
       "  <thead>\n",
       "    <tr style=\"text-align: right;\">\n",
       "      <th></th>\n",
       "      <th>date</th>\n",
       "      <th>visitors</th>\n",
       "    </tr>\n",
       "  </thead>\n",
       "  <tbody>\n",
       "    <tr>\n",
       "      <th>count</th>\n",
       "      <td>62</td>\n",
       "      <td>62.000000</td>\n",
       "    </tr>\n",
       "    <tr>\n",
       "      <th>mean</th>\n",
       "      <td>2019-08-16 00:00:00</td>\n",
       "      <td>607.290323</td>\n",
       "    </tr>\n",
       "    <tr>\n",
       "      <th>min</th>\n",
       "      <td>2019-08-01 00:00:00</td>\n",
       "      <td>361.000000</td>\n",
       "    </tr>\n",
       "    <tr>\n",
       "      <th>25%</th>\n",
       "      <td>2019-08-08 06:00:00</td>\n",
       "      <td>534.000000</td>\n",
       "    </tr>\n",
       "    <tr>\n",
       "      <th>50%</th>\n",
       "      <td>2019-08-16 00:00:00</td>\n",
       "      <td>624.500000</td>\n",
       "    </tr>\n",
       "    <tr>\n",
       "      <th>75%</th>\n",
       "      <td>2019-08-23 18:00:00</td>\n",
       "      <td>710.500000</td>\n",
       "    </tr>\n",
       "    <tr>\n",
       "      <th>max</th>\n",
       "      <td>2019-08-31 00:00:00</td>\n",
       "      <td>770.000000</td>\n",
       "    </tr>\n",
       "    <tr>\n",
       "      <th>std</th>\n",
       "      <td>NaN</td>\n",
       "      <td>114.400560</td>\n",
       "    </tr>\n",
       "  </tbody>\n",
       "</table>\n",
       "</div>"
      ],
      "text/plain": [
       "                      date    visitors\n",
       "count                   62   62.000000\n",
       "mean   2019-08-16 00:00:00  607.290323\n",
       "min    2019-08-01 00:00:00  361.000000\n",
       "25%    2019-08-08 06:00:00  534.000000\n",
       "50%    2019-08-16 00:00:00  624.500000\n",
       "75%    2019-08-23 18:00:00  710.500000\n",
       "max    2019-08-31 00:00:00  770.000000\n",
       "std                    NaN  114.400560"
      ]
     },
     "execution_count": 15,
     "metadata": {},
     "output_type": "execute_result"
    }
   ],
   "source": [
    "visitors_df.describe(datetime_is_numeric=True)"
   ]
  },
  {
   "cell_type": "markdown",
   "id": "99fbba89",
   "metadata": {},
   "source": [
    "#### Выводы по visitors_df:\n",
    "* Данные полны - 62 записи = 31 день для 2 групп: А и В.\n",
    "* Период тестирования по датасету `visitors_df` - **с 2019-08-01 по 2019-08-31**.\n",
    "* Распределение кол-ва посететелей в день выглядит похожим на нормальное:\n",
    " * Медианное значение 625;\n",
    " * Среднее значение 607 (отличие от медианного значения всего 2.9%);\n",
    " * Стандартное отклонение 114 (составляет примерно 1/6 от среднего/медианного значения);\n",
    " * Минимальное значение 361 еще далеко от нуля - по середине между центом распределения и нулем, и в пределах двух с половиной сигма от центра распределения;\n",
    " * Максимальное значение в пределах полторы сигма от центра распределения."
   ]
  },
  {
   "cell_type": "code",
   "execution_count": 16,
   "id": "ade6fff1",
   "metadata": {},
   "outputs": [
    {
     "name": "stdout",
     "output_type": "stream",
     "text": [
      "Кумулятивная активность в группе А = 604 визитов в день\n",
      "Кумулятивная активность в группе B = 610 визитов в день\n"
     ]
    }
   ],
   "source": [
    "# сравним активность пользователей в разных группах - чтобы оценить качество выделения групп для АВ-теста: \n",
    "print('Кумулятивная активность в группе А =', round(visitors_df.query('group==\"A\"')['visitors'].mean()), 'визитов в день')\n",
    "print('Кумулятивная активность в группе B =', round(visitors_df.query('group==\"B\"')['visitors'].mean()), 'визитов в день')"
   ]
  },
  {
   "cell_type": "markdown",
   "id": "a156ecf1",
   "metadata": {},
   "source": [
    "**Вывод**: пока претензий к подбору групп для АВ-теста нет"
   ]
  },
  {
   "cell_type": "markdown",
   "id": "628ef716",
   "metadata": {},
   "source": [
    "### Проверка данных на непротиворечивость\n",
    "Данный раздел был добавлен после того, как в дальнейшам анализе появились расхождения в кол-вах покупателей в разных группах - в сумме они получались явно больше чем общее кол-во покупателей.  Было сделано предположение, что возможно в исходном датасете orders_df есть записи, где один и тот де visitor_id ошибочно отнесен к разным группам!\n",
    "\n",
    "Воспользуемся свойством inner merge оставлять только те комбинации записей, для которых ключ сшивания совпал в обоих датасетах - разделим датасет orders_df на группы и сошьем их inner merge по visitor_id: если противоречий в orders_df нет, то в результате должно получиться ноль записей."
   ]
  },
  {
   "cell_type": "code",
   "execution_count": 17,
   "id": "c93d146f",
   "metadata": {},
   "outputs": [
    {
     "data": {
      "text/html": [
       "<div>\n",
       "<style scoped>\n",
       "    .dataframe tbody tr th:only-of-type {\n",
       "        vertical-align: middle;\n",
       "    }\n",
       "\n",
       "    .dataframe tbody tr th {\n",
       "        vertical-align: top;\n",
       "    }\n",
       "\n",
       "    .dataframe thead th {\n",
       "        text-align: right;\n",
       "    }\n",
       "</style>\n",
       "<table border=\"1\" class=\"dataframe\">\n",
       "  <thead>\n",
       "    <tr style=\"text-align: right;\">\n",
       "      <th></th>\n",
       "      <th>transaction_id_A</th>\n",
       "      <th>visitor_id</th>\n",
       "      <th>date_A</th>\n",
       "      <th>revenue_A</th>\n",
       "      <th>group_A</th>\n",
       "      <th>transaction_id_B</th>\n",
       "      <th>date_B</th>\n",
       "      <th>revenue_B</th>\n",
       "      <th>group_B</th>\n",
       "    </tr>\n",
       "  </thead>\n",
       "  <tbody>\n",
       "    <tr>\n",
       "      <th>0</th>\n",
       "      <td>2961555356</td>\n",
       "      <td>4069496402</td>\n",
       "      <td>2019-08-15</td>\n",
       "      <td>400</td>\n",
       "      <td>A</td>\n",
       "      <td>1473132782</td>\n",
       "      <td>2019-08-12</td>\n",
       "      <td>640</td>\n",
       "      <td>B</td>\n",
       "    </tr>\n",
       "    <tr>\n",
       "      <th>1</th>\n",
       "      <td>2223239646</td>\n",
       "      <td>199603092</td>\n",
       "      <td>2019-08-15</td>\n",
       "      <td>3488</td>\n",
       "      <td>A</td>\n",
       "      <td>437656952</td>\n",
       "      <td>2019-08-02</td>\n",
       "      <td>3488</td>\n",
       "      <td>B</td>\n",
       "    </tr>\n",
       "    <tr>\n",
       "      <th>2</th>\n",
       "      <td>62794304</td>\n",
       "      <td>199603092</td>\n",
       "      <td>2019-08-22</td>\n",
       "      <td>6976</td>\n",
       "      <td>A</td>\n",
       "      <td>437656952</td>\n",
       "      <td>2019-08-02</td>\n",
       "      <td>3488</td>\n",
       "      <td>B</td>\n",
       "    </tr>\n",
       "    <tr>\n",
       "      <th>3</th>\n",
       "      <td>2971973105</td>\n",
       "      <td>199603092</td>\n",
       "      <td>2019-08-27</td>\n",
       "      <td>2790</td>\n",
       "      <td>A</td>\n",
       "      <td>437656952</td>\n",
       "      <td>2019-08-02</td>\n",
       "      <td>3488</td>\n",
       "      <td>B</td>\n",
       "    </tr>\n",
       "    <tr>\n",
       "      <th>4</th>\n",
       "      <td>1941707234</td>\n",
       "      <td>199603092</td>\n",
       "      <td>2019-08-12</td>\n",
       "      <td>6438</td>\n",
       "      <td>A</td>\n",
       "      <td>437656952</td>\n",
       "      <td>2019-08-02</td>\n",
       "      <td>3488</td>\n",
       "      <td>B</td>\n",
       "    </tr>\n",
       "    <tr>\n",
       "      <th>5</th>\n",
       "      <td>2220299125</td>\n",
       "      <td>3803269165</td>\n",
       "      <td>2019-08-15</td>\n",
       "      <td>700</td>\n",
       "      <td>A</td>\n",
       "      <td>473864496</td>\n",
       "      <td>2019-08-23</td>\n",
       "      <td>2360</td>\n",
       "      <td>B</td>\n",
       "    </tr>\n",
       "  </tbody>\n",
       "</table>\n",
       "</div>"
      ],
      "text/plain": [
       "   transaction_id_A  visitor_id     date_A  revenue_A group_A  \\\n",
       "0        2961555356  4069496402 2019-08-15        400       A   \n",
       "1        2223239646   199603092 2019-08-15       3488       A   \n",
       "2          62794304   199603092 2019-08-22       6976       A   \n",
       "3        2971973105   199603092 2019-08-27       2790       A   \n",
       "4        1941707234   199603092 2019-08-12       6438       A   \n",
       "5        2220299125  3803269165 2019-08-15        700       A   \n",
       "\n",
       "   transaction_id_B     date_B  revenue_B group_B  \n",
       "0        1473132782 2019-08-12        640       B  \n",
       "1         437656952 2019-08-02       3488       B  \n",
       "2         437656952 2019-08-02       3488       B  \n",
       "3         437656952 2019-08-02       3488       B  \n",
       "4         437656952 2019-08-02       3488       B  \n",
       "5         473864496 2019-08-23       2360       B  "
      ]
     },
     "execution_count": 17,
     "metadata": {},
     "output_type": "execute_result"
    }
   ],
   "source": [
    "orders_df.query('group==\"A\"').merge(orders_df.query('group==\"B\"'), how='inner', on='visitor_id', suffixes=('_A','_B')).head(6)"
   ]
  },
  {
   "cell_type": "markdown",
   "id": "ced4980d",
   "metadata": {},
   "source": [
    "**Так и есть**: например, в строках с индексами 1,2,3,4 мы видим одного и того же пользователя, который совершил 2-ого августа покупку как пользователь В, а позже покинул группу и совершил 4 покупки 12-ого, 15-ого, 22-ого и 27-ого августа уже как пользователь группы А.  Видимо, это как раз случай \"фликера\", которого суппорт вывел из группы В после его жалоб на изменения пользовательского опыта и требований \"вернуть все как было\"."
   ]
  },
  {
   "cell_type": "code",
   "execution_count": 18,
   "id": "bfb6af86",
   "metadata": {},
   "outputs": [
    {
     "name": "stdout",
     "output_type": "stream",
     "text": [
      "Обнаружены 58 фликеров, сменивших группу во время тестов и подлежащих удалению из анализа результатов АВ-тестирования\n"
     ]
    }
   ],
   "source": [
    "flicker_list = list(orders_df.query('group==\"A\"').merge(orders_df.query('group==\"B\"'),how='inner',on='visitor_id').groupby(\n",
    "    by='visitor_id', as_index=False).agg('min')['visitor_id'] )\n",
    "print('Обнаружены', len(flicker_list), \n",
    "      'фликеров, сменивших группу во время тестов и подлежащих удалению из анализа результатов АВ-тестирования')"
   ]
  },
  {
   "cell_type": "code",
   "execution_count": 19,
   "id": "dd0f54c5",
   "metadata": {},
   "outputs": [],
   "source": [
    "orders_df = orders_df.query('visitor_id not in @flicker_list').reset_index(drop=True)"
   ]
  },
  {
   "cell_type": "code",
   "execution_count": 20,
   "id": "37f5cb4f",
   "metadata": {},
   "outputs": [
    {
     "data": {
      "text/html": [
       "<div>\n",
       "<style scoped>\n",
       "    .dataframe tbody tr th:only-of-type {\n",
       "        vertical-align: middle;\n",
       "    }\n",
       "\n",
       "    .dataframe tbody tr th {\n",
       "        vertical-align: top;\n",
       "    }\n",
       "\n",
       "    .dataframe thead th {\n",
       "        text-align: right;\n",
       "    }\n",
       "</style>\n",
       "<table border=\"1\" class=\"dataframe\">\n",
       "  <thead>\n",
       "    <tr style=\"text-align: right;\">\n",
       "      <th></th>\n",
       "      <th>date</th>\n",
       "      <th>revenue</th>\n",
       "    </tr>\n",
       "  </thead>\n",
       "  <tbody>\n",
       "    <tr>\n",
       "      <th>count</th>\n",
       "      <td>1016</td>\n",
       "      <td>1016</td>\n",
       "    </tr>\n",
       "    <tr>\n",
       "      <th>mean</th>\n",
       "      <td>2019-08-15 07:47:42.992125952</td>\n",
       "      <td>8300</td>\n",
       "    </tr>\n",
       "    <tr>\n",
       "      <th>min</th>\n",
       "      <td>2019-08-01 00:00:00</td>\n",
       "      <td>50</td>\n",
       "    </tr>\n",
       "    <tr>\n",
       "      <th>25%</th>\n",
       "      <td>2019-08-07 00:00:00</td>\n",
       "      <td>1190</td>\n",
       "    </tr>\n",
       "    <tr>\n",
       "      <th>50%</th>\n",
       "      <td>2019-08-15 00:00:00</td>\n",
       "      <td>2955</td>\n",
       "    </tr>\n",
       "    <tr>\n",
       "      <th>75%</th>\n",
       "      <td>2019-08-23 00:00:00</td>\n",
       "      <td>8134</td>\n",
       "    </tr>\n",
       "    <tr>\n",
       "      <th>max</th>\n",
       "      <td>2019-08-31 00:00:00</td>\n",
       "      <td>1294500</td>\n",
       "    </tr>\n",
       "    <tr>\n",
       "      <th>std</th>\n",
       "      <td>NaN</td>\n",
       "      <td>42121</td>\n",
       "    </tr>\n",
       "  </tbody>\n",
       "</table>\n",
       "</div>"
      ],
      "text/plain": [
       "                                date  revenue\n",
       "count                           1016     1016\n",
       "mean   2019-08-15 07:47:42.992125952     8300\n",
       "min              2019-08-01 00:00:00       50\n",
       "25%              2019-08-07 00:00:00     1190\n",
       "50%              2019-08-15 00:00:00     2955\n",
       "75%              2019-08-23 00:00:00     8134\n",
       "max              2019-08-31 00:00:00  1294500\n",
       "std                              NaN    42121"
      ]
     },
     "execution_count": 20,
     "metadata": {},
     "output_type": "execute_result"
    }
   ],
   "source": [
    "# повторно посмотрим период тестирования и основную статистику цены заказа после удаления фликеров\n",
    "presentation_df = orders_df.describe(datetime_is_numeric=True)[['date','revenue']]\n",
    "presentation_df['revenue'] = presentation_df['revenue'].astype('int')\n",
    "presentation_df"
   ]
  },
  {
   "cell_type": "markdown",
   "id": "09e4b690",
   "metadata": {},
   "source": [
    "### Предварительные выводы о данных - промежуточных результатах АВ-тестирования:\n",
    "1. Анализ промежуточных результатов проводится за период с 2019-08-01 по 2019-08-31.\n",
    "2. Данные датасетов orders_df и visitors_df по пользователям групп А и В полны за указанный период.\n",
    "3. В датасете orders_df обнаружено 58 фликеров, сменивших группу во время тестирования - их заказы удалены, так как учет фликеров привел бы к появлению в статистике пользователей видевших оба варианта системы.\n",
    "4. После удаления фликеров датасет orders_df \"похудел\" на 15.1% - **это аномальное кол-во фликеров, на основании которого уже можно признать АВ-тест неудачным**.  Однако продолжим \"тренировку\" на данном проекте.\n",
    "5. К сожалению у нас нет возможности удалить фликеров из датасета visitors_df, так как он уже предагрегирован, и нет возможности отфильтровать его по списку фликеров - см. также пункт с NB! ниже.\n",
    "6. Распределение посетителей сайта по дням АВ-тестирования ожидается близким к нормальному.\n",
    "7. Распределение цены заказа по заказам ожидается сильно искаженным большими выбросами.  Ожидается необходимость удаления наиболее крупных заказов для корректного сравнение эффекта от применения рекомендаций гипотезы к группе В - в противном случае флуктуации от \"людей-Х\" превысят эффект!\n",
    "8. **NB!**: В данных присутствует досадное ограничение вариантов анализа: данные датасета visitors_df уже агрегированы по дням АВ-тестирования, поэтому у нас нет возможности корректно удалять отдельные visitor_id из данных по посещаемости сайта интернет магазина"
   ]
  },
  {
   "cell_type": "markdown",
   "id": "44d2e81d",
   "metadata": {},
   "source": [
    "### Претензии к исходным данным по их недостаточности для корректного анализа\n",
    "Исходные данные предоставлены уже частично предагрегированными, поэтому в них отсутствует информация по тому какие visitor_id посещали сайт интернет-магазина в дни тестирования.  В связи с этим при анализе невозможно следующее:\n",
    "1. неизвестны даже размеры групп А и В;\n",
    "2. как следствие из факта выше нельзя корректно посчитать средние метрики по группе, кроме дневных и их производных;\n",
    "3. нельзя корректно удалять отдельные visitors_id - например, 15% уже обнаруженных фликеров и/или источники огромных заказов (сами огромные заказы можно удалять, но корректность даже дневных метрик при этом попадает под вопрос);\n",
    "4. **рекомендации к исправлению исходных данных**: нужен датасет по сессиям с полями `date`, `visitor_id` и `group`, и желательно также списки групп А и В.  При этом текущий датасет visitors_df становится необязателен. "
   ]
  },
  {
   "cell_type": "markdown",
   "id": "92eb4928",
   "metadata": {},
   "source": [
    "### Решение о проведении условно-корректного анализа на имеющихся данных\n",
    "После обсуждения данного вопроса с командой когорты в Slack, было принято решение не ждать исправления исходных данных, но делать проект в части расчета размеров групп по формулам теор-части спринта, отмечая попутно в каких местах в них ошибка и как она исправляется на корректных исходных данных."
   ]
  },
  {
   "cell_type": "markdown",
   "id": "f0f48898",
   "metadata": {},
   "source": [
    "### Предобработка исходных данных завершена - датасеты для анализа `orders_df` и `visitors_df`\n",
    "\n",
    "Выведем датасеты, готовые к условно-корректному анализу:"
   ]
  },
  {
   "cell_type": "code",
   "execution_count": 21,
   "id": "ef4d38ae",
   "metadata": {},
   "outputs": [
    {
     "name": "stdout",
     "output_type": "stream",
     "text": [
      "--------------------------------------- orders_df ----------------------------\n",
      "<class 'pandas.core.frame.DataFrame'>\n",
      "RangeIndex: 1016 entries, 0 to 1015\n",
      "Data columns (total 5 columns):\n",
      " #   Column          Non-Null Count  Dtype         \n",
      "---  ------          --------------  -----         \n",
      " 0   transaction_id  1016 non-null   int64         \n",
      " 1   visitor_id      1016 non-null   int64         \n",
      " 2   date            1016 non-null   datetime64[ns]\n",
      " 3   revenue         1016 non-null   int64         \n",
      " 4   group           1016 non-null   object        \n",
      "dtypes: datetime64[ns](1), int64(3), object(1)\n",
      "memory usage: 39.8+ KB\n",
      "-------------------------------------- visitors_df ---------------------------\n",
      "<class 'pandas.core.frame.DataFrame'>\n",
      "RangeIndex: 62 entries, 0 to 61\n",
      "Data columns (total 3 columns):\n",
      " #   Column    Non-Null Count  Dtype         \n",
      "---  ------    --------------  -----         \n",
      " 0   date      62 non-null     datetime64[ns]\n",
      " 1   group     62 non-null     object        \n",
      " 2   visitors  62 non-null     int64         \n",
      "dtypes: datetime64[ns](1), int64(1), object(1)\n",
      "memory usage: 1.6+ KB\n"
     ]
    }
   ],
   "source": [
    "print('--------------------------------------- orders_df ----------------------------')\n",
    "orders_df.info()\n",
    "print('-------------------------------------- visitors_df ---------------------------')\n",
    "visitors_df.info()"
   ]
  },
  {
   "cell_type": "markdown",
   "id": "dd84d210",
   "metadata": {},
   "source": [
    "#### Параметризация дней начала и останова АВ-тестирования"
   ]
  },
  {
   "cell_type": "code",
   "execution_count": 22,
   "id": "f47be20e",
   "metadata": {},
   "outputs": [
    {
     "name": "stdout",
     "output_type": "stream",
     "text": [
      "                           Начало AB-тестирования - переменная start_date = 2019-08-01\n",
      " Остановка тестирования для промежуточного анализа - переменная stop_date = 2019-08-31\n"
     ]
    }
   ],
   "source": [
    "# также создадим переменные начала и конца тестирования:\n",
    "start_date = dt.datetime(2019,8,1)\n",
    "stop_date = dt.datetime(2019,8,31)\n",
    "print('Начало AB-тестирования - переменная start_date ='.rjust(75), start_date.date())\n",
    "print('Остановка тестирования для промежуточного анализа - переменная stop_date ='.rjust(75), stop_date.date())"
   ]
  },
  {
   "cell_type": "markdown",
   "id": "b5527112",
   "metadata": {},
   "source": [
    "## График кумулятивной выручки по группам (корректность 100%)\n",
    "\n",
    "**Определение**: *Кумулятивная выручка на дату d_day - это суммарная выручка со дня начала тестирования по день d_day включительно*. \n",
    "\n",
    "### Построение кумулятивного датасета `orders_cumul_df`\n",
    "\n",
    "В датасете orders_df записи всех заказов - чтобы найти кумулятивную выручку, надо оставить только заказы с первого по d_day и агрегировать функцией суммирования по выручке.  Создадим соответствующий датасет длиной 62 записи (31 день * 2 группы):"
   ]
  },
  {
   "cell_type": "code",
   "execution_count": 23,
   "id": "6c64fe5b",
   "metadata": {},
   "outputs": [
    {
     "name": "stdout",
     "output_type": "stream",
     "text": [
      "<class 'pandas.core.frame.DataFrame'>\n",
      "RangeIndex: 62 entries, 0 to 61\n",
      "Data columns (total 8 columns):\n",
      " #   Column             Non-Null Count  Dtype         \n",
      "---  ------             --------------  -----         \n",
      " 0   group              62 non-null     object        \n",
      " 1   nof_orders_unique  62 non-null     int64         \n",
      " 2   nof_buyers_unique  62 non-null     int64         \n",
      " 3   cumul_revenue      62 non-null     int64         \n",
      " 4   date               62 non-null     datetime64[ns]\n",
      " 5   avg_cheque         62 non-null     float64       \n",
      " 6   ARPPU              62 non-null     float64       \n",
      " 7   orders_per_buyer   62 non-null     float64       \n",
      "dtypes: datetime64[ns](1), float64(3), int64(3), object(1)\n",
      "memory usage: 4.0+ KB\n"
     ]
    },
    {
     "data": {
      "text/html": [
       "<div>\n",
       "<style scoped>\n",
       "    .dataframe tbody tr th:only-of-type {\n",
       "        vertical-align: middle;\n",
       "    }\n",
       "\n",
       "    .dataframe tbody tr th {\n",
       "        vertical-align: top;\n",
       "    }\n",
       "\n",
       "    .dataframe thead th {\n",
       "        text-align: right;\n",
       "    }\n",
       "</style>\n",
       "<table border=\"1\" class=\"dataframe\">\n",
       "  <thead>\n",
       "    <tr style=\"text-align: right;\">\n",
       "      <th></th>\n",
       "      <th>group</th>\n",
       "      <th>nof_orders_unique</th>\n",
       "      <th>nof_buyers_unique</th>\n",
       "      <th>cumul_revenue</th>\n",
       "      <th>date</th>\n",
       "      <th>avg_cheque</th>\n",
       "      <th>ARPPU</th>\n",
       "      <th>orders_per_buyer</th>\n",
       "    </tr>\n",
       "  </thead>\n",
       "  <tbody>\n",
       "    <tr>\n",
       "      <th>0</th>\n",
       "      <td>A</td>\n",
       "      <td>23</td>\n",
       "      <td>19</td>\n",
       "      <td>142779</td>\n",
       "      <td>2019-08-01</td>\n",
       "      <td>6207.8</td>\n",
       "      <td>7514.7</td>\n",
       "      <td>1.211</td>\n",
       "    </tr>\n",
       "    <tr>\n",
       "      <th>1</th>\n",
       "      <td>B</td>\n",
       "      <td>17</td>\n",
       "      <td>17</td>\n",
       "      <td>59758</td>\n",
       "      <td>2019-08-01</td>\n",
       "      <td>3515.2</td>\n",
       "      <td>3515.2</td>\n",
       "      <td>1.000</td>\n",
       "    </tr>\n",
       "    <tr>\n",
       "      <th>2</th>\n",
       "      <td>A</td>\n",
       "      <td>42</td>\n",
       "      <td>36</td>\n",
       "      <td>234381</td>\n",
       "      <td>2019-08-02</td>\n",
       "      <td>5580.5</td>\n",
       "      <td>6510.6</td>\n",
       "      <td>1.167</td>\n",
       "    </tr>\n",
       "    <tr>\n",
       "      <th>3</th>\n",
       "      <td>B</td>\n",
       "      <td>40</td>\n",
       "      <td>39</td>\n",
       "      <td>221801</td>\n",
       "      <td>2019-08-02</td>\n",
       "      <td>5545.0</td>\n",
       "      <td>5687.2</td>\n",
       "      <td>1.026</td>\n",
       "    </tr>\n",
       "    <tr>\n",
       "      <th>4</th>\n",
       "      <td>A</td>\n",
       "      <td>66</td>\n",
       "      <td>60</td>\n",
       "      <td>346854</td>\n",
       "      <td>2019-08-03</td>\n",
       "      <td>5255.4</td>\n",
       "      <td>5780.9</td>\n",
       "      <td>1.100</td>\n",
       "    </tr>\n",
       "    <tr>\n",
       "      <th>...</th>\n",
       "      <td>...</td>\n",
       "      <td>...</td>\n",
       "      <td>...</td>\n",
       "      <td>...</td>\n",
       "      <td>...</td>\n",
       "      <td>...</td>\n",
       "      <td>...</td>\n",
       "      <td>...</td>\n",
       "    </tr>\n",
       "    <tr>\n",
       "      <th>57</th>\n",
       "      <td>B</td>\n",
       "      <td>510</td>\n",
       "      <td>490</td>\n",
       "      <td>4746610</td>\n",
       "      <td>2019-08-29</td>\n",
       "      <td>9307.1</td>\n",
       "      <td>9687.0</td>\n",
       "      <td>1.041</td>\n",
       "    </tr>\n",
       "    <tr>\n",
       "      <th>58</th>\n",
       "      <td>A</td>\n",
       "      <td>460</td>\n",
       "      <td>437</td>\n",
       "      <td>3311413</td>\n",
       "      <td>2019-08-30</td>\n",
       "      <td>7198.7</td>\n",
       "      <td>7577.6</td>\n",
       "      <td>1.053</td>\n",
       "    </tr>\n",
       "    <tr>\n",
       "      <th>59</th>\n",
       "      <td>B</td>\n",
       "      <td>531</td>\n",
       "      <td>511</td>\n",
       "      <td>4955833</td>\n",
       "      <td>2019-08-30</td>\n",
       "      <td>9333.0</td>\n",
       "      <td>9698.3</td>\n",
       "      <td>1.039</td>\n",
       "    </tr>\n",
       "    <tr>\n",
       "      <th>60</th>\n",
       "      <td>A</td>\n",
       "      <td>468</td>\n",
       "      <td>445</td>\n",
       "      <td>3364656</td>\n",
       "      <td>2019-08-31</td>\n",
       "      <td>7189.4</td>\n",
       "      <td>7561.0</td>\n",
       "      <td>1.052</td>\n",
       "    </tr>\n",
       "    <tr>\n",
       "      <th>61</th>\n",
       "      <td>B</td>\n",
       "      <td>548</td>\n",
       "      <td>528</td>\n",
       "      <td>5068972</td>\n",
       "      <td>2019-08-31</td>\n",
       "      <td>9249.9</td>\n",
       "      <td>9600.3</td>\n",
       "      <td>1.038</td>\n",
       "    </tr>\n",
       "  </tbody>\n",
       "</table>\n",
       "<p>62 rows × 8 columns</p>\n",
       "</div>"
      ],
      "text/plain": [
       "   group  nof_orders_unique  nof_buyers_unique  cumul_revenue       date  \\\n",
       "0      A                 23                 19         142779 2019-08-01   \n",
       "1      B                 17                 17          59758 2019-08-01   \n",
       "2      A                 42                 36         234381 2019-08-02   \n",
       "3      B                 40                 39         221801 2019-08-02   \n",
       "4      A                 66                 60         346854 2019-08-03   \n",
       "..   ...                ...                ...            ...        ...   \n",
       "57     B                510                490        4746610 2019-08-29   \n",
       "58     A                460                437        3311413 2019-08-30   \n",
       "59     B                531                511        4955833 2019-08-30   \n",
       "60     A                468                445        3364656 2019-08-31   \n",
       "61     B                548                528        5068972 2019-08-31   \n",
       "\n",
       "    avg_cheque   ARPPU  orders_per_buyer  \n",
       "0       6207.8  7514.7             1.211  \n",
       "1       3515.2  3515.2             1.000  \n",
       "2       5580.5  6510.6             1.167  \n",
       "3       5545.0  5687.2             1.026  \n",
       "4       5255.4  5780.9             1.100  \n",
       "..         ...     ...               ...  \n",
       "57      9307.1  9687.0             1.041  \n",
       "58      7198.7  7577.6             1.053  \n",
       "59      9333.0  9698.3             1.039  \n",
       "60      7189.4  7561.0             1.052  \n",
       "61      9249.9  9600.3             1.038  \n",
       "\n",
       "[62 rows x 8 columns]"
      ]
     },
     "execution_count": 23,
     "metadata": {},
     "output_type": "execute_result"
    }
   ],
   "source": [
    "for i in range(31):\n",
    "    d_day = start_date + dt.timedelta(days=i) \n",
    "    \n",
    "    pair_of_lines = orders_df.query('date <= @d_day').groupby(by=['group'], as_index=False).agg({\n",
    "        'transaction_id' : 'nunique', # получим сразу не только стоимость заказа, но и веса для удельных метрик\n",
    "        'visitor_id' : 'nunique',     # получим сразу не только стоимость заказа, но и веса для удельных метрик\n",
    "        'revenue' : 'sum'\n",
    "    })\n",
    "    pair_of_lines['date'] = pd.Series([d_day,d_day]).T\n",
    "    \n",
    "    if i == 0: orders_cumul_df = pair_of_lines\n",
    "    else: orders_cumul_df = orders_cumul_df.append(pair_of_lines)\n",
    "    \n",
    "orders_cumul_df = orders_cumul_df.rename(columns={\n",
    "    'transaction_id' : 'nof_orders_unique',\n",
    "    'visitor_id' : 'nof_buyers_unique',\n",
    "    'revenue' : 'cumul_revenue'\n",
    "}).reset_index(drop=True)\n",
    "\n",
    "# добавим сразу имеющие смысл удельные метрики\n",
    "orders_cumul_df['avg_cheque'] = round( orders_cumul_df['cumul_revenue'] / orders_cumul_df['nof_orders_unique'], 1)\n",
    "orders_cumul_df['ARPPU'] = round( orders_cumul_df['cumul_revenue'] / orders_cumul_df['nof_buyers_unique'], 1)\n",
    "orders_cumul_df['orders_per_buyer'] = round( orders_cumul_df['nof_orders_unique'] / orders_cumul_df['nof_buyers_unique'], 3)\n",
    "\n",
    "orders_cumul_df.info() # убедимся про типы\n",
    "orders_cumul_df # посмотрим результат как таблицу"
   ]
  },
  {
   "cell_type": "markdown",
   "id": "389be642",
   "metadata": {},
   "source": [
    "#### Вывод по новому датасету: \n",
    "\"хвост\" таблицы выглядит многообещающе для анализа, надо лишь убедиться набралась ли достаточная мощность теста и проверить визуально, что кумулятивные метрики \"установились\".  Кроме того у нас было опасение про влияние выбросов ревеню."
   ]
  },
  {
   "cell_type": "markdown",
   "id": "fbec5ea9",
   "metadata": {},
   "source": [
    "### Визуализация кумулятивной выручки по группам"
   ]
  },
  {
   "cell_type": "code",
   "execution_count": 24,
   "id": "25f25b17",
   "metadata": {},
   "outputs": [
    {
     "data": {
      "image/png": "[encoded data removed]",
      "text/plain": [
       "<Figure size 1080x360 with 1 Axes>"
      ]
     },
     "metadata": {
      "needs_background": "light"
     },
     "output_type": "display_data"
    }
   ],
   "source": [
    "cax = orders_cumul_df.query('group==\"A\"').plot(x='date', y='cumul_revenue', color='blue', label='A', figsize=(15,5))\n",
    "orders_cumul_df.query('group==\"B\"').plot(ax=cax, x='date', y='cumul_revenue', color='red', label='B')\n",
    "\n",
    "for i in range(1,30): plt.axvline(x=start_date+dt.timedelta(days=i), color='gray', linewidth=0.3) # а то grid не прорисовывает\n",
    "\n",
    "plt.title('кумулятивная выручка со дня старта АВ-тестирования')\n",
    "plt.xlabel('агрегирование на данную дату')\n",
    "plt.ylabel('выручка в миллионах у.е.')\n",
    "plt.grid()\n",
    "plt.legend()\n",
    "plt.show()\n"
   ]
  },
  {
   "cell_type": "markdown",
   "id": "5f853de9",
   "metadata": {},
   "source": [
    "### Выводы по графику кумулятивной выручки:\n",
    "1. Эффект увеличения выручки в группе В виден, однако основной гандикап группе В обеспечен огромным выбросом от покупки 19 августа 2019 на более одного миллиона у.е. \n",
    "2. Для корректного анализа эффекта от гипотезы в дальнейшем следует убрать данный выброс- на его фоне плохо различим эффект от гипотезы."
   ]
  },
  {
   "cell_type": "markdown",
   "id": "519156ba",
   "metadata": {},
   "source": [
    "## График кумулятивного среднего чека по группам (корректность 100%)\n",
    "**Определение**: *Кумулятивный средний чек на дату d_day - это отношение суммарного ревеню на d_day к количеству уникальных заказов на d_day*.\n",
    "\n",
    "Нам подойдет уже созданный датасет orders_cumul_df - никакие изменения или дополнения на уровне датасетов не нужны:"
   ]
  },
  {
   "cell_type": "code",
   "execution_count": 25,
   "id": "9af172e5",
   "metadata": {},
   "outputs": [
    {
     "data": {
      "image/png": "[encoded data removed]",
      "text/plain": [
       "<Figure size 1080x360 with 1 Axes>"
      ]
     },
     "metadata": {
      "needs_background": "light"
     },
     "output_type": "display_data"
    }
   ],
   "source": [
    "cax=orders_cumul_df.query('group==\"A\"').plot(x='date', y='avg_cheque', color='blue', label='A', figsize=(15,5), ylim=(0,11000))\n",
    "orders_cumul_df.query('group==\"B\"').plot(ax=cax, x='date', y='avg_cheque', color='red', label='B')\n",
    "\n",
    "for i in range(1,30): plt.axvline(x=start_date+dt.timedelta(days=i), color='gray', linewidth=0.3) # а то grid не прорисовывает\n",
    "    \n",
    "plt.title('кумулятивный средний чек - со дня старта АВ-тестирования')\n",
    "plt.xlabel('агрегирование на данную дату')\n",
    "plt.ylabel('цена чека в у.е.')\n",
    "plt.grid()\n",
    "plt.legend()\n",
    "plt.show()\n"
   ]
  },
  {
   "cell_type": "markdown",
   "id": "4c38a0d5",
   "metadata": {},
   "source": [
    "### Выводы по графику кумулятивного среднего чека:\n",
    "1. Колебания графиков как будто \"устаканиваются\" к середине срока, однако спустя 4 дня происходит огромный выброс в группе В и дальнейшее поведение в группе В не видно на его фоне.  \n",
    "2. Постепенно новые заказы в знаменателе начинают уменьшать его эффект, однако основная часть гандикапа от выброса не успевает \"съесться\" до дня останова АВ-тестирования, поэтому у нас вообще нет возможности сделать какие-то выводы по сравнению среднего чека в группах по данному графику.\n",
    "2. Для корректного анализа эффекта от гипотезы в дальнейшем анализе следует убрать данный выброс- на его фоне плохо различим эффект от гипотезы."
   ]
  },
  {
   "cell_type": "markdown",
   "id": "245e3326",
   "metadata": {},
   "source": [
    "## График относительного изменения кумулятивного среднего чека группы B к группе A (корректность 100%)\n",
    "\n",
    "### Построение кумулятивного датасета `B_over_A_orders_cumul_df`\n",
    "Будем исходить из уже созданного датасета orders_cumul_df - теперь нам нужно одну его половину поделить на другую.  Создадим соответствующий датасет B_over_A_orders_cumul_df :"
   ]
  },
  {
   "cell_type": "code",
   "execution_count": 26,
   "id": "cd8cc365",
   "metadata": {},
   "outputs": [
    {
     "data": {
      "text/html": [
       "<div>\n",
       "<style scoped>\n",
       "    .dataframe tbody tr th:only-of-type {\n",
       "        vertical-align: middle;\n",
       "    }\n",
       "\n",
       "    .dataframe tbody tr th {\n",
       "        vertical-align: top;\n",
       "    }\n",
       "\n",
       "    .dataframe thead th {\n",
       "        text-align: right;\n",
       "    }\n",
       "</style>\n",
       "<table border=\"1\" class=\"dataframe\">\n",
       "  <thead>\n",
       "    <tr style=\"text-align: right;\">\n",
       "      <th></th>\n",
       "      <th>nof_orders_unique</th>\n",
       "      <th>nof_buyers_unique</th>\n",
       "      <th>cumul_revenue</th>\n",
       "      <th>avg_cheque</th>\n",
       "      <th>ARPPU</th>\n",
       "      <th>orders_per_buyer</th>\n",
       "    </tr>\n",
       "    <tr>\n",
       "      <th>date</th>\n",
       "      <th></th>\n",
       "      <th></th>\n",
       "      <th></th>\n",
       "      <th></th>\n",
       "      <th></th>\n",
       "      <th></th>\n",
       "    </tr>\n",
       "  </thead>\n",
       "  <tbody>\n",
       "    <tr>\n",
       "      <th>2019-08-27</th>\n",
       "      <td>1.129</td>\n",
       "      <td>1.140</td>\n",
       "      <td>1.557</td>\n",
       "      <td>1.380</td>\n",
       "      <td>1.366</td>\n",
       "      <td>0.990</td>\n",
       "    </tr>\n",
       "    <tr>\n",
       "      <th>2019-08-28</th>\n",
       "      <td>1.141</td>\n",
       "      <td>1.153</td>\n",
       "      <td>1.528</td>\n",
       "      <td>1.340</td>\n",
       "      <td>1.326</td>\n",
       "      <td>0.990</td>\n",
       "    </tr>\n",
       "    <tr>\n",
       "      <th>2019-08-29</th>\n",
       "      <td>1.131</td>\n",
       "      <td>1.140</td>\n",
       "      <td>1.468</td>\n",
       "      <td>1.298</td>\n",
       "      <td>1.288</td>\n",
       "      <td>0.992</td>\n",
       "    </tr>\n",
       "    <tr>\n",
       "      <th>2019-08-30</th>\n",
       "      <td>1.154</td>\n",
       "      <td>1.169</td>\n",
       "      <td>1.497</td>\n",
       "      <td>1.296</td>\n",
       "      <td>1.280</td>\n",
       "      <td>0.987</td>\n",
       "    </tr>\n",
       "    <tr>\n",
       "      <th>2019-08-31</th>\n",
       "      <td>1.171</td>\n",
       "      <td>1.187</td>\n",
       "      <td>1.507</td>\n",
       "      <td>1.287</td>\n",
       "      <td>1.270</td>\n",
       "      <td>0.987</td>\n",
       "    </tr>\n",
       "  </tbody>\n",
       "</table>\n",
       "</div>"
      ],
      "text/plain": [
       "            nof_orders_unique  nof_buyers_unique  cumul_revenue  avg_cheque  \\\n",
       "date                                                                          \n",
       "2019-08-27              1.129              1.140          1.557       1.380   \n",
       "2019-08-28              1.141              1.153          1.528       1.340   \n",
       "2019-08-29              1.131              1.140          1.468       1.298   \n",
       "2019-08-30              1.154              1.169          1.497       1.296   \n",
       "2019-08-31              1.171              1.187          1.507       1.287   \n",
       "\n",
       "            ARPPU  orders_per_buyer  \n",
       "date                                 \n",
       "2019-08-27  1.366             0.990  \n",
       "2019-08-28  1.326             0.990  \n",
       "2019-08-29  1.288             0.992  \n",
       "2019-08-30  1.280             0.987  \n",
       "2019-08-31  1.270             0.987  "
      ]
     },
     "execution_count": 26,
     "metadata": {},
     "output_type": "execute_result"
    }
   ],
   "source": [
    "B_over_A_orders_cumul_df = round(\n",
    "    orders_cumul_df.query('group==\"B\"').drop(columns='group').set_index('date') / \n",
    "    orders_cumul_df.query('group==\"A\"').drop(columns='group').set_index('date'), 3\n",
    ")\n",
    "\n",
    "B_over_A_orders_cumul_df.tail()"
   ]
  },
  {
   "cell_type": "markdown",
   "id": "5f814bab",
   "metadata": {},
   "source": [
    "### Визуализация относительного изменения кумулятивного среднего чека"
   ]
  },
  {
   "cell_type": "code",
   "execution_count": 27,
   "id": "4ae9f09e",
   "metadata": {},
   "outputs": [
    {
     "data": {
      "image/png": "[encoded data removed]",
      "text/plain": [
       "<Figure size 1080x360 with 1 Axes>"
      ]
     },
     "metadata": {
      "needs_background": "light"
     },
     "output_type": "display_data"
    }
   ],
   "source": [
    "B_over_A_orders_cumul_df.plot( y='avg_cheque', color='green', label='B/A', figsize=(15,5), ylim=(0,2) )\n",
    "\n",
    "plt.axhline(y=1, color='red', label='zero effect level', linestyle='--')\n",
    "for i in range(1,30): plt.axvline(x=start_date+dt.timedelta(days=i), color='gray', linewidth=0.3) # а то grid не прорисовывает\n",
    "\n",
    "plt.title('относительное изменение кумулятивного среднего чека группы B к группе A - со дня старта АВ-тестирования')\n",
    "plt.xlabel('агрегирование на данную дату')\n",
    "plt.ylabel('цена чека В / цена чека А')\n",
    "plt.grid()\n",
    "plt.legend()\n",
    "plt.show()\n"
   ]
  },
  {
   "cell_type": "markdown",
   "id": "4c27d8a5",
   "metadata": {},
   "source": [
    "### Выводы по графику относительного изменения кумулятивного среднего чека:\n",
    "1. Эффект целиком скрыт влиянием выброса 19 августа 2019, поэтому никаких выводов по данному графику сделать нельзя.\n",
    "2. Для корректного анализа эффекта от гипотезы в дальнейшем анализе следует убрать данный выброс- на его фоне совсем неразличим эффект от гипотезы."
   ]
  },
  {
   "cell_type": "markdown",
   "id": "47b5cc92",
   "metadata": {},
   "source": [
    "## График кумулятивной конверсии по группам (условно-корректно)\n",
    "**Определение**: *Кумулятивная конверсия на дату d_day - это отношение кумулятивного кол-ва уникальных покупателей на дату d_day к кумулятивному кол-ву уникальных пользователей на дату d_day*.  \n",
    "\n",
    "Кумулятивное кол-во уникальных покупателей уже посчитано в датасете orders_cumul_df.  Для дальнейшей работы удобно просто пришить к этому датасету столбец с кумулятивным количеством уникальных пользователей. Корректный рассчет данного кол-ва возможен только по датасету sessions_df, в котором есть visitor_id.  При этом кумулятивное кол-во уникальных пользователей определялось бы, например, кодом:\n",
    "\n",
    "`sessions_df.query('group==\"A/B\" & date <= @d_day').groupby(['date','group'], as_index=False).agg({'visitors_id':'nunique'})`\n",
    "\n",
    "К сожалению, в теоретической части спринта ошибочно предполагается, что кумулятивное кол-во уникальных пользователей можно определить, сложив кол-ва уникальных визитеров за каждый день до дня d_day включительно.  В связи с этим в данных проекта полностью отсутствует датасет sessions_df, и у нас нет возможности выполнить данный пункт плана проекта корректно на 100% - в связи с этим в названии пункта стоит квалификатор \"условно-корректно\". \n",
    "\n",
    "### Расширение кумулятивного датасета orders_cumul_df до `cumulative_df`  \n"
   ]
  },
  {
   "cell_type": "code",
   "execution_count": 28,
   "id": "aece9f75",
   "metadata": {},
   "outputs": [
    {
     "name": "stdout",
     "output_type": "stream",
     "text": [
      "<class 'pandas.core.frame.DataFrame'>\n",
      "RangeIndex: 62 entries, 0 to 61\n",
      "Data columns (total 11 columns):\n",
      " #   Column             Non-Null Count  Dtype         \n",
      "---  ------             --------------  -----         \n",
      " 0   group              62 non-null     object        \n",
      " 1   nof_orders_unique  62 non-null     int64         \n",
      " 2   nof_buyers_unique  62 non-null     int64         \n",
      " 3   cumul_revenue      62 non-null     int64         \n",
      " 4   date               62 non-null     datetime64[ns]\n",
      " 5   avg_cheque         62 non-null     float64       \n",
      " 6   ARPPU              62 non-null     float64       \n",
      " 7   orders_per_buyer   62 non-null     float64       \n",
      " 8   nof_users_unique   62 non-null     int64         \n",
      " 9   CR_%               62 non-null     float64       \n",
      " 10  ARPU               62 non-null     float64       \n",
      "dtypes: datetime64[ns](1), float64(5), int64(4), object(1)\n",
      "memory usage: 5.5+ KB\n"
     ]
    },
    {
     "data": {
      "text/html": [
       "<div>\n",
       "<style scoped>\n",
       "    .dataframe tbody tr th:only-of-type {\n",
       "        vertical-align: middle;\n",
       "    }\n",
       "\n",
       "    .dataframe tbody tr th {\n",
       "        vertical-align: top;\n",
       "    }\n",
       "\n",
       "    .dataframe thead th {\n",
       "        text-align: right;\n",
       "    }\n",
       "</style>\n",
       "<table border=\"1\" class=\"dataframe\">\n",
       "  <thead>\n",
       "    <tr style=\"text-align: right;\">\n",
       "      <th></th>\n",
       "      <th>group</th>\n",
       "      <th>nof_orders_unique</th>\n",
       "      <th>nof_buyers_unique</th>\n",
       "      <th>cumul_revenue</th>\n",
       "      <th>date</th>\n",
       "      <th>avg_cheque</th>\n",
       "      <th>ARPPU</th>\n",
       "      <th>orders_per_buyer</th>\n",
       "      <th>nof_users_unique</th>\n",
       "      <th>CR_%</th>\n",
       "      <th>ARPU</th>\n",
       "    </tr>\n",
       "  </thead>\n",
       "  <tbody>\n",
       "    <tr>\n",
       "      <th>0</th>\n",
       "      <td>A</td>\n",
       "      <td>23</td>\n",
       "      <td>19</td>\n",
       "      <td>142779</td>\n",
       "      <td>2019-08-01</td>\n",
       "      <td>6207.8</td>\n",
       "      <td>7514.7</td>\n",
       "      <td>1.211</td>\n",
       "      <td>719</td>\n",
       "      <td>2.643</td>\n",
       "      <td>198.6</td>\n",
       "    </tr>\n",
       "    <tr>\n",
       "      <th>1</th>\n",
       "      <td>B</td>\n",
       "      <td>17</td>\n",
       "      <td>17</td>\n",
       "      <td>59758</td>\n",
       "      <td>2019-08-01</td>\n",
       "      <td>3515.2</td>\n",
       "      <td>3515.2</td>\n",
       "      <td>1.000</td>\n",
       "      <td>713</td>\n",
       "      <td>2.384</td>\n",
       "      <td>83.8</td>\n",
       "    </tr>\n",
       "    <tr>\n",
       "      <th>2</th>\n",
       "      <td>A</td>\n",
       "      <td>42</td>\n",
       "      <td>36</td>\n",
       "      <td>234381</td>\n",
       "      <td>2019-08-02</td>\n",
       "      <td>5580.5</td>\n",
       "      <td>6510.6</td>\n",
       "      <td>1.167</td>\n",
       "      <td>1338</td>\n",
       "      <td>2.691</td>\n",
       "      <td>175.2</td>\n",
       "    </tr>\n",
       "    <tr>\n",
       "      <th>3</th>\n",
       "      <td>B</td>\n",
       "      <td>40</td>\n",
       "      <td>39</td>\n",
       "      <td>221801</td>\n",
       "      <td>2019-08-02</td>\n",
       "      <td>5545.0</td>\n",
       "      <td>5687.2</td>\n",
       "      <td>1.026</td>\n",
       "      <td>1294</td>\n",
       "      <td>3.014</td>\n",
       "      <td>171.4</td>\n",
       "    </tr>\n",
       "    <tr>\n",
       "      <th>4</th>\n",
       "      <td>A</td>\n",
       "      <td>66</td>\n",
       "      <td>60</td>\n",
       "      <td>346854</td>\n",
       "      <td>2019-08-03</td>\n",
       "      <td>5255.4</td>\n",
       "      <td>5780.9</td>\n",
       "      <td>1.100</td>\n",
       "      <td>1845</td>\n",
       "      <td>3.252</td>\n",
       "      <td>188.0</td>\n",
       "    </tr>\n",
       "    <tr>\n",
       "      <th>...</th>\n",
       "      <td>...</td>\n",
       "      <td>...</td>\n",
       "      <td>...</td>\n",
       "      <td>...</td>\n",
       "      <td>...</td>\n",
       "      <td>...</td>\n",
       "      <td>...</td>\n",
       "      <td>...</td>\n",
       "      <td>...</td>\n",
       "      <td>...</td>\n",
       "      <td>...</td>\n",
       "    </tr>\n",
       "    <tr>\n",
       "      <th>57</th>\n",
       "      <td>B</td>\n",
       "      <td>510</td>\n",
       "      <td>490</td>\n",
       "      <td>4746610</td>\n",
       "      <td>2019-08-29</td>\n",
       "      <td>9307.1</td>\n",
       "      <td>9687.0</td>\n",
       "      <td>1.041</td>\n",
       "      <td>17708</td>\n",
       "      <td>2.767</td>\n",
       "      <td>268.0</td>\n",
       "    </tr>\n",
       "    <tr>\n",
       "      <th>58</th>\n",
       "      <td>A</td>\n",
       "      <td>460</td>\n",
       "      <td>437</td>\n",
       "      <td>3311413</td>\n",
       "      <td>2019-08-30</td>\n",
       "      <td>7198.7</td>\n",
       "      <td>7577.6</td>\n",
       "      <td>1.053</td>\n",
       "      <td>18037</td>\n",
       "      <td>2.423</td>\n",
       "      <td>183.6</td>\n",
       "    </tr>\n",
       "    <tr>\n",
       "      <th>59</th>\n",
       "      <td>B</td>\n",
       "      <td>531</td>\n",
       "      <td>511</td>\n",
       "      <td>4955833</td>\n",
       "      <td>2019-08-30</td>\n",
       "      <td>9333.0</td>\n",
       "      <td>9698.3</td>\n",
       "      <td>1.039</td>\n",
       "      <td>18198</td>\n",
       "      <td>2.808</td>\n",
       "      <td>272.3</td>\n",
       "    </tr>\n",
       "    <tr>\n",
       "      <th>60</th>\n",
       "      <td>A</td>\n",
       "      <td>468</td>\n",
       "      <td>445</td>\n",
       "      <td>3364656</td>\n",
       "      <td>2019-08-31</td>\n",
       "      <td>7189.4</td>\n",
       "      <td>7561.0</td>\n",
       "      <td>1.052</td>\n",
       "      <td>18736</td>\n",
       "      <td>2.375</td>\n",
       "      <td>179.6</td>\n",
       "    </tr>\n",
       "    <tr>\n",
       "      <th>61</th>\n",
       "      <td>B</td>\n",
       "      <td>548</td>\n",
       "      <td>528</td>\n",
       "      <td>5068972</td>\n",
       "      <td>2019-08-31</td>\n",
       "      <td>9249.9</td>\n",
       "      <td>9600.3</td>\n",
       "      <td>1.038</td>\n",
       "      <td>18916</td>\n",
       "      <td>2.791</td>\n",
       "      <td>268.0</td>\n",
       "    </tr>\n",
       "  </tbody>\n",
       "</table>\n",
       "<p>62 rows × 11 columns</p>\n",
       "</div>"
      ],
      "text/plain": [
       "   group  nof_orders_unique  nof_buyers_unique  cumul_revenue       date  \\\n",
       "0      A                 23                 19         142779 2019-08-01   \n",
       "1      B                 17                 17          59758 2019-08-01   \n",
       "2      A                 42                 36         234381 2019-08-02   \n",
       "3      B                 40                 39         221801 2019-08-02   \n",
       "4      A                 66                 60         346854 2019-08-03   \n",
       "..   ...                ...                ...            ...        ...   \n",
       "57     B                510                490        4746610 2019-08-29   \n",
       "58     A                460                437        3311413 2019-08-30   \n",
       "59     B                531                511        4955833 2019-08-30   \n",
       "60     A                468                445        3364656 2019-08-31   \n",
       "61     B                548                528        5068972 2019-08-31   \n",
       "\n",
       "    avg_cheque   ARPPU  orders_per_buyer  nof_users_unique   CR_%   ARPU  \n",
       "0       6207.8  7514.7             1.211               719  2.643  198.6  \n",
       "1       3515.2  3515.2             1.000               713  2.384   83.8  \n",
       "2       5580.5  6510.6             1.167              1338  2.691  175.2  \n",
       "3       5545.0  5687.2             1.026              1294  3.014  171.4  \n",
       "4       5255.4  5780.9             1.100              1845  3.252  188.0  \n",
       "..         ...     ...               ...               ...    ...    ...  \n",
       "57      9307.1  9687.0             1.041             17708  2.767  268.0  \n",
       "58      7198.7  7577.6             1.053             18037  2.423  183.6  \n",
       "59      9333.0  9698.3             1.039             18198  2.808  272.3  \n",
       "60      7189.4  7561.0             1.052             18736  2.375  179.6  \n",
       "61      9249.9  9600.3             1.038             18916  2.791  268.0  \n",
       "\n",
       "[62 rows x 11 columns]"
      ]
     },
     "execution_count": 28,
     "metadata": {},
     "output_type": "execute_result"
    }
   ],
   "source": [
    "# сперва строим visitors_cumul_df - ровно тем же способом, как был построен orders_cumul_df\n",
    "# (поэтому нумерация индексов будет соответствовать одним и тем же date и group, кстати)\n",
    "\n",
    "for i in range(31):\n",
    "    d_day = start_date + dt.timedelta(days=i) \n",
    "    \n",
    "    pair_of_lines = visitors_df.query('date <= @d_day').groupby(by=['group'], as_index=False).agg({'visitors' : 'sum'})\n",
    "    pair_of_lines['date'] = pd.Series([d_day,d_day]).T\n",
    "    \n",
    "    if i == 0: visitors_cumul_df = pair_of_lines\n",
    "    else: visitors_cumul_df = visitors_cumul_df.append(pair_of_lines)\n",
    "    \n",
    "visitors_cumul_df = visitors_cumul_df.rename(columns={'visitors' : 'nof_users_unique'}).reset_index(drop=True)\n",
    "\n",
    "# и сшиваем в новый датафрейм:\n",
    "cumulative_df = orders_cumul_df.join(visitors_cumul_df.drop(columns=['group','date'])) # т.к. индексы совпадают и соответствуют\n",
    "\n",
    "# добавим сразу имеющие смысл удельные метрики\n",
    "cumulative_df['CR_%'] = round( cumulative_df['nof_buyers_unique'] / cumulative_df['nof_users_unique'] *100, 3)\n",
    "cumulative_df['ARPU'] = round( cumulative_df['cumul_revenue'] / cumulative_df['nof_users_unique'], 1)\n",
    "\n",
    "cumulative_df.info() # убедимся про типы\n",
    "cumulative_df # посмотрим результат как таблицу"
   ]
  },
  {
   "cell_type": "markdown",
   "id": "3a5757a6",
   "metadata": {},
   "source": [
    "### Визуализация кумулятивной конверсии по группам"
   ]
  },
  {
   "cell_type": "code",
   "execution_count": 29,
   "id": "1c60c4e9",
   "metadata": {},
   "outputs": [
    {
     "data": {
      "image/png": "[encoded data removed]",
      "text/plain": [
       "<Figure size 1080x360 with 1 Axes>"
      ]
     },
     "metadata": {
      "needs_background": "light"
     },
     "output_type": "display_data"
    }
   ],
   "source": [
    "cax = cumulative_df.query('group==\"A\"').plot(x='date', y='CR_%', color='blue', label='A', figsize=(15,5), ylim=(0,4) )\n",
    "cumulative_df.query('group==\"B\"').plot(ax=cax, x='date', y='CR_%', color='red', label='B' )\n",
    "\n",
    "for i in range(1,30): plt.axvline(x=start_date+dt.timedelta(days=i), color='gray', linewidth=0.3) # а то grid не прорисовывает\n",
    "\n",
    "plt.title('кумулятивная конверсия пользователей в покупатели со дня старта АВ-тестирования')\n",
    "plt.xlabel('агрегирование на данную дату')\n",
    "plt.ylabel('конверсия в %')\n",
    "plt.grid()\n",
    "plt.legend()\n",
    "plt.show()\n"
   ]
  },
  {
   "cell_type": "markdown",
   "id": "c444b960",
   "metadata": {},
   "source": [
    "### Выводы по графику кумулятивной конверсии по группам:\n",
    "1. Выброс ревеню 19 августа 2019 ожидаемо не портит статистики по конверсии.\n",
    "2. Графики \"устаканиваются\" за первую половину срока и далее имеют вид статистических колебаний, которые явно меньше зазора между средними уровнями в группах А и В.\n",
    "3. В силу наблюдений выше можно сдалать визуальный вывод: эффект есть - в группе В конверсия порядка 2.8%, в то время как в группе A - только 2.4%\n",
    "4. Для более точной визуальной оценки эффекта - см. следующую главу"
   ]
  },
  {
   "cell_type": "markdown",
   "id": "a6f0bbbc",
   "metadata": {},
   "source": [
    "## График относительного изменения кумулятивной конверсии группы B к группе A (корректность *почти* 100%)\n",
    "\n",
    "Как это не удивительно, но данный график может быть гораздо точнее, чем прошлый - дело в том, что при равных количествах пользователей в группах А и В реальное кол-во пользователей в относительном критерии полностью сокращается, а сравнение активностей в группах дало близкий результат еще в преобработке данных: \n",
    "* группа А - 604 визитов в день;\n",
    "* группа В - 610 визитов в день;\n",
    "* при ожидаемом стандартном отклонении средних по обеим группам порядка ${114 \\over\\sqrt{62}} \\approx 14.5$ !\n",
    "\n",
    "### Проверка гипотезы о равенстве групп А и В по активности пользователей в день\n",
    "Усилим наблюдение из главы по предобработке проверкой статистической значимости с которой средняя активности в группах совпадают:\n",
    "* $H_0$ - нулевая гипотеза: активность пользователей в обеих группах совпадают - средние количеств дневных визитов уникальных пользователей в группах А и В за период 31 дня равны.\n",
    "* $H_1$ - альтернативная гипотеза: можно быть уверенными (на приемлемом доверительном уровне), что активности различные.\n",
    "\n",
    "Так как еще вовремя предобработки мы пришли к заключению, что распределения средних дневных активностей близки к нормальному, то в качестве критерия можно выбрать $\\tau$-тест для похожих выборок с одинаковым размером и дисперсией.  Количество \"измерений\" в каждой выборке 31, что больше 30, так что выборки можно было бы даже анализировать и нормальной статистикой, не говоря уж о $\\tau$-статистике!"
   ]
  },
  {
   "cell_type": "code",
   "execution_count": 30,
   "id": "706234ea",
   "metadata": {},
   "outputs": [
    {
     "name": "stdout",
     "output_type": "stream",
     "text": [
      "\n",
      "Вероятность увидеть такую разницу средних по выборкам при равенстве средних в популяциях не хуже чем в 44.1 % аналогичных АВ тестов\n"
     ]
    }
   ],
   "source": [
    "st,pv = stats.ttest_rel( visitors_df.query('group==\"B\"')['visitors'] , visitors_df.query('group==\"A\"')['visitors'] )\n",
    "print()\n",
    "print('Вероятность увидеть такую разницу средних по выборкам при равенстве средних в популяциях не хуже чем в', \n",
    "      round(100 * pv,1), '% аналогичных АВ тестов')\n",
    "      "
   ]
  },
  {
   "cell_type": "markdown",
   "id": "bcb4a43c",
   "metadata": {},
   "source": [
    "#### Выводы по гипотезе равенства групп А и В\n",
    "* Чаще чем в 2 случаях из 5 мы бы наблюдали текущий результат по визитам в группах А и В при условии, что они полностью равны.\n",
    "* Таким образом, у нас нет оснований для опровержения равенства групп А и В по изначальной активности \n",
    "* К сожалению, мы не знаем как на датасет visitors_df должно повлиять выбрасывание аномального кол-ва фликеров (порядка 15% от покупателей!)\n",
    "\n",
    "При равенстве количеств пользователей в группах отношение ${CR_B \\over CR_A} = {nof\\_buyers\\_unique_B \\over nof\\_buyers\\_unique_A}$, поэтому относительное изменение кумулятивной конверсии можно было бы смотреть по текущему датасету `B_over_A_orders_cumul_df['nof_buyers_unique']`, но можно и пересобрать его заново - после добавления поля CR:"
   ]
  },
  {
   "cell_type": "markdown",
   "id": "1161c13b",
   "metadata": {},
   "source": [
    "### Построение кумулятивного датасета `B_over_A_cumulative_df`\n",
    "Будем исходить из уже созданного датасета cumulative_df - теперь нам нужно одну его половину поделить на другую.  Создадим соответствующий датасет B_over_A_cumulative_df :"
   ]
  },
  {
   "cell_type": "code",
   "execution_count": 31,
   "id": "b4bae081",
   "metadata": {},
   "outputs": [
    {
     "data": {
      "text/html": [
       "<div>\n",
       "<style scoped>\n",
       "    .dataframe tbody tr th:only-of-type {\n",
       "        vertical-align: middle;\n",
       "    }\n",
       "\n",
       "    .dataframe tbody tr th {\n",
       "        vertical-align: top;\n",
       "    }\n",
       "\n",
       "    .dataframe thead th {\n",
       "        text-align: right;\n",
       "    }\n",
       "</style>\n",
       "<table border=\"1\" class=\"dataframe\">\n",
       "  <thead>\n",
       "    <tr style=\"text-align: right;\">\n",
       "      <th></th>\n",
       "      <th>nof_orders_unique</th>\n",
       "      <th>nof_buyers_unique</th>\n",
       "      <th>cumul_revenue</th>\n",
       "      <th>avg_cheque</th>\n",
       "      <th>ARPPU</th>\n",
       "      <th>orders_per_buyer</th>\n",
       "      <th>nof_users_unique</th>\n",
       "      <th>CR_%</th>\n",
       "      <th>ARPU</th>\n",
       "    </tr>\n",
       "    <tr>\n",
       "      <th>date</th>\n",
       "      <th></th>\n",
       "      <th></th>\n",
       "      <th></th>\n",
       "      <th></th>\n",
       "      <th></th>\n",
       "      <th></th>\n",
       "      <th></th>\n",
       "      <th></th>\n",
       "      <th></th>\n",
       "    </tr>\n",
       "  </thead>\n",
       "  <tbody>\n",
       "    <tr>\n",
       "      <th>2019-08-27</th>\n",
       "      <td>1.129</td>\n",
       "      <td>1.140</td>\n",
       "      <td>1.557</td>\n",
       "      <td>1.380</td>\n",
       "      <td>1.366</td>\n",
       "      <td>0.990</td>\n",
       "      <td>1.009</td>\n",
       "      <td>1.130</td>\n",
       "      <td>1.543</td>\n",
       "    </tr>\n",
       "    <tr>\n",
       "      <th>2019-08-28</th>\n",
       "      <td>1.141</td>\n",
       "      <td>1.153</td>\n",
       "      <td>1.528</td>\n",
       "      <td>1.340</td>\n",
       "      <td>1.326</td>\n",
       "      <td>0.990</td>\n",
       "      <td>1.012</td>\n",
       "      <td>1.138</td>\n",
       "      <td>1.509</td>\n",
       "    </tr>\n",
       "    <tr>\n",
       "      <th>2019-08-29</th>\n",
       "      <td>1.131</td>\n",
       "      <td>1.140</td>\n",
       "      <td>1.468</td>\n",
       "      <td>1.298</td>\n",
       "      <td>1.288</td>\n",
       "      <td>0.992</td>\n",
       "      <td>1.009</td>\n",
       "      <td>1.129</td>\n",
       "      <td>1.454</td>\n",
       "    </tr>\n",
       "    <tr>\n",
       "      <th>2019-08-30</th>\n",
       "      <td>1.154</td>\n",
       "      <td>1.169</td>\n",
       "      <td>1.497</td>\n",
       "      <td>1.296</td>\n",
       "      <td>1.280</td>\n",
       "      <td>0.987</td>\n",
       "      <td>1.009</td>\n",
       "      <td>1.159</td>\n",
       "      <td>1.483</td>\n",
       "    </tr>\n",
       "    <tr>\n",
       "      <th>2019-08-31</th>\n",
       "      <td>1.171</td>\n",
       "      <td>1.187</td>\n",
       "      <td>1.507</td>\n",
       "      <td>1.287</td>\n",
       "      <td>1.270</td>\n",
       "      <td>0.987</td>\n",
       "      <td>1.010</td>\n",
       "      <td>1.175</td>\n",
       "      <td>1.492</td>\n",
       "    </tr>\n",
       "  </tbody>\n",
       "</table>\n",
       "</div>"
      ],
      "text/plain": [
       "            nof_orders_unique  nof_buyers_unique  cumul_revenue  avg_cheque  \\\n",
       "date                                                                          \n",
       "2019-08-27              1.129              1.140          1.557       1.380   \n",
       "2019-08-28              1.141              1.153          1.528       1.340   \n",
       "2019-08-29              1.131              1.140          1.468       1.298   \n",
       "2019-08-30              1.154              1.169          1.497       1.296   \n",
       "2019-08-31              1.171              1.187          1.507       1.287   \n",
       "\n",
       "            ARPPU  orders_per_buyer  nof_users_unique   CR_%   ARPU  \n",
       "date                                                                 \n",
       "2019-08-27  1.366             0.990             1.009  1.130  1.543  \n",
       "2019-08-28  1.326             0.990             1.012  1.138  1.509  \n",
       "2019-08-29  1.288             0.992             1.009  1.129  1.454  \n",
       "2019-08-30  1.280             0.987             1.009  1.159  1.483  \n",
       "2019-08-31  1.270             0.987             1.010  1.175  1.492  "
      ]
     },
     "execution_count": 31,
     "metadata": {},
     "output_type": "execute_result"
    }
   ],
   "source": [
    "B_over_A_cumulative_df = round(\n",
    "    cumulative_df.query('group==\"B\"').drop(columns='group').set_index('date') / \n",
    "    cumulative_df.query('group==\"A\"').drop(columns='group').set_index('date'), 3\n",
    ")\n",
    "\n",
    "B_over_A_cumulative_df.tail()"
   ]
  },
  {
   "cell_type": "markdown",
   "id": "4cdb5907",
   "metadata": {},
   "source": [
    "#### Вывод по новому датасету: \n",
    "значения в колонках CR_% и nof_buyers_unique различаются уже во второй цифре после запятой, поэтому визуализируем оба варианта для сравнения. "
   ]
  },
  {
   "cell_type": "markdown",
   "id": "b76ec6d9",
   "metadata": {},
   "source": [
    "### Визуализация относительного изменения кумулятивной конверсии"
   ]
  },
  {
   "cell_type": "code",
   "execution_count": 32,
   "id": "d40d6f83",
   "metadata": {},
   "outputs": [
    {
     "data": {
      "image/png": "[encoded data removed]",
      "text/plain": [
       "<Figure size 1080x360 with 1 Axes>"
      ]
     },
     "metadata": {
      "needs_background": "light"
     },
     "output_type": "display_data"
    }
   ],
   "source": [
    "cax = B_over_A_cumulative_df.plot( y='nof_buyers_unique', color='green', \n",
    "                                    label='correct B/A - if groups A and B do have same size', figsize=(15,5), ylim=(0.6,1.4) )\n",
    "B_over_A_cumulative_df.plot( y='CR_%', color='orange', label='pseudo-correct B/A - if calculations done as in sprint', ax=cax )\n",
    "\n",
    "plt.axhline(y=1, color='red', label='zero effect level', linestyle='--')\n",
    "for i in range(1,30): plt.axvline(x=start_date+dt.timedelta(days=i), color='gray', linewidth=0.3) # а то grid не прорисовывает\n",
    "\n",
    "plt.title('относительное изменение кумулятивной конверсии группы B к группе A - со дня старта АВ-тестирования')\n",
    "plt.xlabel('агрегирование на данную дату')\n",
    "plt.ylabel('CR_b / CR_a')\n",
    "plt.grid()\n",
    "plt.legend()\n",
    "plt.show()\n"
   ]
  },
  {
   "cell_type": "markdown",
   "id": "6485000f",
   "metadata": {},
   "source": [
    "### Выводы по графику относительного изменения кумулятивной конверсии:\n",
    "1. Как и ожидалось для относительного параметра кумулятивной конверсии влияние ошибки в расчете размера групп в спринте незначительно!  Поведение обеих кривых практически совпадает.\n",
    "2. Кстати по их поведению можно судить о сроке \"устаканивания\" статистик АВ-тестирования примерно к 20-ому августу 2019 - после этого числа кривая с ошибочным вычислением размеров групп идет стабильно ниже кривой, построенной в предположении точного равенства групп.  Это стабилизировавшееся различие можно объяснить тем, что принятый в гипотезе метод для группы В повышает также пользовательскую активность - примерно на 1%, как видно и визуально и по \"хвосту\" датасета B_over_A_cumulative_df (мы ведь, по факту, делим покупателей на число визитов при неправильном методе из спринта). Поэтому для желтой кривой подрастает и знаменатель для группы В - и эффект в целом для В получается чуть меньше. \n",
    "3. В целом данный график подтверждает выводы прошлой главы об уверенном эффекте тестируемой гипотезы на конверсию.\n",
    "4. В отличие от прошлой главы, на данном графике хорошо виден размер эффекта - на уровне 13-18% в пользу группы В.\n",
    "5. Также можем уже предварительно заключить, что АВ-тест вышел на стабильный режим результатов, и что без внесения изменений продолжать АВ-тестирование нет смысла - статистически значимые результаты уже получены на 31 день тестирования."
   ]
  },
  {
   "cell_type": "markdown",
   "id": "28c6061b",
   "metadata": {},
   "source": [
    "## График поточечной развертки количества заказов по каждому покупателю (корректность 100%)\n",
    "**Определение**: *график поточечной развертки - это альтернатива графикам с полупрозрачными точками для дискретных числовых значений случайной величины, предложен для понимания частоты налагающихся точек на scatter-plot - при поточечной развертке вместо наложения полупрозрачных точек имеем развертку обычных точек по инстансам вдоль оси развертки.  При этом области налагающихся точек превращаются на развертке в точки, сливающиеся в линию вдоль соответствующего дискретного значения. Там где налагающихся точек мало, линии развертки начинают прерываться все сильнее, пока не превратятся в отдельные точки на одной прямой.  Визуально это легче различать, чем густоту налагающихся точек (но добавляет единицу размерности к графику - ось развертки)*.  \n",
    "\n",
    "При этом никакого физического смысла ось развертки не имеет и порядок отображения на ней значений параметра, по которому осуществляется развертка, также неважен.  На языке датасетов это означает, что если датасет получен группировкой по параметру развертки - то по оси развертки на графике можно брать просто индекс датасета."
   ]
  },
  {
   "cell_type": "code",
   "execution_count": 33,
   "id": "51bf7c58",
   "metadata": {},
   "outputs": [
    {
     "data": {
      "image/png": "[encoded data removed]",
      "text/plain": [
       "<Figure size 1080x360 with 1 Axes>"
      ]
     },
     "metadata": {
      "needs_background": "light"
     },
     "output_type": "display_data"
    }
   ],
   "source": [
    "presentation_df = orders_df.groupby(by='visitor_id',as_index=False).agg({'transaction_id':'nunique'}).drop(columns='visitor_id')\n",
    "\n",
    "plt.figure(figsize=(15,5))\n",
    "plt.yticks([i for i in range(12)])\n",
    "plt.scatter( x=presentation_df.index, y=presentation_df['transaction_id'])\n",
    "plt.title('количество заказов сделанных одним покупателем (обе группы)')\n",
    "plt.xlabel('развертка по уникальным покупателям (произвольный порядок)')\n",
    "plt.ylabel('количество заказов')\n",
    "plt.grid()\n",
    "plt.show()\n"
   ]
  },
  {
   "cell_type": "markdown",
   "id": "a8334b30",
   "metadata": {},
   "source": [
    "### Выводы по графику поточечной развертки количества заказов:\n",
    "1. Распределение кол-ва завазов по покупателям сильно прижато к единице:\n",
    " * Сливающиеся во фрагменты линий только уровни 1-ого и 2-х заказов;\n",
    " * Уровень с 3-х заказов и выше представлен отдельными точками - точечное заселение;\n",
    " * После удаления фликеров из датасета orders_df другие значения заказов на одного покупателя исчезли!\n",
    "2. Таким образом, те, кто делал 4 и более заказов, оказались резко-негативными по отношению к новшествам группы В, и поддержка перебросила их в группу А.  В итоге нам пришлось удалить их совсем, так как эффект на фликерах смазивается, так как они видели оба варианта А и В и эксперимент перестает быть чистым.\n",
    "3. В целом график совпадает с ожиданиями от табличных выводов датасетов orders_cumul_df и/или cumulative_df - см. значения столбца orders_per_buyer (визуализация ниже): на уровне 1.05 заказа на покупателя в среднем, никаких выбросов ожидаемо не видно."
   ]
  },
  {
   "cell_type": "code",
   "execution_count": 34,
   "id": "ee929593",
   "metadata": {},
   "outputs": [
    {
     "data": {
      "image/png": "[encoded data removed]",
      "text/plain": [
       "<Figure size 1080x360 with 1 Axes>"
      ]
     },
     "metadata": {
      "needs_background": "light"
     },
     "output_type": "display_data"
    }
   ],
   "source": [
    "cax = cumulative_df.query('group==\"B\"').plot(\n",
    "    x='date', y='orders_per_buyer', color='red', label='B', figsize=(15,5), ylim=(0.8,1.3) )\n",
    "cumulative_df.query('group==\"A\"').plot(\n",
    "    x='date', y='orders_per_buyer', color='blue', label='A', ax=cax )\n",
    "\n",
    "for i in range(1,30): plt.axvline(x=start_date+dt.timedelta(days=i), color='gray', linewidth=0.3) # а то grid не прорисовывает\n",
    "\n",
    "plt.title('вспомогательный график кумулятивного кол-ва заказов на покупателя (обе группы)')\n",
    "plt.xlabel('агрегирование на данную дату')\n",
    "plt.ylabel('количество заказов в шт.')\n",
    "plt.grid()\n",
    "plt.legend()\n",
    "plt.show()\n"
   ]
  },
  {
   "cell_type": "markdown",
   "id": "8f7ce503",
   "metadata": {},
   "source": [
    "### Расчет 95 и 99 перцентиля для количества заказов по каждому покупателю"
   ]
  },
  {
   "cell_type": "code",
   "execution_count": 35,
   "id": "9323e9aa",
   "metadata": {},
   "outputs": [
    {
     "name": "stdout",
     "output_type": "stream",
     "text": [
      "Отсечное значение для 95 перцентиля на уровне 1.0\n",
      "Отсечное значение для 99 перцентиля на уровне 2.0\n"
     ]
    }
   ],
   "source": [
    "print('Отсечное значение для 95 перцентиля на уровне', np.percentile(presentation_df, 95))\n",
    "print('Отсечное значение для 99 перцентиля на уровне', np.percentile(presentation_df, 99))"
   ]
  },
  {
   "cell_type": "markdown",
   "id": "f668bbca",
   "metadata": {},
   "source": [
    "### Решение по границе для аномальных значений `maxlim_nof_orders_per_buyer` ( или `buyers_black_list`)\n",
    "1. После удаления фликеров все аномальные значения исчезли, поэтому в реальной ситуации никакой необходимости в их удалении бы не возникло.\n",
    "2. Но чтобы сохранить содержательность отдельных последующих глав проекта установим границу для удаления аномальных значений заказов на покупателя на уровне 2 включительно:"
   ]
  },
  {
   "cell_type": "code",
   "execution_count": 36,
   "id": "c6bdb4d1",
   "metadata": {},
   "outputs": [
    {
     "data": {
      "text/html": [
       "<div>\n",
       "<style scoped>\n",
       "    .dataframe tbody tr th:only-of-type {\n",
       "        vertical-align: middle;\n",
       "    }\n",
       "\n",
       "    .dataframe tbody tr th {\n",
       "        vertical-align: top;\n",
       "    }\n",
       "\n",
       "    .dataframe thead th {\n",
       "        text-align: right;\n",
       "    }\n",
       "</style>\n",
       "<table border=\"1\" class=\"dataframe\">\n",
       "  <thead>\n",
       "    <tr style=\"text-align: right;\">\n",
       "      <th></th>\n",
       "      <th>before</th>\n",
       "      <th>after</th>\n",
       "      <th>change_%</th>\n",
       "    </tr>\n",
       "  </thead>\n",
       "  <tbody>\n",
       "    <tr>\n",
       "      <th>count</th>\n",
       "      <td>973.000000</td>\n",
       "      <td>966.000000</td>\n",
       "      <td>-0.72</td>\n",
       "    </tr>\n",
       "    <tr>\n",
       "      <th>mean</th>\n",
       "      <td>1.044193</td>\n",
       "      <td>1.030021</td>\n",
       "      <td>-1.36</td>\n",
       "    </tr>\n",
       "    <tr>\n",
       "      <th>std</th>\n",
       "      <td>0.238090</td>\n",
       "      <td>0.170733</td>\n",
       "      <td>-28.29</td>\n",
       "    </tr>\n",
       "    <tr>\n",
       "      <th>min</th>\n",
       "      <td>1.000000</td>\n",
       "      <td>1.000000</td>\n",
       "      <td>0.00</td>\n",
       "    </tr>\n",
       "    <tr>\n",
       "      <th>25%</th>\n",
       "      <td>1.000000</td>\n",
       "      <td>1.000000</td>\n",
       "      <td>0.00</td>\n",
       "    </tr>\n",
       "    <tr>\n",
       "      <th>50%</th>\n",
       "      <td>1.000000</td>\n",
       "      <td>1.000000</td>\n",
       "      <td>0.00</td>\n",
       "    </tr>\n",
       "    <tr>\n",
       "      <th>75%</th>\n",
       "      <td>1.000000</td>\n",
       "      <td>1.000000</td>\n",
       "      <td>0.00</td>\n",
       "    </tr>\n",
       "    <tr>\n",
       "      <th>max</th>\n",
       "      <td>3.000000</td>\n",
       "      <td>2.000000</td>\n",
       "      <td>-33.33</td>\n",
       "    </tr>\n",
       "  </tbody>\n",
       "</table>\n",
       "</div>"
      ],
      "text/plain": [
       "           before       after  change_%\n",
       "count  973.000000  966.000000     -0.72\n",
       "mean     1.044193    1.030021     -1.36\n",
       "std      0.238090    0.170733    -28.29\n",
       "min      1.000000    1.000000      0.00\n",
       "25%      1.000000    1.000000      0.00\n",
       "50%      1.000000    1.000000      0.00\n",
       "75%      1.000000    1.000000      0.00\n",
       "max      3.000000    2.000000    -33.33"
      ]
     },
     "execution_count": 36,
     "metadata": {},
     "output_type": "execute_result"
    }
   ],
   "source": [
    "maxlim_nof_orders_per_buyer = 2\n",
    "\n",
    "# однако быстро фильтровать по данному параметру не получится, так как в датасетах отсутствует данный столбец \n",
    "# поэтому составим черный список покупателей, превысивших данный лимит:\n",
    "buyers_black_list = list( orders_df.groupby(by='visitor_id',as_index=False).agg({'transaction_id':'nunique'}).query(\n",
    "    'transaction_id > @maxlim_nof_orders_per_buyer')['visitor_id'] )\n",
    "\n",
    "# посмотрим как повлияло удаление аномальных выбросов на статистику распределения кол-ва заказов на одного покупателя:\n",
    "before_df = orders_df.groupby(by='visitor_id',as_index=False).agg({'transaction_id':'nunique'}).rename(\n",
    "    columns={'transaction_id':'before'})\n",
    "after_df = before_df.query('visitor_id not in @buyers_black_list').rename(columns={'before':'after'})\n",
    "\n",
    "statistics_df = pd.DataFrame( [before_df['before'].describe(), after_df['after'].describe()] ).T\n",
    "statistics_df['change_%'] = round((statistics_df['after'] - statistics_df['before']) / statistics_df['before'] *100, 2)\n",
    "statistics_df"
   ]
  },
  {
   "cell_type": "markdown",
   "id": "69f9eef7",
   "metadata": {},
   "source": [
    "#### Выводы по влиянию удаления аномальных выбросов на распределение количества заказов по каждому покупателю\n",
    "1. Было выброшено 0.7% значений.\n",
    "2. Среднее значение уменьшилось на 1.4%.\n",
    "3. Существенным образом улучшилась дисперсия - стандартное отклонение \"похудело\" почти на 1/3.\n",
    "4. Все квартили остались на своих базовых значениях без изменений.\n",
    "5. Как уже говорилось, данное удаление носит чисто-технический характер - чтобы сохранить содержательность отдельных глав проекта в дальнейшем."
   ]
  },
  {
   "cell_type": "markdown",
   "id": "2bc8591f",
   "metadata": {},
   "source": [
    "## График поточечной развертки стоимости одного заказа (корректность 100%)\n",
    "\n",
    "Все действия с данными аналогичны действиям в прошлой главе, только проще - группировка датасета не нужна, так как датафрейм orders_df уже изначально содержит уникальные заказы:"
   ]
  },
  {
   "cell_type": "code",
   "execution_count": 37,
   "id": "de127bed",
   "metadata": {},
   "outputs": [
    {
     "data": {
      "image/png": "[encoded data removed]",
      "text/plain": [
       "<Figure size 1080x360 with 1 Axes>"
      ]
     },
     "metadata": {
      "needs_background": "light"
     },
     "output_type": "display_data"
    }
   ],
   "source": [
    "plt.figure(figsize=(15,5))\n",
    "#plt.yticks([i*10000 for i in range(11)])\n",
    "#plt.ylim(0,100000)\n",
    "plt.scatter( x=orders_df.index, y=orders_df['revenue'])\n",
    "plt.title('стоимость одного заказа (обе группы)')\n",
    "plt.xlabel('развертка по уникальным заказам (произвольный порядок)')\n",
    "plt.ylabel('цена заказа в у.е.')\n",
    "plt.grid()\n",
    "plt.show()\n"
   ]
  },
  {
   "cell_type": "markdown",
   "id": "4141e08c",
   "metadata": {},
   "source": [
    "**Вот тут уже точно видны выбросы, влияющие на статистику распределения!**\n",
    "\n",
    "Сделаем zoom на заказах в 10 раз - до 100000:"
   ]
  },
  {
   "cell_type": "code",
   "execution_count": 38,
   "id": "68fa804e",
   "metadata": {},
   "outputs": [
    {
     "data": {
      "image/png": "[encoded data removed]",
      "text/plain": [
       "<Figure size 1080x360 with 1 Axes>"
      ]
     },
     "metadata": {
      "needs_background": "light"
     },
     "output_type": "display_data"
    }
   ],
   "source": [
    "plt.figure(figsize=(15,5))\n",
    "plt.yticks([i*10000 for i in range(11)])\n",
    "plt.ylim(0,100000)\n",
    "plt.scatter( x=orders_df.index, y=orders_df['revenue'])\n",
    "plt.title('стоимость одного заказа (обе группы) - 10-кратный zoom на диапазоне заказов до 100000')\n",
    "plt.xlabel('развертка по уникальным заказам (произвольный порядок)')\n",
    "plt.ylabel('цена заказа в у.е.')\n",
    "plt.grid()\n",
    "plt.show()\n"
   ]
  },
  {
   "cell_type": "markdown",
   "id": "b2487a30",
   "metadata": {},
   "source": [
    "### Выводы по графику поточечной развертки стоимости одного заказа:\n",
    "1. Картина радикально отличается от аналогичной для кол-ва заказов по покупателям:\n",
    " * Значения в выбросах различаются на порядки величин;\n",
    " * Наблюдается в какой-то степени фрактальный тип поведения распределения: даже zoom в 10 раз не поменял характера распределения - все прижато к оси Х;\n",
    " * Только применение 10-кратного zoom во-второй раз (100-кратный в сумме) показывает нам что-то отличное от дельта-функции вблизи нуля!\n",
    "2. Таким образом, выбросы данного распределения сильнейшим образом искажают его статистику.\n",
    "3. Это совпадает с ожиданиями от предобработки данных исходных датасетов."
   ]
  },
  {
   "cell_type": "markdown",
   "id": "5c94c1ff",
   "metadata": {},
   "source": [
    "### Расчет 95 и 99 перцентиля для стоимости одного заказа"
   ]
  },
  {
   "cell_type": "code",
   "execution_count": 39,
   "id": "49bdcd56",
   "metadata": {},
   "outputs": [
    {
     "name": "stdout",
     "output_type": "stream",
     "text": [
      "Отсечное значение для 95 перцентиля на уровне 26785\n",
      "Отсечное значение для 99 перцентиля на уровне 53904\n"
     ]
    }
   ],
   "source": [
    "print('Отсечное значение для 95 перцентиля на уровне', round(np.percentile(orders_df['revenue'], 95)))\n",
    "print('Отсечное значение для 99 перцентиля на уровне', round(np.percentile(orders_df['revenue'], 99)))"
   ]
  },
  {
   "cell_type": "code",
   "execution_count": 40,
   "id": "4bfa660c",
   "metadata": {},
   "outputs": [
    {
     "data": {
      "text/plain": [
       "count       1016\n",
       "mean        8300\n",
       "std        42121\n",
       "min           50\n",
       "25%         1190\n",
       "50%         2955\n",
       "75%         8134\n",
       "max      1294500\n",
       "Name: revenue, dtype: int32"
      ]
     },
     "execution_count": 40,
     "metadata": {},
     "output_type": "execute_result"
    }
   ],
   "source": [
    "# вспомогательный вывод статистики стоимости одного заказа - повтор анализа из предобработки данных:\n",
    "orders_df['revenue'].describe().astype('int')"
   ]
  },
  {
   "cell_type": "markdown",
   "id": "e0a125ab",
   "metadata": {},
   "source": [
    "### Решение по границе для аномальных значений `maxlim_revenue_per_order`\n",
    "1. Аномальные выбросы со значениями в сотни раз превышающими медианные значения не дают нам увидеть межгрупповой эффект по основному бизнес-параметру - по ревеню.  Поэтому установление границы для отсечки аномальных значений по ревеню обязательно для успешного анализа.\n",
    "2. Основываясь на графике развертки и персентилях, а также на статистике датасета выше, граница отсечки принимается на уровне примерно 15-кратного медианного значения:"
   ]
  },
  {
   "cell_type": "code",
   "execution_count": 41,
   "id": "1bf03ecc",
   "metadata": {},
   "outputs": [],
   "source": [
    "maxlim_revenue_per_order = 45000"
   ]
  },
  {
   "cell_type": "code",
   "execution_count": 42,
   "id": "3027c9d0",
   "metadata": {},
   "outputs": [
    {
     "data": {
      "text/plain": [
       "count      998\n",
       "mean      5988\n",
       "std       7629\n",
       "min         50\n",
       "25%       1190\n",
       "50%       2840\n",
       "75%       7496\n",
       "max      43990\n",
       "Name: revenue, dtype: int32"
      ]
     },
     "execution_count": 42,
     "metadata": {},
     "output_type": "execute_result"
    }
   ],
   "source": [
    "# посмотрим, как это поменяет статистику распределения\n",
    "orders_df.query('revenue <= @maxlim_revenue_per_order')['revenue'].describe().astype('int')"
   ]
  },
  {
   "cell_type": "markdown",
   "id": "de9c62f0",
   "metadata": {},
   "source": [
    "#### Выводы по влиянию удаления аномальных выбросов на распределение цены одного заказа\n",
    "1. Было выброшено 1.8% значений.\n",
    "2. Медианное значение уменьшилось всего на 3.9% но при этом стандартное отклонение уменьшилось в 5.5 раза!\n",
    "3. Распределение осталось перекошенным:\n",
    " * среднее вдвое больше медианы;\n",
    " * стандартное отклонение больше среднего.\n",
    "4. Все это еще раз подтверждает закон Парето для распределений результатов человеческой деятельности.\n",
    "5. Однако наши маркетинговые инициативы, да и сам подход АВ-тестирования как критерия их успешности, адресуют именно \"серую массу\", поэтому удаление \"людей-Х\" из анализа должно способствовать повышению точности анализа АВ-теста."
   ]
  },
  {
   "cell_type": "markdown",
   "id": "431d6e09",
   "metadata": {},
   "source": [
    "## Исследование статистической значимости различий в конверсии между группами по «сырым» данным (условно-корректно)\n",
    "Для исследования статистической значимости нам нужны все пользователи групп с признаком покупатель или нет.  Как уже отмечалось ранее, для корректного определения таковых необходим исходный датасет по сессиям sessions_df, который отсутствует в исходных данных проекта из-за ошибки в теорчасти спринта.  Тут нам не поможет даже предположение о равности размеров групп.  Поэтому будем использовать ошибочный метод определения количества непокупателей в группах, принятый в спринте.\n",
    "\n",
    "**Дисклеймер**: сразу оговоримся, что поскольку неверный метод подсчета количеств непокупателей в группах завышает данную величину, то и статистическая значимость АВ-теста будет завышена.  То есть наша неверная оценка даже не является \"оценкой снизу\" в отношении статистической значимости.   Поэтом в реальной ситуации мы должны были бы затребовать датасет sessions_df для выводов про статистическую значимость.\n",
    "\n",
    "### Создание выборок для сравнения статистическим тестом"
   ]
  },
  {
   "cell_type": "code",
   "execution_count": 43,
   "id": "37777746",
   "metadata": {},
   "outputs": [
    {
     "name": "stdout",
     "output_type": "stream",
     "text": [
      "Кол-во покупателей в группе В (корректно):    528\n",
      "Кол-во непокупателей в группе В (из спринта): 18388\n",
      "Кол-во покупателей в группе A (корректно):    445\n",
      "Кол-во непокупателей в группе A (из спринта): 18291\n",
      "Размер группы В (из спринта):                 18916\n",
      "Размер группы A (из спринта):                 18736\n"
     ]
    }
   ],
   "source": [
    "buyers_list_B = list(orders_df.query('group==\"B\"').groupby(by='visitor_id').agg({'transaction_id':'nunique'})['transaction_id'])\n",
    "print('Кол-во покупателей в группе В (корректно):'.ljust(45), len(buyers_list_B))\n",
    "\n",
    "non_buyers_list_B = [0 for i in range(visitors_df.query('group==\"B\"')['visitors'].sum()-len(buyers_list_B))]\n",
    "print('Кол-во непокупателей в группе В (из спринта):'.ljust(45), len(non_buyers_list_B))\n",
    "\n",
    "buyers_list_A = list(orders_df.query('group==\"A\"').groupby(by='visitor_id').agg({'transaction_id':'nunique'})['transaction_id'])\n",
    "print('Кол-во покупателей в группе A (корректно):'.ljust(45), len(buyers_list_A))\n",
    "\n",
    "non_buyers_list_A = [0 for i in range(visitors_df.query('group==\"A\"')['visitors'].sum()-len(buyers_list_A))]\n",
    "print('Кол-во непокупателей в группе A (из спринта):'.ljust(45), len(non_buyers_list_A))\n",
    "\n",
    "CR_sample_B = buyers_list_B + non_buyers_list_B\n",
    "print('Размер группы В (из спринта):'.ljust(45), len(CR_sample_B))\n",
    "\n",
    "CR_sample_A = buyers_list_A + non_buyers_list_A\n",
    "print('Размер группы A (из спринта):'.ljust(45), len(CR_sample_A))"
   ]
  },
  {
   "cell_type": "markdown",
   "id": "5672b336",
   "metadata": {},
   "source": [
    "### Проверка нулевой гипотезы критерием Манна-Уитни\n",
    "Выбираем стандартным образом нулевую и альтернативную гипотезы:\n",
    "* $H_0$ - нулевая гипотеза о совпадении конверсий в группах А и В;\n",
    "* $H_1$ - альтернативная гипотеза о наличии статистически-значимого эффекта различия между группами А и В\n",
    "\n",
    "Выбираем уровни статистической значимости:\n",
    "* `pvalue <= 0.01        -` принимаем альтернативную гипотезу без продолжения тестирования;\n",
    "* `0.01 < pvalue <= 0.05 -` принимаем альтернативную гипотезу, но рекомендуем увеличить кол-во участников в группах и повторить тестирование 31 день;\n",
    "* `pvalue > 0.05         -` остаемся при нулевой гипотезе\n",
    "\n",
    "Проводим сравнение:"
   ]
  },
  {
   "cell_type": "code",
   "execution_count": 44,
   "id": "0c617443",
   "metadata": {},
   "outputs": [
    {
     "name": "stdout",
     "output_type": "stream",
     "text": [
      "pvalue по Манну-Уитни равен 0.011\n",
      "Конверсия в группе В превышает таковую в группе А на 17.5 %\n"
     ]
    }
   ],
   "source": [
    "st, pvalue = stats.mannwhitneyu(CR_sample_B, CR_sample_A)\n",
    "print('pvalue по Манну-Уитни равен', round(pvalue,4))\n",
    "\n",
    "print('Конверсия в группе В превышает таковую в группе А на', \n",
    "      round( 100* (np.mean(np.sign(CR_sample_B)) / np.mean(np.sign(CR_sample_A))-1), 1), '%')"
   ]
  },
  {
   "cell_type": "markdown",
   "id": "02126e73",
   "metadata": {},
   "source": [
    "### Выводы по статистической значимости различий в конверсии между группами по «сырым» данным:\n",
    "1. Статистическая значимость различий позволяет принять наличие эффекта.\n",
    "2. Текущая вероятность правильности заключения выше на уровне 98.9% повторяемости результата тестирования.\n",
    "3. Рекомендуется при наличии ресурса принять меры по повышению мощности теста до 99% - за счет увеличения размера групп.\n",
    "4. Простое продолжение тестирования не внесет существенных улучшений в статистическую значимость теста.\n",
    "5. Относительный эффект по конверсии между группами 17.5% в пользу В\n",
    "6. Вполне вероятно, что удаление аномальных значений улучшит статистическую значимость - проверка в следующей главе."
   ]
  },
  {
   "cell_type": "markdown",
   "id": "787873ed",
   "metadata": {},
   "source": [
    "## Исследование статистической значимости различий в конверсии между группами по «очищенным» данным (условно-корректно)\n",
    "Можно не повторять те же действия, но обрезать финальные образцы для сравнения\n",
    "\n",
    "### Создание выборок для сравнения статистическим тестом"
   ]
  },
  {
   "cell_type": "code",
   "execution_count": 45,
   "id": "12936d9f",
   "metadata": {},
   "outputs": [
    {
     "name": "stdout",
     "output_type": "stream",
     "text": [
      "Размер очищенной группы В (из спринта):       18914\n",
      "Размер очищенной группы A (из спринта):       18731\n"
     ]
    }
   ],
   "source": [
    "good_CR_sample_A = []\n",
    "for i in range(len(CR_sample_A)): \n",
    "    if CR_sample_A[i] <= maxlim_nof_orders_per_buyer:\n",
    "        good_CR_sample_A.append(CR_sample_A[i])\n",
    "\n",
    "good_CR_sample_B = []\n",
    "for i in range(len(CR_sample_B)): \n",
    "    if CR_sample_B[i] <= maxlim_nof_orders_per_buyer:\n",
    "        good_CR_sample_B.append(CR_sample_B[i])\n",
    "\n",
    "print('Размер очищенной группы В (из спринта):'.ljust(45), len(good_CR_sample_B))\n",
    "print('Размер очищенной группы A (из спринта):'.ljust(45), len(good_CR_sample_A))"
   ]
  },
  {
   "cell_type": "markdown",
   "id": "4efa8c43",
   "metadata": {},
   "source": [
    "### Проверка нулевой гипотезы критерием Манна-Уитни\n",
    "Выбираем стандартным образом нулевую и альтернативную гипотезы:\n",
    "* $H_0$ - нулевая гипотеза о совпадении конверсий в группах А и В;\n",
    "* $H_1$ - альтернативная гипотеза о наличии статистически-значимого эффекта различия между группами А и В\n",
    "\n",
    "Выбираем уровни статистической значимости:\n",
    "* `pvalue <= 0.01        -` принимаем альтернативную гипотезу без продолжения тестирования;\n",
    "* `0.01 < pvalue <= 0.05 -` принимаем альтернативную гипотезу, но рекомендуем увеличить кол-во участников в группах и повторить тестирование 31 день;\n",
    "* `pvalue > 0.05         -` остаемся при нулевой гипотезе\n",
    "\n",
    "Проводим сравнение:"
   ]
  },
  {
   "cell_type": "code",
   "execution_count": 46,
   "id": "6052d2c8",
   "metadata": {},
   "outputs": [
    {
     "name": "stdout",
     "output_type": "stream",
     "text": [
      "pvalue по Манну-Уитни равен 0.008\n",
      "Конверсия в группе В превышает таковую в группе А на 18.4 %\n"
     ]
    }
   ],
   "source": [
    "st, pvalue = stats.mannwhitneyu(good_CR_sample_B, good_CR_sample_A)\n",
    "print('pvalue по Манну-Уитни равен', round(pvalue,4))\n",
    "\n",
    "print('Конверсия в группе В превышает таковую в группе А на', \n",
    "      round( 100* (np.mean(np.sign(good_CR_sample_B)) / np.mean(np.sign(good_CR_sample_A)) -1), 1), '%')"
   ]
  },
  {
   "cell_type": "markdown",
   "id": "c063b4c8",
   "metadata": {},
   "source": [
    "### Выводы по статистической значимости различий в конверсии между группами по «очищенным» данным:\n",
    "1. Можно уверенно принять альтернативную гипотезу и признать наличие статистически значимого эффекта между группами по конверсии в пользу В.\n",
    "2. После отбрасывания аномальных значений pvalue улучшилось с 0.011 до 0.008, пройдя критический уровень 0.010 статистической значимости.\n",
    "3. Относительный эффект по конверсии между группами 18.4% в пользу В."
   ]
  },
  {
   "cell_type": "markdown",
   "id": "7c2ae0d2",
   "metadata": {},
   "source": [
    "## Исследование статистической значимости различий в среднем чеке заказа между группами по «сырым» данным (корректность 100%)\n",
    "В отличие от конверсии распределение стоимости чека по заказам - это сам датасет orders_df, и никаких заказов с нулевой суммой к нему пришивать не нужно! \n",
    "\n",
    "### Создание выборок для сравнения статистическим тестом"
   ]
  },
  {
   "cell_type": "code",
   "execution_count": 47,
   "id": "541bb918",
   "metadata": {},
   "outputs": [
    {
     "name": "stdout",
     "output_type": "stream",
     "text": [
      "Размер выборки заказов по группе В: 548\n",
      "Размер выборки заказов по группе A: 468\n"
     ]
    }
   ],
   "source": [
    "cheque_sample_B = list(orders_df.query('group==\"B\"')['revenue'])\n",
    "print('Размер выборки заказов по группе В:'.ljust(30), len(cheque_sample_B))\n",
    "\n",
    "cheque_sample_A = list(orders_df.query('group==\"A\"')['revenue'])\n",
    "print('Размер выборки заказов по группе A:'.ljust(30), len(cheque_sample_A))"
   ]
  },
  {
   "cell_type": "markdown",
   "id": "62e82a9f",
   "metadata": {},
   "source": [
    "### Проверка нулевой гипотезы критерием Манна-Уитни\n",
    "Выбираем стандартным образом нулевую и альтернативную гипотезы:\n",
    "* $H_0$ - нулевая гипотеза о совпадении стоимости среднего чека в группах А и В;\n",
    "* $H_1$ - альтернативная гипотеза о наличии статистически-значимого эффекта различия между группами А и В\n",
    "\n",
    "Выбираем уровни статистической значимости:\n",
    "* `pvalue <= 0.01        -` принимаем альтернативную гипотезу без продолжения тестирования;\n",
    "* `0.01 < pvalue <= 0.05 -` принимаем альтернативную гипотезу, но рекомендуем увеличить кол-во участников в группах и повторить тестирование 31 день;\n",
    "* `pvalue > 0.05         -` остаемся при нулевой гипотезе\n",
    "\n",
    "Проводим сравнение:"
   ]
  },
  {
   "cell_type": "code",
   "execution_count": 48,
   "id": "f9574f80",
   "metadata": {},
   "outputs": [
    {
     "name": "stdout",
     "output_type": "stream",
     "text": [
      "pvalue по Манну-Уитни равен 0.83\n",
      "Средний чек в группе В превышает таковой в группе А на 28.7 %\n"
     ]
    }
   ],
   "source": [
    "st, pvalue = stats.mannwhitneyu(cheque_sample_B, cheque_sample_A)\n",
    "print('pvalue по Манну-Уитни равен', round(pvalue,2))\n",
    "\n",
    "print('Средний чек в группе В превышает таковой в группе А на', \n",
    "      round(100*(np.mean(cheque_sample_B)/np.mean(cheque_sample_A) -1), 1), '%')"
   ]
  },
  {
   "cell_type": "markdown",
   "id": "1793efb0",
   "metadata": {},
   "source": [
    "### Выводы по статистической значимости различий в среднем чеке заказа между группами по «сырым» данным:\n",
    "1. Статистическая значимость различий не позволяет принять наличие эффекта.\n",
    "2. Нет основания отвергать нулевую гипотезу.\n",
    "3. Вполне вероятно, что удаление аномальных значений улучшит статистическую значимость - проверка в следующей главе."
   ]
  },
  {
   "cell_type": "markdown",
   "id": "8ad821ff",
   "metadata": {},
   "source": [
    "## Исследование статистической значимости различий в среднем чеке заказа между группами по «очищенным» данным (условно-корректно)\n",
    "Поскольку тут ничего не сшивается, а парамерт обрезания аномальных значений является полем датасета, то проще всего будет повторить код сборки датасетов, внеся изменение в условия среза данных.\n",
    "\n",
    "### Создание выборок для сравнения статистическим тестом"
   ]
  },
  {
   "cell_type": "code",
   "execution_count": 49,
   "id": "dcf95b5a",
   "metadata": {},
   "outputs": [
    {
     "name": "stdout",
     "output_type": "stream",
     "text": [
      "Размер очищенной выборки заказов по группе В: 541\n",
      "Размер очищенной выборки заказов по группе A: 457\n"
     ]
    }
   ],
   "source": [
    "good_cheque_sample_B = list(orders_df.query('group==\"B\" & revenue <= @maxlim_revenue_per_order')['revenue'])\n",
    "print('Размер очищенной выборки заказов по группе В:'.ljust(35), len(good_cheque_sample_B))\n",
    "\n",
    "good_cheque_sample_A = list(orders_df.query('group==\"A\" & revenue <= @maxlim_revenue_per_order')['revenue'])\n",
    "print('Размер очищенной выборки заказов по группе A:'.ljust(35), len(good_cheque_sample_A))"
   ]
  },
  {
   "cell_type": "markdown",
   "id": "053b5b88",
   "metadata": {},
   "source": [
    "### Проверка нулевой гипотезы критерием Манна-Уитни\n",
    "Выбираем стандартным образом нулевую и альтернативную гипотезы:\n",
    "* $H_0$ - нулевая гипотеза о совпадении среднего чека в группах А и В;\n",
    "* $H_1$ - альтернативная гипотеза о наличии статистически-значимого эффекта различия между группами А и В\n",
    "\n",
    "Выбираем уровни статистической значимости:\n",
    "* `pvalue <= 0.01        -` принимаем альтернативную гипотезу без продолжения тестирования;\n",
    "* `0.01 < pvalue <= 0.05 -` принимаем альтернативную гипотезу, но рекомендуем увеличить кол-во участников в группах и повторить тестирование 31 день;\n",
    "* `pvalue > 0.05         -` остаемся при нулевой гипотезе\n",
    "\n",
    "Проводим сравнение:"
   ]
  },
  {
   "cell_type": "code",
   "execution_count": 50,
   "id": "679b2c17",
   "metadata": {},
   "outputs": [
    {
     "name": "stdout",
     "output_type": "stream",
     "text": [
      "pvalue по Манну-Уитни равен 0.94\n",
      "Средний чек в группе В превышает таковой в группе А на 2.3 %\n"
     ]
    }
   ],
   "source": [
    "st, pvalue = stats.mannwhitneyu(good_cheque_sample_B, good_cheque_sample_A)\n",
    "print('pvalue по Манну-Уитни равен', round(pvalue,2))\n",
    "\n",
    "print('Средний чек в группе В превышает таковой в группе А на', \n",
    "      round(100*(np.mean(good_cheque_sample_B)/np.mean(good_cheque_sample_A)-1), 1), '%')"
   ]
  },
  {
   "cell_type": "markdown",
   "id": "83a9bc6c",
   "metadata": {},
   "source": [
    "### Выводы по статистической значимости различий в среднем чеке заказа между группами по «очищенным» данным:\n",
    "1. Статистическая значимость различий не позволяет принять наличие эффекта.\n",
    "2. Нет основания отвергать нулевую гипотезу.\n",
    "3. Удаление аномальных значений лишь добавило уверенности в оставлении нулевой гипотезы:\n",
    " * pvalue еще сильнее приблизилось к 1 - до 0.94;\n",
    " * радикальным образом сократилось различие в среднем чеке - всего 2%."
   ]
  },
  {
   "cell_type": "markdown",
   "id": "688a9dc7",
   "metadata": {},
   "source": [
    "## Дополнительное исследование статистической значимости различий в ARPPU между группами по «сырым» данным (корректность 100%)\n",
    "Поскольку эффект по увеличению среднего чека не получил подтверждение, анализ влияния различия между А и В на доходы подвис в воздухе.  Поэтому проведем еще одно исследование - LTV для платящего пользователя - или ARPPU.  Если эффект различия по ARPPU подтвердится, то в совокупности с уже подтвержденным эффектом для конверсии CR, из этого будет следовать и наличие подтвержденного эффекта для дохода, так как ДОХОД = ПОЛЬЗОВАТЕЛЬСКАЯ БАЗА * CR * ARPPU, и при росте двух последних множителей доход с одного и того же массового рынка тоже вырастет. \n",
    "\n",
    "### Создание выборок для сравнения статистическим тестом"
   ]
  },
  {
   "cell_type": "code",
   "execution_count": 51,
   "id": "fb46b434",
   "metadata": {},
   "outputs": [
    {
     "name": "stdout",
     "output_type": "stream",
     "text": [
      "Размер выборки ARPPU по группе В: 528\n",
      "Размер выборки ARPPU по группе A: 445\n"
     ]
    }
   ],
   "source": [
    "ARPPU_sample_B = list(orders_df.query('group==\"B\"').groupby('visitor_id').agg({'revenue':'sum'})['revenue'] )\n",
    "print('Размер выборки ARPPU по группе В:'.ljust(30), len(ARPPU_sample_B))\n",
    "\n",
    "ARPPU_sample_A = list(orders_df.query('group==\"A\"').groupby('visitor_id').agg({'revenue':'sum'})['revenue'] )\n",
    "print('Размер выборки ARPPU по группе A:'.ljust(30), len(ARPPU_sample_A))"
   ]
  },
  {
   "cell_type": "markdown",
   "id": "2697bbc2",
   "metadata": {},
   "source": [
    "### Проверка нулевой гипотезы критерием Манна-Уитни\n",
    "Выбираем стандартным образом нулевую и альтернативную гипотезы:\n",
    "* $H_0$ - нулевая гипотеза о совпадении ARPPU в группах А и В;\n",
    "* $H_1$ - альтернативная гипотеза о наличии статистически-значимого эффекта различия между группами А и В\n",
    "\n",
    "Выбираем уровни статистической значимости:\n",
    "* `pvalue <= 0.01        -` принимаем альтернативную гипотезу без продолжения тестирования;\n",
    "* `0.01 < pvalue <= 0.05 -` принимаем альтернативную гипотезу, но рекомендуем увеличить кол-во участников в группах и повторить тестирование 31 день;\n",
    "* `pvalue > 0.05         -` остаемся при нулевой гипотезе\n",
    "\n",
    "Проводим сравнение:"
   ]
  },
  {
   "cell_type": "code",
   "execution_count": 52,
   "id": "07b3070a",
   "metadata": {},
   "outputs": [
    {
     "name": "stdout",
     "output_type": "stream",
     "text": [
      "pvalue по Манну-Уитни равен 0.79\n",
      "ARPPU в группе В превышает таковой в группе А на 27.0 %\n"
     ]
    }
   ],
   "source": [
    "st, pvalue = stats.mannwhitneyu(ARPPU_sample_B, ARPPU_sample_A)\n",
    "print('pvalue по Манну-Уитни равен', round(pvalue,2))\n",
    "\n",
    "print('ARPPU в группе В превышает таковой в группе А на', \n",
    "      round(100*(np.mean(ARPPU_sample_B)/np.mean(ARPPU_sample_A) -1), 1), '%')"
   ]
  },
  {
   "cell_type": "markdown",
   "id": "f48cd21f",
   "metadata": {},
   "source": [
    "### Выводы по статистической значимости различий в среднем чеке заказа между группами по «сырым» данным:\n",
    "1. Статистическая значимость различий не позволяет принять наличие эффекта.\n",
    "2. Нет основания отвергать нулевую гипотезу.\n",
    "3. Вполне вероятно, что удаление аномальных значений улучшит статистическую значимость - проверка в следующей главе."
   ]
  },
  {
   "cell_type": "markdown",
   "id": "c09c4a53",
   "metadata": {},
   "source": [
    "## Дополнительное исследование статистической значимости различий в ARPPU между группами по «очищенным» данным (корректность 100%)\n",
    "Поскольку тут ничего не сшивается, а парамерт обрезания аномальных значений является полем датасета, то проще всего будет повторить код сборки датасетов, внеся изменение в условия среза данных.\n",
    "\n",
    "### Создание выборок для сравнения статистическим тестом"
   ]
  },
  {
   "cell_type": "code",
   "execution_count": 53,
   "id": "4321d2f3",
   "metadata": {},
   "outputs": [
    {
     "name": "stdout",
     "output_type": "stream",
     "text": [
      "Размер очищенной выборки ARPPU по группе В: 528\n",
      "Размер очищенной выборки ARPPU по группе A: 445\n"
     ]
    }
   ],
   "source": [
    "good_ARPPU_sample_B = list(orders_df.query('group==\"B\" & revenue <= @maxlim_revenue_per_order').groupby(\n",
    "    'visitor_id').agg({'revenue':'sum'})['revenue'] )\n",
    "print('Размер очищенной выборки ARPPU по группе В:'.ljust(35), len(ARPPU_sample_B))\n",
    "\n",
    "good_ARPPU_sample_A = list(orders_df.query('group==\"A\" & revenue <= @maxlim_revenue_per_order').groupby(\n",
    "    'visitor_id').agg({'revenue':'sum'})['revenue'] )\n",
    "print('Размер очищенной выборки ARPPU по группе A:'.ljust(35), len(ARPPU_sample_A))"
   ]
  },
  {
   "cell_type": "markdown",
   "id": "57449a46",
   "metadata": {},
   "source": [
    "### Проверка нулевой гипотезы критерием Манна-Уитни\n",
    "Выбираем стандартным образом нулевую и альтернативную гипотезы:\n",
    "* $H_0$ - нулевая гипотеза о совпадении ARPPU в группах А и В;\n",
    "* $H_1$ - альтернативная гипотеза о наличии статистически-значимого эффекта различия между группами А и В\n",
    "\n",
    "Выбираем уровни статистической значимости:\n",
    "* `pvalue <= 0.01        -` принимаем альтернативную гипотезу без продолжения тестирования;\n",
    "* `0.01 < pvalue <= 0.05 -` принимаем альтернативную гипотезу, но рекомендуем увеличить кол-во участников в группах и повторить тестирование 31 день;\n",
    "* `pvalue > 0.05         -` остаемся при нулевой гипотезе\n",
    "\n",
    "Проводим сравнение:"
   ]
  },
  {
   "cell_type": "code",
   "execution_count": 54,
   "id": "f4b894b1",
   "metadata": {},
   "outputs": [
    {
     "name": "stdout",
     "output_type": "stream",
     "text": [
      "pvalue по Манну-Уитни равен 0.99\n",
      "ARPPU в группе В превышает таковой в группе А на 1.1 %\n"
     ]
    }
   ],
   "source": [
    "st, pvalue = stats.mannwhitneyu(good_ARPPU_sample_B, good_ARPPU_sample_A)\n",
    "print('pvalue по Манну-Уитни равен', round(pvalue,2))\n",
    "\n",
    "print('ARPPU в группе В превышает таковой в группе А на', \n",
    "      round(100*(np.mean(good_ARPPU_sample_B)/np.mean(good_ARPPU_sample_A)-1), 1), '%')"
   ]
  },
  {
   "cell_type": "markdown",
   "id": "c2d0816b",
   "metadata": {},
   "source": [
    "### Выводы по статистической значимости различий в среднем чеке заказа между группами по «очищенным» данным:\n",
    "1. Статистическая значимость различий не позволяет принять наличие эффекта.\n",
    "2. Нет основания отвергать нулевую гипотезу.\n",
    "3. Удаление аномальных значений лишь добавило уверенности в оставлении нулевой гипотезы:\n",
    " * pvalue еще сильнее приблизилось к 1 - до 0.99;\n",
    " * радикальным образом сократилось различие в среднем чеке - до 1%."
   ]
  },
  {
   "cell_type": "markdown",
   "id": "66891bf9",
   "metadata": {},
   "source": [
    "## Дополнительный график кумулятивной выручки по группам - теперь по «очищенным» данным (корректность 100%)\n",
    "Итак ни ARPPU, ни средний чек не показали эффекта, эффект был статистически достоверным только для конверсии, но исходная бизнес-цель - найим способы увеличения доходов, поэтому опять сравним выручку.  Теперь без влияния аномальных выбросов.\n",
    "\n",
    "### Пересборка датасета без аномалий `good_orders_cumul_df`"
   ]
  },
  {
   "cell_type": "code",
   "execution_count": 55,
   "id": "ed5cdc86",
   "metadata": {},
   "outputs": [
    {
     "name": "stdout",
     "output_type": "stream",
     "text": [
      "<class 'pandas.core.frame.DataFrame'>\n",
      "RangeIndex: 62 entries, 0 to 61\n",
      "Data columns (total 8 columns):\n",
      " #   Column             Non-Null Count  Dtype         \n",
      "---  ------             --------------  -----         \n",
      " 0   group              62 non-null     object        \n",
      " 1   nof_orders_unique  62 non-null     int64         \n",
      " 2   nof_buyers_unique  62 non-null     int64         \n",
      " 3   cumul_revenue      62 non-null     int64         \n",
      " 4   date               62 non-null     datetime64[ns]\n",
      " 5   avg_cheque         62 non-null     float64       \n",
      " 6   ARPPU              62 non-null     float64       \n",
      " 7   orders_per_buyer   62 non-null     float64       \n",
      "dtypes: datetime64[ns](1), float64(3), int64(3), object(1)\n",
      "memory usage: 4.0+ KB\n"
     ]
    },
    {
     "data": {
      "text/html": [
       "<div>\n",
       "<style scoped>\n",
       "    .dataframe tbody tr th:only-of-type {\n",
       "        vertical-align: middle;\n",
       "    }\n",
       "\n",
       "    .dataframe tbody tr th {\n",
       "        vertical-align: top;\n",
       "    }\n",
       "\n",
       "    .dataframe thead th {\n",
       "        text-align: right;\n",
       "    }\n",
       "</style>\n",
       "<table border=\"1\" class=\"dataframe\">\n",
       "  <thead>\n",
       "    <tr style=\"text-align: right;\">\n",
       "      <th></th>\n",
       "      <th>group</th>\n",
       "      <th>nof_orders_unique</th>\n",
       "      <th>nof_buyers_unique</th>\n",
       "      <th>cumul_revenue</th>\n",
       "      <th>date</th>\n",
       "      <th>avg_cheque</th>\n",
       "      <th>ARPPU</th>\n",
       "      <th>orders_per_buyer</th>\n",
       "    </tr>\n",
       "  </thead>\n",
       "  <tbody>\n",
       "    <tr>\n",
       "      <th>0</th>\n",
       "      <td>A</td>\n",
       "      <td>18</td>\n",
       "      <td>17</td>\n",
       "      <td>112340</td>\n",
       "      <td>2019-08-01</td>\n",
       "      <td>6241.1</td>\n",
       "      <td>6608.2</td>\n",
       "      <td>1.059</td>\n",
       "    </tr>\n",
       "    <tr>\n",
       "      <th>1</th>\n",
       "      <td>B</td>\n",
       "      <td>17</td>\n",
       "      <td>17</td>\n",
       "      <td>59758</td>\n",
       "      <td>2019-08-01</td>\n",
       "      <td>3515.2</td>\n",
       "      <td>3515.2</td>\n",
       "      <td>1.000</td>\n",
       "    </tr>\n",
       "    <tr>\n",
       "      <th>2</th>\n",
       "      <td>A</td>\n",
       "      <td>36</td>\n",
       "      <td>34</td>\n",
       "      <td>202252</td>\n",
       "      <td>2019-08-02</td>\n",
       "      <td>5618.1</td>\n",
       "      <td>5948.6</td>\n",
       "      <td>1.059</td>\n",
       "    </tr>\n",
       "    <tr>\n",
       "      <th>3</th>\n",
       "      <td>B</td>\n",
       "      <td>40</td>\n",
       "      <td>39</td>\n",
       "      <td>221801</td>\n",
       "      <td>2019-08-02</td>\n",
       "      <td>5545.0</td>\n",
       "      <td>5687.2</td>\n",
       "      <td>1.026</td>\n",
       "    </tr>\n",
       "    <tr>\n",
       "      <th>4</th>\n",
       "      <td>A</td>\n",
       "      <td>60</td>\n",
       "      <td>58</td>\n",
       "      <td>314725</td>\n",
       "      <td>2019-08-03</td>\n",
       "      <td>5245.4</td>\n",
       "      <td>5426.3</td>\n",
       "      <td>1.034</td>\n",
       "    </tr>\n",
       "    <tr>\n",
       "      <th>...</th>\n",
       "      <td>...</td>\n",
       "      <td>...</td>\n",
       "      <td>...</td>\n",
       "      <td>...</td>\n",
       "      <td>...</td>\n",
       "      <td>...</td>\n",
       "      <td>...</td>\n",
       "      <td>...</td>\n",
       "    </tr>\n",
       "    <tr>\n",
       "      <th>57</th>\n",
       "      <td>B</td>\n",
       "      <td>498</td>\n",
       "      <td>482</td>\n",
       "      <td>2948003</td>\n",
       "      <td>2019-08-29</td>\n",
       "      <td>5919.7</td>\n",
       "      <td>6116.2</td>\n",
       "      <td>1.033</td>\n",
       "    </tr>\n",
       "    <tr>\n",
       "      <th>58</th>\n",
       "      <td>A</td>\n",
       "      <td>434</td>\n",
       "      <td>422</td>\n",
       "      <td>2544381</td>\n",
       "      <td>2019-08-30</td>\n",
       "      <td>5862.6</td>\n",
       "      <td>6029.3</td>\n",
       "      <td>1.028</td>\n",
       "    </tr>\n",
       "    <tr>\n",
       "      <th>59</th>\n",
       "      <td>B</td>\n",
       "      <td>518</td>\n",
       "      <td>502</td>\n",
       "      <td>3111446</td>\n",
       "      <td>2019-08-30</td>\n",
       "      <td>6006.7</td>\n",
       "      <td>6198.1</td>\n",
       "      <td>1.032</td>\n",
       "    </tr>\n",
       "    <tr>\n",
       "      <th>60</th>\n",
       "      <td>A</td>\n",
       "      <td>442</td>\n",
       "      <td>430</td>\n",
       "      <td>2597624</td>\n",
       "      <td>2019-08-31</td>\n",
       "      <td>5877.0</td>\n",
       "      <td>6041.0</td>\n",
       "      <td>1.028</td>\n",
       "    </tr>\n",
       "    <tr>\n",
       "      <th>61</th>\n",
       "      <td>B</td>\n",
       "      <td>535</td>\n",
       "      <td>519</td>\n",
       "      <td>3224585</td>\n",
       "      <td>2019-08-31</td>\n",
       "      <td>6027.3</td>\n",
       "      <td>6213.1</td>\n",
       "      <td>1.031</td>\n",
       "    </tr>\n",
       "  </tbody>\n",
       "</table>\n",
       "<p>62 rows × 8 columns</p>\n",
       "</div>"
      ],
      "text/plain": [
       "   group  nof_orders_unique  nof_buyers_unique  cumul_revenue       date  \\\n",
       "0      A                 18                 17         112340 2019-08-01   \n",
       "1      B                 17                 17          59758 2019-08-01   \n",
       "2      A                 36                 34         202252 2019-08-02   \n",
       "3      B                 40                 39         221801 2019-08-02   \n",
       "4      A                 60                 58         314725 2019-08-03   \n",
       "..   ...                ...                ...            ...        ...   \n",
       "57     B                498                482        2948003 2019-08-29   \n",
       "58     A                434                422        2544381 2019-08-30   \n",
       "59     B                518                502        3111446 2019-08-30   \n",
       "60     A                442                430        2597624 2019-08-31   \n",
       "61     B                535                519        3224585 2019-08-31   \n",
       "\n",
       "    avg_cheque   ARPPU  orders_per_buyer  \n",
       "0       6241.1  6608.2             1.059  \n",
       "1       3515.2  3515.2             1.000  \n",
       "2       5618.1  5948.6             1.059  \n",
       "3       5545.0  5687.2             1.026  \n",
       "4       5245.4  5426.3             1.034  \n",
       "..         ...     ...               ...  \n",
       "57      5919.7  6116.2             1.033  \n",
       "58      5862.6  6029.3             1.028  \n",
       "59      6006.7  6198.1             1.032  \n",
       "60      5877.0  6041.0             1.028  \n",
       "61      6027.3  6213.1             1.031  \n",
       "\n",
       "[62 rows x 8 columns]"
      ]
     },
     "execution_count": 55,
     "metadata": {},
     "output_type": "execute_result"
    }
   ],
   "source": [
    "for i in range(31):\n",
    "    d_day = start_date + dt.timedelta(days=i) \n",
    "    \n",
    "    pair_of_lines = orders_df.query( # здесь ограничим аномалии\n",
    "        'date <= @d_day & revenue <= @maxlim_revenue_per_order & visitor_id not in @buyers_black_list').groupby( \n",
    "        by=['group'], as_index=False).agg({\n",
    "        'transaction_id' : 'nunique', # получим сразу не только стоимость заказа, но и веса для удельных метрик\n",
    "        'visitor_id' : 'nunique',     # получим сразу не только стоимость заказа, но и веса для удельных метрик\n",
    "        'revenue' : 'sum'\n",
    "    })\n",
    "    pair_of_lines['date'] = pd.Series([d_day,d_day]).T\n",
    "    \n",
    "    if i == 0: good_orders_cumul_df = pair_of_lines\n",
    "    else: good_orders_cumul_df = good_orders_cumul_df.append(pair_of_lines)\n",
    "    \n",
    "good_orders_cumul_df = good_orders_cumul_df.rename(columns={\n",
    "    'transaction_id' : 'nof_orders_unique',\n",
    "    'visitor_id' : 'nof_buyers_unique',\n",
    "    'revenue' : 'cumul_revenue'\n",
    "}).reset_index(drop=True)\n",
    "\n",
    "# добавим сразу имеющие смысл удельные метрики\n",
    "good_orders_cumul_df['avg_cheque'] = round( \n",
    "    good_orders_cumul_df['cumul_revenue'] / good_orders_cumul_df['nof_orders_unique'], 1)\n",
    "good_orders_cumul_df['ARPPU'] = round( \n",
    "    good_orders_cumul_df['cumul_revenue'] / good_orders_cumul_df['nof_buyers_unique'], 1)\n",
    "good_orders_cumul_df['orders_per_buyer'] = round( \n",
    "    good_orders_cumul_df['nof_orders_unique'] / good_orders_cumul_df['nof_buyers_unique'], 3)\n",
    "\n",
    "good_orders_cumul_df.info() # убедимся про типы\n",
    "good_orders_cumul_df # посмотрим результат как таблицу"
   ]
  },
  {
   "cell_type": "code",
   "execution_count": 56,
   "id": "a7a5e0a0",
   "metadata": {},
   "outputs": [
    {
     "data": {
      "image/png": "[encoded data removed]",
      "text/plain": [
       "<Figure size 1080x360 with 1 Axes>"
      ]
     },
     "metadata": {
      "needs_background": "light"
     },
     "output_type": "display_data"
    }
   ],
   "source": [
    "cax = good_orders_cumul_df.query('group==\"A\"').plot(x='date', y='cumul_revenue', color='blue', label='A', figsize=(15,5))\n",
    "good_orders_cumul_df.query('group==\"B\"').plot(ax=cax, x='date', y='cumul_revenue', color='red', label='B')\n",
    "\n",
    "for i in range(1,30): plt.axvline(x=start_date+dt.timedelta(days=i), color='gray', linewidth=0.3) # а то grid не прорисовывает\n",
    "\n",
    "plt.title('кумулятивная выручка со дня старта АВ-тестирования - после удаления выбросов')\n",
    "plt.xlabel('агрегирование на данную дату')\n",
    "plt.ylabel('выручка в миллионах у.е.')\n",
    "plt.grid()\n",
    "plt.legend()\n",
    "plt.show()\n"
   ]
  },
  {
   "cell_type": "code",
   "execution_count": 57,
   "id": "7b1a0100",
   "metadata": {},
   "outputs": [
    {
     "data": {
      "text/html": [
       "<div>\n",
       "<style scoped>\n",
       "    .dataframe tbody tr th:only-of-type {\n",
       "        vertical-align: middle;\n",
       "    }\n",
       "\n",
       "    .dataframe tbody tr th {\n",
       "        vertical-align: top;\n",
       "    }\n",
       "\n",
       "    .dataframe thead th {\n",
       "        text-align: right;\n",
       "    }\n",
       "</style>\n",
       "<table border=\"1\" class=\"dataframe\">\n",
       "  <thead>\n",
       "    <tr style=\"text-align: right;\">\n",
       "      <th></th>\n",
       "      <th>nof_orders_unique</th>\n",
       "      <th>nof_buyers_unique</th>\n",
       "      <th>cumul_revenue</th>\n",
       "      <th>avg_cheque</th>\n",
       "      <th>ARPPU</th>\n",
       "      <th>orders_per_buyer</th>\n",
       "    </tr>\n",
       "    <tr>\n",
       "      <th>date</th>\n",
       "      <th></th>\n",
       "      <th></th>\n",
       "      <th></th>\n",
       "      <th></th>\n",
       "      <th></th>\n",
       "      <th></th>\n",
       "    </tr>\n",
       "  </thead>\n",
       "  <tbody>\n",
       "    <tr>\n",
       "      <th>2019-08-27</th>\n",
       "      <td>1.167</td>\n",
       "      <td>1.164</td>\n",
       "      <td>1.253</td>\n",
       "      <td>1.074</td>\n",
       "      <td>1.077</td>\n",
       "      <td>1.003</td>\n",
       "    </tr>\n",
       "    <tr>\n",
       "      <th>2019-08-28</th>\n",
       "      <td>1.178</td>\n",
       "      <td>1.176</td>\n",
       "      <td>1.228</td>\n",
       "      <td>1.042</td>\n",
       "      <td>1.044</td>\n",
       "      <td>1.002</td>\n",
       "    </tr>\n",
       "    <tr>\n",
       "      <th>2019-08-29</th>\n",
       "      <td>1.166</td>\n",
       "      <td>1.161</td>\n",
       "      <td>1.174</td>\n",
       "      <td>1.007</td>\n",
       "      <td>1.011</td>\n",
       "      <td>1.004</td>\n",
       "    </tr>\n",
       "    <tr>\n",
       "      <th>2019-08-30</th>\n",
       "      <td>1.194</td>\n",
       "      <td>1.190</td>\n",
       "      <td>1.223</td>\n",
       "      <td>1.025</td>\n",
       "      <td>1.028</td>\n",
       "      <td>1.004</td>\n",
       "    </tr>\n",
       "    <tr>\n",
       "      <th>2019-08-31</th>\n",
       "      <td>1.210</td>\n",
       "      <td>1.207</td>\n",
       "      <td>1.241</td>\n",
       "      <td>1.026</td>\n",
       "      <td>1.028</td>\n",
       "      <td>1.003</td>\n",
       "    </tr>\n",
       "  </tbody>\n",
       "</table>\n",
       "</div>"
      ],
      "text/plain": [
       "            nof_orders_unique  nof_buyers_unique  cumul_revenue  avg_cheque  \\\n",
       "date                                                                          \n",
       "2019-08-27              1.167              1.164          1.253       1.074   \n",
       "2019-08-28              1.178              1.176          1.228       1.042   \n",
       "2019-08-29              1.166              1.161          1.174       1.007   \n",
       "2019-08-30              1.194              1.190          1.223       1.025   \n",
       "2019-08-31              1.210              1.207          1.241       1.026   \n",
       "\n",
       "            ARPPU  orders_per_buyer  \n",
       "date                                 \n",
       "2019-08-27  1.077             1.003  \n",
       "2019-08-28  1.044             1.002  \n",
       "2019-08-29  1.011             1.004  \n",
       "2019-08-30  1.028             1.004  \n",
       "2019-08-31  1.028             1.003  "
      ]
     },
     "execution_count": 57,
     "metadata": {},
     "output_type": "execute_result"
    }
   ],
   "source": [
    "B_over_A_good_orders_cumul_df = round(\n",
    "    good_orders_cumul_df.query('group==\"B\"').drop(columns='group').set_index('date') / \n",
    "    good_orders_cumul_df.query('group==\"A\"').drop(columns='group').set_index('date'), 3\n",
    ")\n",
    "\n",
    "B_over_A_good_orders_cumul_df.tail()"
   ]
  },
  {
   "cell_type": "code",
   "execution_count": 58,
   "id": "22a20013",
   "metadata": {},
   "outputs": [
    {
     "data": {
      "image/png": "[encoded data removed]",
      "text/plain": [
       "<Figure size 1080x360 with 1 Axes>"
      ]
     },
     "metadata": {
      "needs_background": "light"
     },
     "output_type": "display_data"
    }
   ],
   "source": [
    "B_over_A_good_orders_cumul_df.plot( y='cumul_revenue', color='green', label='B/A', figsize=(15,5), ylim=(0.8,1.6) )\n",
    "\n",
    "plt.axhline(y=1, color='red', label='zero effect level', linestyle='--')\n",
    "for i in range(1,30): plt.axvline(x=start_date+dt.timedelta(days=i), color='gray', linewidth=0.3) # а то grid не прорисовывает\n",
    "\n",
    "plt.title('относительное изменение кумулятивной выручки группы B к группе A - со дня старта АВ-тестирования')\n",
    "plt.xlabel('агрегирование на данную дату')\n",
    "plt.ylabel('выручка в В / выручка в А')\n",
    "plt.grid()\n",
    "plt.legend()\n",
    "plt.show()"
   ]
  },
  {
   "cell_type": "markdown",
   "id": "a74d1780",
   "metadata": {},
   "source": [
    "### Выводы по графику кумулятивной выручки по группам по «очищенным» данным:\n",
    "1. Выручка в группе В на 25% +/- 8% стабильно выше выручки в группе А.  Диапазон включает найденную ранее статистически значимую разницу в конверсии CR между группами на уровне 18%. \n",
    "2. К 20 августа результаты можно считать устоявшимися - далее относительное значение флюктуирует из-за крупного масштаба графика.\n",
    "3.  Если размеры групп были одинаковыми - нам это неизвестно в силу неполноты исходных данных проекта - то эффект можно считать подтвержденным."
   ]
  },
  {
   "cell_type": "markdown",
   "id": "f6bec0ea",
   "metadata": {},
   "source": [
    "## Результаты АВ-тестирования\n",
    "**Тест следует остановить на 31-й день со следующими результатами**:\n",
    "1. АВ-тестирование показало статистически значимый эффект в конверсии пользователей в покупатели на уровне 18% в пользу группы В.\n",
    "2. АВ-тестирование не выявило статистически значимых различий в размере среднего чека и в ARPPU между группами.\n",
    "2. Кумулятивные метрики подтвердили, что переходные процессы в тесте завершились примерно на 2/3 срока тестирования - простое продолжение тестирования как есть не улучшит статистической значимости результатов.\n",
    "3. Анализ теста столкнулся с объективными недостатками, которые сильно препятствовали количественному анализу результатов:\n",
    " * процент фликеров сменивших группу в ходе проведения теста аномально высок - порядка 15%;\n",
    " * в исходных данных для анализа не представлен лог сессий пользователей, но только аггрегированные данные визитов по дням, что искажает метрики при выбрасывании пользователей и аномалий;\n",
    " * отсутствуют списки групп и даже информация об их реальных размерах.\n",
    "4. Возможно, повтор тестирования после исправления перечисленных недостатков позволит сделать статистически достоверные заключения о среднем чеке и ARPPU, но в текущем виде продолжать тест нет причин.\n",
    "5. Графики кумулятивной выручки показывают уверенное отличие доходов в группе В - на 25% +/- 8% по сравнению с группой А, что при условии равности групп также подтверждает наличие эффекта по результатам АВ-тестирования\n",
    "\n",
    "**В целом тест следует признать успешным, а маркетинговую инициативу следует запускать весь на рынок, при условии, что ее ROI также уверенно больше 1 - прогноз повышения дохода в сегменте репрезентованном выборками групп на 25% от текущего, маркетинговые затраты нам не известны, чтобы проанализировать ROI здесь**"
   ]
  },
  {
   "cell_type": "markdown",
   "id": "f3c64883",
   "metadata": {},
   "source": [
    "# <КОНЕЦ ДОКУМЕНТА>"
   ]
  },
  {
   "cell_type": "code",
   "execution_count": 59,
   "id": "c98f6d07",
   "metadata": {
    "scrolled": false
   },
   "outputs": [
    {
     "name": "stdout",
     "output_type": "stream",
     "text": [
      "If you see this, then you know that the run-all-cells command has been executed successfully!\n"
     ]
    }
   ],
   "source": [
    "print('If you see this, then you know that the run-all-cells command has been executed successfully!')"
   ]
  }
 ],
 "metadata": {
  "kernelspec": {
   "display_name": "Python 3 (ipykernel)",
   "language": "python",
   "name": "python3"
  },
  "language_info": {
   "codemirror_mode": {
    "name": "ipython",
    "version": 3
   },
   "file_extension": ".py",
   "mimetype": "text/x-python",
   "name": "python",
   "nbconvert_exporter": "python",
   "pygments_lexer": "ipython3",
   "version": "3.9.12"
  }
 },
 "nbformat": 4,
 "nbformat_minor": 5
}
